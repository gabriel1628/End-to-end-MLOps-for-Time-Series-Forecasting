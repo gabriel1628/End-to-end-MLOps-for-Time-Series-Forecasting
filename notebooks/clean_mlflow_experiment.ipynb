{
 "cells": [
  {
   "cell_type": "code",
   "execution_count": 1,
   "id": "4d4f127a",
   "metadata": {},
   "outputs": [],
   "source": [
    "import mlflow\n",
    "from mlflow import MlflowClient\n",
    "from dotenv import dotenv_values"
   ]
  },
  {
   "cell_type": "code",
   "execution_count": 2,
   "id": "1132a2e6",
   "metadata": {},
   "outputs": [],
   "source": [
    "import sys\n",
    "\n",
    "env_vars = dotenv_values(\"../.env\")\n",
    "sys.path.append(f\"{env_vars['WORKING_DIR']}\")\n",
    "from utils import load_config\n",
    "\n",
    "config = load_config(\"../config/development/config.yaml\")"
   ]
  },
  {
   "cell_type": "markdown",
   "id": "353ae69b",
   "metadata": {},
   "source": [
    "From a terminal, in the same repo as your mlruns directory, run:\n",
    "```\n",
    "mlflow server --host 127.0.0.1 --port 5000\n",
    "```"
   ]
  },
  {
   "cell_type": "code",
   "execution_count": 3,
   "id": "76cc733e",
   "metadata": {},
   "outputs": [
    {
     "data": {
      "text/html": [
       "<div>\n",
       "<style scoped>\n",
       "    .dataframe tbody tr th:only-of-type {\n",
       "        vertical-align: middle;\n",
       "    }\n",
       "\n",
       "    .dataframe tbody tr th {\n",
       "        vertical-align: top;\n",
       "    }\n",
       "\n",
       "    .dataframe thead th {\n",
       "        text-align: right;\n",
       "    }\n",
       "</style>\n",
       "<table border=\"1\" class=\"dataframe\">\n",
       "  <thead>\n",
       "    <tr style=\"text-align: right;\">\n",
       "      <th></th>\n",
       "      <th>run_id</th>\n",
       "      <th>experiment_id</th>\n",
       "      <th>status</th>\n",
       "      <th>artifact_uri</th>\n",
       "      <th>start_time</th>\n",
       "      <th>end_time</th>\n",
       "      <th>metrics.train_mae</th>\n",
       "      <th>metrics.test_mae</th>\n",
       "      <th>metrics.training_duration</th>\n",
       "      <th>params.num_trees</th>\n",
       "      <th>params.feature_fraction</th>\n",
       "      <th>params.max_depth</th>\n",
       "      <th>params.num_leaves</th>\n",
       "      <th>params.learning_rate</th>\n",
       "      <th>tags.mlflow.source.name</th>\n",
       "      <th>tags.mlflow.source.git.commit</th>\n",
       "      <th>tags.mlflow.user</th>\n",
       "      <th>tags.mlflow.source.type</th>\n",
       "      <th>tags.mlflow.runName</th>\n",
       "      <th>tags.mlflow.log-model.history</th>\n",
       "    </tr>\n",
       "  </thead>\n",
       "  <tbody>\n",
       "    <tr>\n",
       "      <th>0</th>\n",
       "      <td>54560700f31343be81d3065110ba6d87</td>\n",
       "      <td>215806994480999889</td>\n",
       "      <td>FINISHED</td>\n",
       "      <td>mlflow-artifacts:/215806994480999889/54560700f...</td>\n",
       "      <td>2025-05-03 06:53:28.191000+00:00</td>\n",
       "      <td>2025-05-03 06:53:35.628000+00:00</td>\n",
       "      <td>267.450256</td>\n",
       "      <td>276.514219</td>\n",
       "      <td>0.631784</td>\n",
       "      <td>8</td>\n",
       "      <td>0.3962723889353149</td>\n",
       "      <td>6</td>\n",
       "      <td>24</td>\n",
       "      <td>0.09906308908786306</td>\n",
       "      <td>train.py</td>\n",
       "      <td>da8acbc0b8c1c3f7b3fbae9a652bfbd61a8ef941</td>\n",
       "      <td>gabriel</td>\n",
       "      <td>LOCAL</td>\n",
       "      <td>TrialNumber35-20250503T065327UTC</td>\n",
       "      <td>[{\"run_id\": \"54560700f31343be81d3065110ba6d87\"...</td>\n",
       "    </tr>\n",
       "    <tr>\n",
       "      <th>1</th>\n",
       "      <td>8c1446a5f1424e06a1febd5163a17330</td>\n",
       "      <td>215806994480999889</td>\n",
       "      <td>FINISHED</td>\n",
       "      <td>mlflow-artifacts:/215806994480999889/8c1446a5f...</td>\n",
       "      <td>2025-05-03 05:51:55.345000+00:00</td>\n",
       "      <td>2025-05-03 05:52:06.041000+00:00</td>\n",
       "      <td>63.773141</td>\n",
       "      <td>103.473742</td>\n",
       "      <td>1.569685</td>\n",
       "      <td>None</td>\n",
       "      <td>None</td>\n",
       "      <td>None</td>\n",
       "      <td>None</td>\n",
       "      <td>None</td>\n",
       "      <td>train.py</td>\n",
       "      <td>da8acbc0b8c1c3f7b3fbae9a652bfbd61a8ef941</td>\n",
       "      <td>gabriel</td>\n",
       "      <td>LOCAL</td>\n",
       "      <td>DefaultParameters-20250503T055155UTC</td>\n",
       "      <td>[{\"run_id\": \"8c1446a5f1424e06a1febd5163a17330\"...</td>\n",
       "    </tr>\n",
       "    <tr>\n",
       "      <th>2</th>\n",
       "      <td>6ce5f9152766473186623e9ad218164b</td>\n",
       "      <td>215806994480999889</td>\n",
       "      <td>FINISHED</td>\n",
       "      <td>mlflow-artifacts:/215806994480999889/6ce5f9152...</td>\n",
       "      <td>2025-04-24 14:24:36.886000+00:00</td>\n",
       "      <td>2025-04-24 14:24:42.042000+00:00</td>\n",
       "      <td>267.962692</td>\n",
       "      <td>277.246492</td>\n",
       "      <td>0.709642</td>\n",
       "      <td>8</td>\n",
       "      <td>0.3962723889353149</td>\n",
       "      <td>6</td>\n",
       "      <td>24</td>\n",
       "      <td>0.09906308908786306</td>\n",
       "      <td>train.py</td>\n",
       "      <td>b3988f18ead5caa415f3d9f2930d395ff5f61fef</td>\n",
       "      <td>gabriel</td>\n",
       "      <td>LOCAL</td>\n",
       "      <td>TrialNumber35-20250424T142435UTC</td>\n",
       "      <td>[{\"run_id\": \"6ce5f9152766473186623e9ad218164b\"...</td>\n",
       "    </tr>\n",
       "  </tbody>\n",
       "</table>\n",
       "</div>"
      ],
      "text/plain": [
       "                             run_id       experiment_id    status  \\\n",
       "0  54560700f31343be81d3065110ba6d87  215806994480999889  FINISHED   \n",
       "1  8c1446a5f1424e06a1febd5163a17330  215806994480999889  FINISHED   \n",
       "2  6ce5f9152766473186623e9ad218164b  215806994480999889  FINISHED   \n",
       "\n",
       "                                        artifact_uri  \\\n",
       "0  mlflow-artifacts:/215806994480999889/54560700f...   \n",
       "1  mlflow-artifacts:/215806994480999889/8c1446a5f...   \n",
       "2  mlflow-artifacts:/215806994480999889/6ce5f9152...   \n",
       "\n",
       "                        start_time                         end_time  \\\n",
       "0 2025-05-03 06:53:28.191000+00:00 2025-05-03 06:53:35.628000+00:00   \n",
       "1 2025-05-03 05:51:55.345000+00:00 2025-05-03 05:52:06.041000+00:00   \n",
       "2 2025-04-24 14:24:36.886000+00:00 2025-04-24 14:24:42.042000+00:00   \n",
       "\n",
       "   metrics.train_mae  metrics.test_mae  metrics.training_duration  \\\n",
       "0         267.450256        276.514219                   0.631784   \n",
       "1          63.773141        103.473742                   1.569685   \n",
       "2         267.962692        277.246492                   0.709642   \n",
       "\n",
       "  params.num_trees params.feature_fraction params.max_depth params.num_leaves  \\\n",
       "0                8      0.3962723889353149                6                24   \n",
       "1             None                    None             None              None   \n",
       "2                8      0.3962723889353149                6                24   \n",
       "\n",
       "  params.learning_rate tags.mlflow.source.name  \\\n",
       "0  0.09906308908786306                train.py   \n",
       "1                 None                train.py   \n",
       "2  0.09906308908786306                train.py   \n",
       "\n",
       "              tags.mlflow.source.git.commit tags.mlflow.user  \\\n",
       "0  da8acbc0b8c1c3f7b3fbae9a652bfbd61a8ef941          gabriel   \n",
       "1  da8acbc0b8c1c3f7b3fbae9a652bfbd61a8ef941          gabriel   \n",
       "2  b3988f18ead5caa415f3d9f2930d395ff5f61fef          gabriel   \n",
       "\n",
       "  tags.mlflow.source.type                   tags.mlflow.runName  \\\n",
       "0                   LOCAL      TrialNumber35-20250503T065327UTC   \n",
       "1                   LOCAL  DefaultParameters-20250503T055155UTC   \n",
       "2                   LOCAL      TrialNumber35-20250424T142435UTC   \n",
       "\n",
       "                       tags.mlflow.log-model.history  \n",
       "0  [{\"run_id\": \"54560700f31343be81d3065110ba6d87\"...  \n",
       "1  [{\"run_id\": \"8c1446a5f1424e06a1febd5163a17330\"...  \n",
       "2  [{\"run_id\": \"6ce5f9152766473186623e9ad218164b\"...  "
      ]
     },
     "execution_count": 3,
     "metadata": {},
     "output_type": "execute_result"
    }
   ],
   "source": [
    "client = MlflowClient(\n",
    "    tracking_uri=env_vars[\"MLFLOW_TRACKING_URI\"],\n",
    ")\n",
    "\n",
    "experiment_name = f\"Enefit DataV1 lightgbm HpoConfigV1\"\n",
    "experiment = client.get_experiment_by_name(experiment_name)\n",
    "experiment_id = experiment.experiment_id\n",
    "runs_df = mlflow.search_runs([experiment_id])\n",
    "runs_df.head()"
   ]
  },
  {
   "cell_type": "code",
   "execution_count": 4,
   "id": "092ea89f",
   "metadata": {},
   "outputs": [],
   "source": [
    "# runs = client.search_runs(experiment_ids=[experiment_id])\n",
    "# run_params = runs[0].data.params\n",
    "# run_params"
   ]
  },
  {
   "cell_type": "code",
   "execution_count": 5,
   "id": "142b0585",
   "metadata": {},
   "outputs": [
    {
     "data": {
      "text/plain": [
       "Index(['run_id', 'experiment_id', 'status', 'artifact_uri', 'start_time',\n",
       "       'end_time', 'metrics.train_mae', 'metrics.test_mae',\n",
       "       'metrics.training_duration', 'params.num_trees',\n",
       "       'params.feature_fraction', 'params.max_depth', 'params.num_leaves',\n",
       "       'params.learning_rate', 'tags.mlflow.source.name',\n",
       "       'tags.mlflow.source.git.commit', 'tags.mlflow.user',\n",
       "       'tags.mlflow.source.type', 'tags.mlflow.runName',\n",
       "       'tags.mlflow.log-model.history'],\n",
       "      dtype='object')"
      ]
     },
     "execution_count": 5,
     "metadata": {},
     "output_type": "execute_result"
    }
   ],
   "source": [
    "runs_df = mlflow.search_runs(experiment_ids=[experiment_id])\n",
    "runs_df.columns"
   ]
  },
  {
   "cell_type": "code",
   "execution_count": 7,
   "id": "fddd8212",
   "metadata": {},
   "outputs": [],
   "source": [
    "logs_to_check = [\n",
    "    \"metrics.train_mae\",\n",
    "    \"metrics.test_mae\",\n",
    "]\n",
    "\n",
    "seen = set()\n",
    "i = 0\n",
    "for _, run in runs_df.iterrows():\n",
    "    param_values = tuple(run.get(f\"{log}\", None) for log in logs_to_check)\n",
    "    if param_values in seen:\n",
    "        mlflow.delete_run(run[\"run_id\"])\n",
    "        print(f\"Duplicate run found: {run['run_id']}\")\n",
    "        i += 1\n",
    "    else:\n",
    "        seen.add(param_values)"
   ]
  },
  {
   "cell_type": "code",
   "execution_count": 8,
   "id": "8c1cff12",
   "metadata": {},
   "outputs": [
    {
     "data": {
      "text/plain": [
       "0"
      ]
     },
     "execution_count": 8,
     "metadata": {},
     "output_type": "execute_result"
    }
   ],
   "source": [
    "i"
   ]
  },
  {
   "cell_type": "code",
   "execution_count": 9,
   "id": "556f2afa",
   "metadata": {},
   "outputs": [
    {
     "data": {
      "text/plain": [
       "(3, 20)"
      ]
     },
     "execution_count": 9,
     "metadata": {},
     "output_type": "execute_result"
    }
   ],
   "source": [
    "runs_df.shape"
   ]
  },
  {
   "cell_type": "code",
   "execution_count": 10,
   "id": "8c421082",
   "metadata": {},
   "outputs": [
    {
     "data": {
      "text/plain": [
       "{(63.773140704273295, 103.47374243926491),\n",
       " (267.45025628793854, 276.51421901069017),\n",
       " (267.96269169866514, 277.2464916761085)}"
      ]
     },
     "execution_count": 10,
     "metadata": {},
     "output_type": "execute_result"
    }
   ],
   "source": [
    "seen"
   ]
  },
  {
   "cell_type": "code",
   "execution_count": 11,
   "id": "ff5de015",
   "metadata": {},
   "outputs": [
    {
     "data": {
      "text/plain": [
       "(3, 20)"
      ]
     },
     "execution_count": 11,
     "metadata": {},
     "output_type": "execute_result"
    }
   ],
   "source": [
    "runs_df = mlflow.search_runs(experiment_ids=[experiment_id])\n",
    "runs_df.shape"
   ]
  },
  {
   "cell_type": "code",
   "execution_count": null,
   "id": "c3ef37b1",
   "metadata": {},
   "outputs": [],
   "source": []
  }
 ],
 "metadata": {
  "kernelspec": {
   "display_name": ".venv",
   "language": "python",
   "name": "python3"
  },
  "language_info": {
   "codemirror_mode": {
    "name": "ipython",
    "version": 3
   },
   "file_extension": ".py",
   "mimetype": "text/x-python",
   "name": "python",
   "nbconvert_exporter": "python",
   "pygments_lexer": "ipython3",
   "version": "3.10.11"
  }
 },
 "nbformat": 4,
 "nbformat_minor": 5
}
