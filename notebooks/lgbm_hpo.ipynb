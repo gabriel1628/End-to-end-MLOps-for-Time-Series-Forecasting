{
  "cells": [
    {
      "cell_type": "markdown",
      "metadata": {
        "colab_type": "text",
        "id": "view-in-github"
      },
      "source": [
        "<a href=\"https://colab.research.google.com/github/gabriel1628/End-to-end-MLOps-for-Time-Series/blob/main/lgbm_hpo.ipynb\" target=\"_parent\"><img src=\"https://colab.research.google.com/assets/colab-badge.svg\" alt=\"Open In Colab\"/></a>"
      ]
    },
    {
      "cell_type": "markdown",
      "metadata": {
        "id": "DG8xOwsQIVRG"
      },
      "source": [
        "# Python version"
      ]
    },
    {
      "cell_type": "code",
      "execution_count": 1,
      "metadata": {
        "colab": {
          "base_uri": "https://localhost:8080/",
          "height": 35
        },
        "id": "-M7GiRiMIbYn",
        "outputId": "0d6870f6-4a2e-4775-9719-b56948ad73a6"
      },
      "outputs": [
        {
          "data": {
            "text/plain": [
              "'3.10.11 (main, Aug  8 2024, 11:04:12) [Clang 15.0.0 (clang-1500.3.9.4)]'"
            ]
          },
          "execution_count": 1,
          "metadata": {},
          "output_type": "execute_result"
        }
      ],
      "source": [
        "import sys\n",
        "sys.version"
      ]
    },
    {
      "cell_type": "markdown",
      "metadata": {
        "id": "yT044F-rIbTN"
      },
      "source": [
        "# If run in Google Colab"
      ]
    },
    {
      "cell_type": "code",
      "execution_count": 2,
      "metadata": {
        "id": "ODzBMPiB_VCY"
      },
      "outputs": [],
      "source": [
        "COLAB = False # if notebook is run in Google Colab"
      ]
    },
    {
      "cell_type": "code",
      "execution_count": 3,
      "metadata": {
        "colab": {
          "base_uri": "https://localhost:8080/"
        },
        "id": "F9crwzPzJrIO",
        "outputId": "044f6e19-ee2c-4caa-fd13-d36f9ac184a1"
      },
      "outputs": [],
      "source": [
        "if COLAB:\n",
        "    !pip install boto3 mlforecast optuna lightgbm GPUtil -q"
      ]
    },
    {
      "cell_type": "code",
      "execution_count": 4,
      "metadata": {
        "colab": {
          "base_uri": "https://localhost:8080/"
        },
        "id": "bMcc7snDZf1x",
        "outputId": "b5927e27-abe6-4f09-d204-ad475d81575e"
      },
      "outputs": [],
      "source": [
        "# download files from github\n",
        "if COLAB:\n",
        "    #TODO: just git clone the repo and move files in the working directory\n",
        "    pass"
      ]
    },
    {
      "cell_type": "code",
      "execution_count": 5,
      "metadata": {},
      "outputs": [],
      "source": [
        "#TODO: Setup training on GPU if GPU available\n",
        "# !git clone --recursive https://github.com/microsoft/LightGBM"
      ]
    },
    {
      "cell_type": "code",
      "execution_count": 6,
      "metadata": {},
      "outputs": [],
      "source": [
        "# cd LightGBM"
      ]
    },
    {
      "cell_type": "code",
      "execution_count": 7,
      "metadata": {},
      "outputs": [],
      "source": [
        "# !cmake -B build -S . -DUSE_GPU=ON\n",
        "# # if you have installed NVIDIA CUDA to a customized location, you should specify paths to OpenCL headers and library like the following:\n",
        "# # !cmake -B build -S . -DUSE_GPU=ON -DOpenCL_LIBRARY=/usr/local/cuda/lib64/libOpenCL.so -DOpenCL_INCLUDE_DIR=/usr/local/cuda/include/\n",
        "# !cmake --build build -j4"
      ]
    },
    {
      "cell_type": "markdown",
      "metadata": {
        "id": "cPgMmCSLIyDm"
      },
      "source": [
        "# Import libraries"
      ]
    },
    {
      "cell_type": "code",
      "execution_count": 8,
      "metadata": {
        "colab": {
          "base_uri": "https://localhost:8080/"
        },
        "id": "iRB66y34ih-x",
        "outputId": "cb469a00-aeca-4aca-afb9-6b65cafdeced"
      },
      "outputs": [],
      "source": [
        "import pandas as pd\n",
        "from lightgbm import LGBMRegressor\n",
        "from sklearn.model_selection import TimeSeriesSplit, cross_val_score\n",
        "#TODO: set the metric to use in config file\n",
        "from sklearn.metrics import mean_absolute_error\n",
        "import logging\n",
        "import optuna\n",
        "import boto3\n",
        "import GPUtil\n",
        "from pathlib import Path\n",
        "from natsort import natsorted\n",
        "from dotenv import dotenv_values\n",
        "import os\n",
        "import pickle\n",
        "import warnings\n",
        "warnings.filterwarnings(\"ignore\", category=UserWarning)\n",
        "warnings.filterwarnings(\"ignore\", category=FutureWarning)"
      ]
    },
    {
      "cell_type": "markdown",
      "metadata": {
        "id": "oeBIdaKVI2pR"
      },
      "source": [
        "# Set device"
      ]
    },
    {
      "cell_type": "code",
      "execution_count": 9,
      "metadata": {
        "colab": {
          "base_uri": "https://localhost:8080/"
        },
        "id": "EdU6pJEgjU_-",
        "outputId": "e879dfb6-54ea-414b-d64a-5f839fe3d093"
      },
      "outputs": [
        {
          "name": "stdout",
          "output_type": "stream",
          "text": [
            "device set to cpu\n"
          ]
        }
      ],
      "source": [
        "device=\"gpu\" if GPUtil.getAvailable() else \"cpu\"\n",
        "print(f\"device set to {device}\")"
      ]
    },
    {
      "cell_type": "code",
      "execution_count": 10,
      "metadata": {
        "id": "SQjwBXOHr6tt"
      },
      "outputs": [],
      "source": [
        "# import subprocess\n",
        "\n",
        "# try:\n",
        "#     subprocess.check_output('nvidia-smi')\n",
        "#     device = \"cuda\"\n",
        "# except Exception: # this command not being found can raise quite a few different errors depending on the configuration\n",
        "#     device = \"cpu\""
      ]
    },
    {
      "cell_type": "markdown",
      "metadata": {
        "id": "lq5fM7Yrih-y"
      },
      "source": [
        "# Global variables"
      ]
    },
    {
      "cell_type": "code",
      "execution_count": 11,
      "metadata": {},
      "outputs": [],
      "source": [
        "import sys\n",
        "sys.path.append(\"/Users/gabriel/Documents/Git/End-to-end MLOps for Time Series\")\n",
        "from utils import load_config, download_s3_dir\n",
        "import yaml"
      ]
    },
    {
      "cell_type": "code",
      "execution_count": 12,
      "metadata": {
        "id": "M6I6N6fKih-z"
      },
      "outputs": [],
      "source": [
        "env_vars = dotenv_values(\"../.env\")\n",
        "config = load_config(\"../config/config.yaml\")"
      ]
    },
    {
      "cell_type": "markdown",
      "metadata": {
        "id": "90hqPZuDrnAR"
      },
      "source": [
        "# Downloading data and Optuna studies from S3"
      ]
    },
    {
      "cell_type": "code",
      "execution_count": 13,
      "metadata": {
        "colab": {
          "base_uri": "https://localhost:8080/"
        },
        "id": "FnJ3PXtmTi7A",
        "outputId": "06a5bf75-9f32-48c8-cab7-362e3bed8560"
      },
      "outputs": [],
      "source": [
        "if COLAB: # If you are on Colab, you can use secret environment variables (click on the key in the left panel)\n",
        "    from google.colab import userdata\n",
        "    s3 = boto3.client(\n",
        "        's3',\n",
        "        aws_access_key_id=userdata.get(\"ACCESS_KEY\"),\n",
        "        aws_secret_access_key=userdata.get(\"SECRET_KEY\"),\n",
        "    )\n",
        "else:\n",
        "    s3 = boto3.client(\n",
        "            \"s3\",\n",
        "            aws_access_key_id=env_vars[\"AWS_ACCESS_KEY_ID\"],\n",
        "            aws_secret_access_key=env_vars[\"AWS_SECRET_ACCESS_KEY\"],\n",
        "        )\n",
        "\n",
        "# print(\"list objects in the enefit-competition bucket to check connection :\\n\")\n",
        "# response = s3.list_objects(\n",
        "#     Bucket='enefit-competition',\n",
        "#     MaxKeys=5,\n",
        "# )\n",
        "# for content in response[\"Contents\"]:\n",
        "#     print(content[\"Key\"])"
      ]
    },
    {
      "cell_type": "code",
      "execution_count": 14,
      "metadata": {
        "id": "q-okiBWfYa2c"
      },
      "outputs": [],
      "source": [
        "# if COLAB:\n",
        "#     config[\"s3_bucket\"] = ...\n",
        "if config[\"s3_bucket\"]:\n",
        "    for s3_dir, local_dir in zip(config[\"s3_dirs\"], config[\"local_dirs\"]):\n",
        "        download_s3_dir(config[\"s3_bucket\"], s3_dir, local_dir)"
      ]
    },
    {
      "cell_type": "markdown",
      "metadata": {
        "id": "-LkFxhqbih-z"
      },
      "source": [
        "# Load the data"
      ]
    },
    {
      "cell_type": "code",
      "execution_count": 15,
      "metadata": {
        "colab": {
          "base_uri": "https://localhost:8080/",
          "height": 206
        },
        "id": "XpK8I4IGih-z",
        "outputId": "0780871a-1d48-4e43-e094-e7062ea53b3d"
      },
      "outputs": [
        {
          "name": "stdout",
          "output_type": "stream",
          "text": [
            "(756114, 36)\n",
            "(756114, 35)\n",
            "(756114,)\n"
          ]
        }
      ],
      "source": [
        "df_train = pd.read_csv(\"../data/processed/consumption_train_processed.csv\")\n",
        "X_train = df_train.drop(columns=\"target\")\n",
        "y_train = df_train[\"target\"]\n",
        "print(df_train.shape)\n",
        "print(X_train.shape)\n",
        "print(y_train.shape)"
      ]
    },
    {
      "cell_type": "code",
      "execution_count": 16,
      "metadata": {},
      "outputs": [
        {
          "name": "stdout",
          "output_type": "stream",
          "text": [
            "(185598, 36)\n",
            "(185598, 35)\n",
            "(185598,)\n"
          ]
        }
      ],
      "source": [
        "df_test = pd.read_csv(\"../data/processed/consumption_test_processed.csv\")\n",
        "X_test = df_test.drop(columns=\"target\")\n",
        "y_test = df_test[\"target\"]\n",
        "print(df_test.shape)\n",
        "print(X_test.shape)\n",
        "print(y_test.shape)"
      ]
    },
    {
      "cell_type": "markdown",
      "metadata": {
        "id": "n8XGLu6Eih-3"
      },
      "source": [
        "# HPO with Optuna"
      ]
    },
    {
      "cell_type": "markdown",
      "metadata": {
        "id": "YEsx44Sfp1bz"
      },
      "source": [
        "## Experiment configurations"
      ]
    },
    {
      "cell_type": "code",
      "execution_count": 17,
      "metadata": {
        "id": "KBij8s0kNjSq"
      },
      "outputs": [],
      "source": [
        "hpo_notebook_config = {\n",
        "    \"int_params\": [\n",
        "        {\n",
        "            \"name\": \"num_trees\",\n",
        "            \"low\": 3,\n",
        "            \"high\": 10,\n",
        "            \"log\": False,\n",
        "        },\n",
        "        {\n",
        "            \"name\": \"max_depth\",\n",
        "            \"low\": 3,\n",
        "            \"high\": 10,\n",
        "        },\n",
        "        {\n",
        "            \"name\": \"num_leaves\",\n",
        "            \"low\": 5,\n",
        "            \"high\": 25,\n",
        "        },\n",
        "    ],\n",
        "    \"float_params\": [\n",
        "        {\n",
        "            \"name\": \"learning_rate\",\n",
        "            \"low\": 0.001,\n",
        "            \"high\": 0.1,\n",
        "            \"log\": True,\n",
        "        },\n",
        "        {\n",
        "            \"name\": \"feature_fraction\",\n",
        "            \"low\": 0.1,\n",
        "            \"high\": 0.75,\n",
        "        }\n",
        "    ],\n",
        "    \"objective_values\": \"mean\",\n",
        "}"
      ]
    },
    {
      "cell_type": "code",
      "execution_count": 18,
      "metadata": {
        "id": "Oj3HPccFnc0f"
      },
      "outputs": [],
      "source": [
        "# Create config files directory if does not exist\n",
        "config_path = Path(\"../config\", f\"{config['model_name']}_hpo\")\n",
        "try:\n",
        "    path.mkdir(parents=True)\n",
        "except:\n",
        "    pass"
      ]
    },
    {
      "cell_type": "code",
      "execution_count": 19,
      "metadata": {},
      "outputs": [
        {
          "name": "stdout",
          "output_type": "stream",
          "text": [
            "config version 1 given, using ../config/lightgbm_hpo/config_1.yaml.\n"
          ]
        }
      ],
      "source": [
        "# Check if the config has already been tested. If not, create a new config file\n",
        "list_config_files = list(config_path.glob(\"*.yaml\"))\n",
        "n_config_files = len(list_config_files)\n",
        "\n",
        "if n_config_files == 0:\n",
        "    hpo_config_version = 1\n",
        "    config_name = \"config_1.yaml\"\n",
        "    print(f\"no config file in {config_path}, creating {config_path}/{config_name}.\")\n",
        "    config_file_path = Path(config_path, config_name)\n",
        "    with open(config_file_path, \"w\") as file:\n",
        "        yaml.dump(hpo_notebook_config, file)\n",
        "\n",
        "elif config[\"hpo_config_version\"]:\n",
        "    hpo_config_version = config[\"hpo_config_version\"]\n",
        "    config_name = f\"config_{config['hpo_config_version']}.yaml\"\n",
        "    print(f\"config version {config['hpo_config_version']} given, using {config_path}/{config_name}.\")\n",
        "    config_file_path = Path(config_path, config_name)\n",
        "\n",
        "else:\n",
        "    print(f\"\"\"{config_path} not empty but no config version given, looping over existing files to check if the content matches \n",
        "          with the config set in the notebook. If no match, creating a new file.\\n\"\"\")\n",
        "    hpo_config_version = 1\n",
        "    for config_file_path in natsorted(list_config_files):\n",
        "        with open(config_file_path, \"rb\") as file:\n",
        "            hpo_config = yaml.safe_load(file)\n",
        "        if hpo_notebook_config == hpo_config:\n",
        "            print(f\"The content of {config_path}/{config_file_path} matches.\")\n",
        "            break\n",
        "        hpo_config_version += 1\n",
        "        if hpo_config_version > n_config_files:\n",
        "            config_file_path = Path(config_path, f\"config_{hpo_config_version}.yaml\")\n",
        "            print(f\"No match found, creating {config_path}/{config_file_path}.\")\n",
        "            with open(config_file_path, \"w\") as file:\n",
        "                yaml.dump(hpo_notebook_config, file)\n",
        "\n",
        "\n",
        "with open(config_file_path, \"rb\") as file:\n",
        "    hpo_config = yaml.safe_load(file)"
      ]
    },
    {
      "cell_type": "code",
      "execution_count": 20,
      "metadata": {
        "colab": {
          "base_uri": "https://localhost:8080/"
        },
        "id": "VSFb9evCrXhZ",
        "outputId": "ff86e6b8-59ff-4187-a893-c9b6a12d9bce"
      },
      "outputs": [
        {
          "name": "stdout",
          "output_type": "stream",
          "text": [
            "{'float_params': [{'high': 0.1,\n",
            "                   'log': True,\n",
            "                   'low': 0.001,\n",
            "                   'name': 'learning_rate'},\n",
            "                  {'high': 0.75, 'low': 0.1, 'name': 'feature_fraction'}],\n",
            " 'int_params': [{'high': 10, 'log': False, 'low': 3, 'name': 'num_trees'},\n",
            "                {'high': 10, 'low': 3, 'name': 'max_depth'},\n",
            "                {'high': 25, 'low': 5, 'name': 'num_leaves'}],\n",
            " 'objective_values': 'mean'}\n"
          ]
        }
      ],
      "source": [
        "from pprint import pprint\n",
        "pprint(hpo_config)"
      ]
    },
    {
      "cell_type": "markdown",
      "metadata": {
        "id": "6vS34SzVqDY7"
      },
      "source": [
        "## Objective function"
      ]
    },
    {
      "cell_type": "code",
      "execution_count": 21,
      "metadata": {
        "id": "MnLOPuYX_YQ7"
      },
      "outputs": [],
      "source": [
        "def objective(trial):\n",
        "    # Define hyperparameters\n",
        "    study_params = {\n",
        "        \"verbosity\": -1,\n",
        "        \"random_state\": config[\"random_state\"],\n",
        "        \"device\": device,\n",
        "    }\n",
        "    for int_param in hpo_config[\"int_params\"]:\n",
        "        study_params[int_param[\"name\"]] = trial.suggest_int(**int_param)\n",
        "    for float_param in hpo_config[\"float_params\"]:\n",
        "        study_params[float_param[\"name\"]] = trial.suggest_float(**float_param)\n",
        "\n",
        "    # Evaluate model using cross-validation\n",
        "    tscv = TimeSeriesSplit(n_splits=config[\"n_splits\"])\n",
        "    model = LGBMRegressor(**study_params)\n",
        "    cv_errors = cross_val_score(\n",
        "        model, X_train, y_train, scoring=config[\"scoring\"], cv=tscv\n",
        "    )\n",
        "\n",
        "    # Log CV results\n",
        "    cv_errors = -cv_errors\n",
        "    for i in range(len(cv_errors)):\n",
        "        trial.set_user_attr(f\"error_split_{i+1}\", cv_errors[i])\n",
        "    # trial.set_user_attr(\"cv_errors\", list(cv_errors))\n",
        "    trial.set_user_attr(\"cv_errors_std\", cv_errors.std())\n",
        "\n",
        "    return cv_errors.mean()"
      ]
    },
    {
      "cell_type": "markdown",
      "metadata": {
        "id": "ImLKJohDih-4"
      },
      "source": [
        "## Create and run study"
      ]
    },
    {
      "cell_type": "code",
      "execution_count": 22,
      "metadata": {},
      "outputs": [],
      "source": [
        "# Add stream handler of stdout to show the messages\n",
        "logger = optuna.logging.get_logger(\"optuna\")\n",
        "if logger.hasHandlers():\n",
        "    logger.handlers.clear()\n",
        "logger.addHandler(logging.StreamHandler(sys.stdout))"
      ]
    },
    {
      "cell_type": "code",
      "execution_count": 23,
      "metadata": {
        "colab": {
          "base_uri": "https://localhost:8080/"
        },
        "id": "sHjPB6JX3ZmL",
        "outputId": "721e4804-eea6-4a65-9d7a-b973131facd3"
      },
      "outputs": [
        {
          "name": "stdout",
          "output_type": "stream",
          "text": [
            "Study path : ../optuna_studies/datav1_lightgbm_config1.db\n"
          ]
        }
      ],
      "source": [
        "#TODO: setup data version control then replace 'datav1' with appropriate data info\n",
        "study_name = (\n",
        "    f\"datav1_{config['model_name']}_config{hpo_config_version}\"\n",
        ")\n",
        "study_path = f\"../optuna_studies/{study_name}.db\"\n",
        "storage_path = \"sqlite:///{}\".format(study_path)\n",
        "print(f\"Study path : {study_path}\")"
      ]
    },
    {
      "cell_type": "code",
      "execution_count": 24,
      "metadata": {
        "id": "J4u0bLP9ih-4"
      },
      "outputs": [
        {
          "name": "stdout",
          "output_type": "stream",
          "text": [
            "loading sampler\n"
          ]
        }
      ],
      "source": [
        "# Set sampler\n",
        "# For a list a available samplers : https://optuna.readthedocs.io/en/stable/reference/samplers/index.html\n",
        "sampler_name = f\"{study_name}_sampler.pkl\"\n",
        "if sampler_name in os.listdir(\"../optuna_studies\"):\n",
        "    sampler_loaded = True\n",
        "    print(\"loading sampler\")\n",
        "    sampler = pickle.load(open(f\"../optuna_studies/{sampler_name}\", \"rb\"))\n",
        "else:\n",
        "    sampler_loaded = False\n",
        "    print(\"no sampler saved for the study, creating a new one\")\n",
        "    sampler = optuna.samplers.TPESampler(seed=0)"
      ]
    },
    {
      "cell_type": "code",
      "execution_count": 25,
      "metadata": {
        "colab": {
          "base_uri": "https://localhost:8080/"
        },
        "id": "H4GEjII_ih-4",
        "outputId": "b5442513-3d81-41ac-af7b-548f5287fb78"
      },
      "outputs": [
        {
          "name": "stdout",
          "output_type": "stream",
          "text": [
            "Using an existing study with name 'datav1_lightgbm_config1' instead of creating a new one.\n"
          ]
        }
      ],
      "source": [
        "# Initialize the Optuna study\n",
        "study = optuna.create_study(\n",
        "    study_name=study_name,\n",
        "    storage=storage_path,\n",
        "    load_if_exists=True,\n",
        "    directions=[\"minimize\"],\n",
        "    sampler=sampler,\n",
        "    # pruner=pruner,\n",
        ")\n",
        "if not sampler_loaded:\n",
        "    print(\"saving sampler\")\n",
        "    with open(f\"../optuna_studies/{study_name}_sampler.pkl\", \"wb\") as file:\n",
        "        pickle.dump(study.sampler, file)"
      ]
    },
    {
      "cell_type": "code",
      "execution_count": 26,
      "metadata": {
        "colab": {
          "base_uri": "https://localhost:8080/"
        },
        "id": "Mxxt7uNTyUv1",
        "outputId": "992a63bb-b308-4559-94eb-84c61c1fdc41"
      },
      "outputs": [
        {
          "data": {
            "text/plain": [
              "11"
            ]
          },
          "execution_count": 26,
          "metadata": {},
          "output_type": "execute_result"
        }
      ],
      "source": [
        "len(study.trials)"
      ]
    },
    {
      "cell_type": "code",
      "execution_count": 27,
      "metadata": {
        "colab": {
          "base_uri": "https://localhost:8080/"
        },
        "id": "5EqTjcla49pg",
        "outputId": "e9418c5d-ce03-40b0-cd40-9c246edbb31d",
        "scrolled": true
      },
      "outputs": [
        {
          "name": "stdout",
          "output_type": "stream",
          "text": [
            "Trial 11 finished with value: 579.5115843750035 and parameters: {'num_trees': 6, 'max_depth': 5, 'num_leaves': 5, 'learning_rate': 0.0010967097042542111, 'feature_fraction': 0.5297457486030802}. Best is trial 2 with value: 306.1179266470635.\n",
            "Trial 12 finished with value: 278.7178225690444 and parameters: {'num_trees': 8, 'max_depth': 5, 'num_leaves': 25, 'learning_rate': 0.09844326144775391, 'feature_fraction': 0.314475126133414}. Best is trial 12 with value: 278.7178225690444.\n",
            "Trial 13 finished with value: 572.8020937346387 and parameters: {'num_trees': 5, 'max_depth': 5, 'num_leaves': 25, 'learning_rate': 0.003608139728160255, 'feature_fraction': 0.27705786570374097}. Best is trial 12 with value: 278.7178225690444.\n",
            "Trial 14 finished with value: 561.4830323561512 and parameters: {'num_trees': 8, 'max_depth': 5, 'num_leaves': 20, 'learning_rate': 0.004796122663570305, 'feature_fraction': 0.4930840834386849}. Best is trial 12 with value: 278.7178225690444.\n",
            "Trial 15 finished with value: 367.75475211287664 and parameters: {'num_trees': 5, 'max_depth': 4, 'num_leaves': 25, 'learning_rate': 0.0937995542251177, 'feature_fraction': 0.2677450391743816}. Best is trial 12 with value: 278.7178225690444.\n",
            "CPU times: user 1min 17s, sys: 5.57 s, total: 1min 22s\n",
            "Wall time: 18.3 s\n"
          ]
        }
      ],
      "source": [
        "%%time\n",
        "study.optimize(objective, n_trials=config[\"n_trials\"])"
      ]
    },
    {
      "cell_type": "markdown",
      "metadata": {},
      "source": [
        "# Visualize the optimization history"
      ]
    },
    {
      "cell_type": "code",
      "execution_count": 28,
      "metadata": {},
      "outputs": [
        {
          "data": {
            "application/vnd.plotly.v1+json": {
              "config": {
                "plotlyServerURL": "https://plot.ly"
              },
              "data": [
                {
                  "mode": "markers",
                  "name": "value",
                  "type": "scatter",
                  "x": [
                    1,
                    2,
                    3,
                    4,
                    5,
                    6,
                    7,
                    8,
                    9,
                    10,
                    11,
                    12,
                    13,
                    14,
                    15
                  ],
                  "y": [
                    535.9161624737324,
                    306.1179266470635,
                    321.404805377309,
                    525.3216332135233,
                    409.9861498197497,
                    535.9161624737324,
                    306.1179266470635,
                    321.404805377309,
                    525.3216332135233,
                    409.9861498197497,
                    579.5115843750035,
                    278.7178225690444,
                    572.8020937346387,
                    561.4830323561512,
                    367.75475211287664
                  ]
                },
                {
                  "mode": "lines",
                  "name": "Best Value",
                  "type": "scatter",
                  "x": [
                    0,
                    1,
                    2,
                    3,
                    4,
                    5,
                    6,
                    7,
                    8,
                    9,
                    10,
                    11,
                    12,
                    13,
                    14,
                    15
                  ],
                  "y": [
                    null,
                    535.9161624737324,
                    306.1179266470635,
                    306.1179266470635,
                    306.1179266470635,
                    306.1179266470635,
                    306.1179266470635,
                    306.1179266470635,
                    306.1179266470635,
                    306.1179266470635,
                    306.1179266470635,
                    306.1179266470635,
                    278.7178225690444,
                    278.7178225690444,
                    278.7178225690444,
                    278.7178225690444
                  ]
                },
                {
                  "marker": {
                    "color": "#cccccc"
                  },
                  "mode": "markers",
                  "name": "Infeasible Trial",
                  "showlegend": false,
                  "type": "scatter",
                  "x": [],
                  "y": []
                }
              ],
              "layout": {
                "autosize": true,
                "height": 600,
                "template": {
                  "data": {
                    "bar": [
                      {
                        "error_x": {
                          "color": "#2a3f5f"
                        },
                        "error_y": {
                          "color": "#2a3f5f"
                        },
                        "marker": {
                          "line": {
                            "color": "#E5ECF6",
                            "width": 0.5
                          },
                          "pattern": {
                            "fillmode": "overlay",
                            "size": 10,
                            "solidity": 0.2
                          }
                        },
                        "type": "bar"
                      }
                    ],
                    "barpolar": [
                      {
                        "marker": {
                          "line": {
                            "color": "#E5ECF6",
                            "width": 0.5
                          },
                          "pattern": {
                            "fillmode": "overlay",
                            "size": 10,
                            "solidity": 0.2
                          }
                        },
                        "type": "barpolar"
                      }
                    ],
                    "carpet": [
                      {
                        "aaxis": {
                          "endlinecolor": "#2a3f5f",
                          "gridcolor": "white",
                          "linecolor": "white",
                          "minorgridcolor": "white",
                          "startlinecolor": "#2a3f5f"
                        },
                        "baxis": {
                          "endlinecolor": "#2a3f5f",
                          "gridcolor": "white",
                          "linecolor": "white",
                          "minorgridcolor": "white",
                          "startlinecolor": "#2a3f5f"
                        },
                        "type": "carpet"
                      }
                    ],
                    "choropleth": [
                      {
                        "colorbar": {
                          "outlinewidth": 0,
                          "ticks": ""
                        },
                        "type": "choropleth"
                      }
                    ],
                    "contour": [
                      {
                        "colorbar": {
                          "outlinewidth": 0,
                          "ticks": ""
                        },
                        "colorscale": [
                          [
                            0,
                            "#0d0887"
                          ],
                          [
                            0.1111111111111111,
                            "#46039f"
                          ],
                          [
                            0.2222222222222222,
                            "#7201a8"
                          ],
                          [
                            0.3333333333333333,
                            "#9c179e"
                          ],
                          [
                            0.4444444444444444,
                            "#bd3786"
                          ],
                          [
                            0.5555555555555556,
                            "#d8576b"
                          ],
                          [
                            0.6666666666666666,
                            "#ed7953"
                          ],
                          [
                            0.7777777777777778,
                            "#fb9f3a"
                          ],
                          [
                            0.8888888888888888,
                            "#fdca26"
                          ],
                          [
                            1,
                            "#f0f921"
                          ]
                        ],
                        "type": "contour"
                      }
                    ],
                    "contourcarpet": [
                      {
                        "colorbar": {
                          "outlinewidth": 0,
                          "ticks": ""
                        },
                        "type": "contourcarpet"
                      }
                    ],
                    "heatmap": [
                      {
                        "colorbar": {
                          "outlinewidth": 0,
                          "ticks": ""
                        },
                        "colorscale": [
                          [
                            0,
                            "#0d0887"
                          ],
                          [
                            0.1111111111111111,
                            "#46039f"
                          ],
                          [
                            0.2222222222222222,
                            "#7201a8"
                          ],
                          [
                            0.3333333333333333,
                            "#9c179e"
                          ],
                          [
                            0.4444444444444444,
                            "#bd3786"
                          ],
                          [
                            0.5555555555555556,
                            "#d8576b"
                          ],
                          [
                            0.6666666666666666,
                            "#ed7953"
                          ],
                          [
                            0.7777777777777778,
                            "#fb9f3a"
                          ],
                          [
                            0.8888888888888888,
                            "#fdca26"
                          ],
                          [
                            1,
                            "#f0f921"
                          ]
                        ],
                        "type": "heatmap"
                      }
                    ],
                    "histogram": [
                      {
                        "marker": {
                          "pattern": {
                            "fillmode": "overlay",
                            "size": 10,
                            "solidity": 0.2
                          }
                        },
                        "type": "histogram"
                      }
                    ],
                    "histogram2d": [
                      {
                        "colorbar": {
                          "outlinewidth": 0,
                          "ticks": ""
                        },
                        "colorscale": [
                          [
                            0,
                            "#0d0887"
                          ],
                          [
                            0.1111111111111111,
                            "#46039f"
                          ],
                          [
                            0.2222222222222222,
                            "#7201a8"
                          ],
                          [
                            0.3333333333333333,
                            "#9c179e"
                          ],
                          [
                            0.4444444444444444,
                            "#bd3786"
                          ],
                          [
                            0.5555555555555556,
                            "#d8576b"
                          ],
                          [
                            0.6666666666666666,
                            "#ed7953"
                          ],
                          [
                            0.7777777777777778,
                            "#fb9f3a"
                          ],
                          [
                            0.8888888888888888,
                            "#fdca26"
                          ],
                          [
                            1,
                            "#f0f921"
                          ]
                        ],
                        "type": "histogram2d"
                      }
                    ],
                    "histogram2dcontour": [
                      {
                        "colorbar": {
                          "outlinewidth": 0,
                          "ticks": ""
                        },
                        "colorscale": [
                          [
                            0,
                            "#0d0887"
                          ],
                          [
                            0.1111111111111111,
                            "#46039f"
                          ],
                          [
                            0.2222222222222222,
                            "#7201a8"
                          ],
                          [
                            0.3333333333333333,
                            "#9c179e"
                          ],
                          [
                            0.4444444444444444,
                            "#bd3786"
                          ],
                          [
                            0.5555555555555556,
                            "#d8576b"
                          ],
                          [
                            0.6666666666666666,
                            "#ed7953"
                          ],
                          [
                            0.7777777777777778,
                            "#fb9f3a"
                          ],
                          [
                            0.8888888888888888,
                            "#fdca26"
                          ],
                          [
                            1,
                            "#f0f921"
                          ]
                        ],
                        "type": "histogram2dcontour"
                      }
                    ],
                    "mesh3d": [
                      {
                        "colorbar": {
                          "outlinewidth": 0,
                          "ticks": ""
                        },
                        "type": "mesh3d"
                      }
                    ],
                    "parcoords": [
                      {
                        "line": {
                          "colorbar": {
                            "outlinewidth": 0,
                            "ticks": ""
                          }
                        },
                        "type": "parcoords"
                      }
                    ],
                    "pie": [
                      {
                        "automargin": true,
                        "type": "pie"
                      }
                    ],
                    "scatter": [
                      {
                        "fillpattern": {
                          "fillmode": "overlay",
                          "size": 10,
                          "solidity": 0.2
                        },
                        "type": "scatter"
                      }
                    ],
                    "scatter3d": [
                      {
                        "line": {
                          "colorbar": {
                            "outlinewidth": 0,
                            "ticks": ""
                          }
                        },
                        "marker": {
                          "colorbar": {
                            "outlinewidth": 0,
                            "ticks": ""
                          }
                        },
                        "type": "scatter3d"
                      }
                    ],
                    "scattercarpet": [
                      {
                        "marker": {
                          "colorbar": {
                            "outlinewidth": 0,
                            "ticks": ""
                          }
                        },
                        "type": "scattercarpet"
                      }
                    ],
                    "scattergeo": [
                      {
                        "marker": {
                          "colorbar": {
                            "outlinewidth": 0,
                            "ticks": ""
                          }
                        },
                        "type": "scattergeo"
                      }
                    ],
                    "scattergl": [
                      {
                        "marker": {
                          "colorbar": {
                            "outlinewidth": 0,
                            "ticks": ""
                          }
                        },
                        "type": "scattergl"
                      }
                    ],
                    "scattermap": [
                      {
                        "marker": {
                          "colorbar": {
                            "outlinewidth": 0,
                            "ticks": ""
                          }
                        },
                        "type": "scattermap"
                      }
                    ],
                    "scattermapbox": [
                      {
                        "marker": {
                          "colorbar": {
                            "outlinewidth": 0,
                            "ticks": ""
                          }
                        },
                        "type": "scattermapbox"
                      }
                    ],
                    "scatterpolar": [
                      {
                        "marker": {
                          "colorbar": {
                            "outlinewidth": 0,
                            "ticks": ""
                          }
                        },
                        "type": "scatterpolar"
                      }
                    ],
                    "scatterpolargl": [
                      {
                        "marker": {
                          "colorbar": {
                            "outlinewidth": 0,
                            "ticks": ""
                          }
                        },
                        "type": "scatterpolargl"
                      }
                    ],
                    "scatterternary": [
                      {
                        "marker": {
                          "colorbar": {
                            "outlinewidth": 0,
                            "ticks": ""
                          }
                        },
                        "type": "scatterternary"
                      }
                    ],
                    "surface": [
                      {
                        "colorbar": {
                          "outlinewidth": 0,
                          "ticks": ""
                        },
                        "colorscale": [
                          [
                            0,
                            "#0d0887"
                          ],
                          [
                            0.1111111111111111,
                            "#46039f"
                          ],
                          [
                            0.2222222222222222,
                            "#7201a8"
                          ],
                          [
                            0.3333333333333333,
                            "#9c179e"
                          ],
                          [
                            0.4444444444444444,
                            "#bd3786"
                          ],
                          [
                            0.5555555555555556,
                            "#d8576b"
                          ],
                          [
                            0.6666666666666666,
                            "#ed7953"
                          ],
                          [
                            0.7777777777777778,
                            "#fb9f3a"
                          ],
                          [
                            0.8888888888888888,
                            "#fdca26"
                          ],
                          [
                            1,
                            "#f0f921"
                          ]
                        ],
                        "type": "surface"
                      }
                    ],
                    "table": [
                      {
                        "cells": {
                          "fill": {
                            "color": "#EBF0F8"
                          },
                          "line": {
                            "color": "white"
                          }
                        },
                        "header": {
                          "fill": {
                            "color": "#C8D4E3"
                          },
                          "line": {
                            "color": "white"
                          }
                        },
                        "type": "table"
                      }
                    ]
                  },
                  "layout": {
                    "annotationdefaults": {
                      "arrowcolor": "#2a3f5f",
                      "arrowhead": 0,
                      "arrowwidth": 1
                    },
                    "autotypenumbers": "strict",
                    "coloraxis": {
                      "colorbar": {
                        "outlinewidth": 0,
                        "ticks": ""
                      }
                    },
                    "colorscale": {
                      "diverging": [
                        [
                          0,
                          "#8e0152"
                        ],
                        [
                          0.1,
                          "#c51b7d"
                        ],
                        [
                          0.2,
                          "#de77ae"
                        ],
                        [
                          0.3,
                          "#f1b6da"
                        ],
                        [
                          0.4,
                          "#fde0ef"
                        ],
                        [
                          0.5,
                          "#f7f7f7"
                        ],
                        [
                          0.6,
                          "#e6f5d0"
                        ],
                        [
                          0.7,
                          "#b8e186"
                        ],
                        [
                          0.8,
                          "#7fbc41"
                        ],
                        [
                          0.9,
                          "#4d9221"
                        ],
                        [
                          1,
                          "#276419"
                        ]
                      ],
                      "sequential": [
                        [
                          0,
                          "#0d0887"
                        ],
                        [
                          0.1111111111111111,
                          "#46039f"
                        ],
                        [
                          0.2222222222222222,
                          "#7201a8"
                        ],
                        [
                          0.3333333333333333,
                          "#9c179e"
                        ],
                        [
                          0.4444444444444444,
                          "#bd3786"
                        ],
                        [
                          0.5555555555555556,
                          "#d8576b"
                        ],
                        [
                          0.6666666666666666,
                          "#ed7953"
                        ],
                        [
                          0.7777777777777778,
                          "#fb9f3a"
                        ],
                        [
                          0.8888888888888888,
                          "#fdca26"
                        ],
                        [
                          1,
                          "#f0f921"
                        ]
                      ],
                      "sequentialminus": [
                        [
                          0,
                          "#0d0887"
                        ],
                        [
                          0.1111111111111111,
                          "#46039f"
                        ],
                        [
                          0.2222222222222222,
                          "#7201a8"
                        ],
                        [
                          0.3333333333333333,
                          "#9c179e"
                        ],
                        [
                          0.4444444444444444,
                          "#bd3786"
                        ],
                        [
                          0.5555555555555556,
                          "#d8576b"
                        ],
                        [
                          0.6666666666666666,
                          "#ed7953"
                        ],
                        [
                          0.7777777777777778,
                          "#fb9f3a"
                        ],
                        [
                          0.8888888888888888,
                          "#fdca26"
                        ],
                        [
                          1,
                          "#f0f921"
                        ]
                      ]
                    },
                    "colorway": [
                      "#636efa",
                      "#EF553B",
                      "#00cc96",
                      "#ab63fa",
                      "#FFA15A",
                      "#19d3f3",
                      "#FF6692",
                      "#B6E880",
                      "#FF97FF",
                      "#FECB52"
                    ],
                    "font": {
                      "color": "#2a3f5f"
                    },
                    "geo": {
                      "bgcolor": "white",
                      "lakecolor": "white",
                      "landcolor": "#E5ECF6",
                      "showlakes": true,
                      "showland": true,
                      "subunitcolor": "white"
                    },
                    "hoverlabel": {
                      "align": "left"
                    },
                    "hovermode": "closest",
                    "mapbox": {
                      "style": "light"
                    },
                    "paper_bgcolor": "white",
                    "plot_bgcolor": "#E5ECF6",
                    "polar": {
                      "angularaxis": {
                        "gridcolor": "white",
                        "linecolor": "white",
                        "ticks": ""
                      },
                      "bgcolor": "#E5ECF6",
                      "radialaxis": {
                        "gridcolor": "white",
                        "linecolor": "white",
                        "ticks": ""
                      }
                    },
                    "scene": {
                      "xaxis": {
                        "backgroundcolor": "#E5ECF6",
                        "gridcolor": "white",
                        "gridwidth": 2,
                        "linecolor": "white",
                        "showbackground": true,
                        "ticks": "",
                        "zerolinecolor": "white"
                      },
                      "yaxis": {
                        "backgroundcolor": "#E5ECF6",
                        "gridcolor": "white",
                        "gridwidth": 2,
                        "linecolor": "white",
                        "showbackground": true,
                        "ticks": "",
                        "zerolinecolor": "white"
                      },
                      "zaxis": {
                        "backgroundcolor": "#E5ECF6",
                        "gridcolor": "white",
                        "gridwidth": 2,
                        "linecolor": "white",
                        "showbackground": true,
                        "ticks": "",
                        "zerolinecolor": "white"
                      }
                    },
                    "shapedefaults": {
                      "line": {
                        "color": "#2a3f5f"
                      }
                    },
                    "ternary": {
                      "aaxis": {
                        "gridcolor": "white",
                        "linecolor": "white",
                        "ticks": ""
                      },
                      "baxis": {
                        "gridcolor": "white",
                        "linecolor": "white",
                        "ticks": ""
                      },
                      "bgcolor": "#E5ECF6",
                      "caxis": {
                        "gridcolor": "white",
                        "linecolor": "white",
                        "ticks": ""
                      }
                    },
                    "title": {
                      "x": 0.05
                    },
                    "xaxis": {
                      "automargin": true,
                      "gridcolor": "white",
                      "linecolor": "white",
                      "ticks": "",
                      "title": {
                        "standoff": 15
                      },
                      "zerolinecolor": "white",
                      "zerolinewidth": 2
                    },
                    "yaxis": {
                      "automargin": true,
                      "gridcolor": "white",
                      "linecolor": "white",
                      "ticks": "",
                      "title": {
                        "standoff": 15
                      },
                      "zerolinecolor": "white",
                      "zerolinewidth": 2
                    }
                  }
                },
                "title": {
                  "text": "Optimization History Plot"
                },
                "width": 800,
                "xaxis": {
                  "title": {
                    "text": "Trial"
                  }
                },
                "yaxis": {
                  "title": {
                    "text": "value"
                  }
                }
              }
            }
          },
          "metadata": {},
          "output_type": "display_data"
        }
      ],
      "source": [
        "fig = optuna.visualization.plot_optimization_history(study, target_name='value')\n",
        "\n",
        "fig.update_layout(\n",
        "    autosize=True,\n",
        "    width=800,\n",
        "    height=600\n",
        ")\n",
        "fig.show()"
      ]
    },
    {
      "cell_type": "markdown",
      "metadata": {
        "id": "Po-bHy6vih-9"
      },
      "source": [
        "## Experimental history"
      ]
    },
    {
      "cell_type": "code",
      "execution_count": 29,
      "metadata": {
        "colab": {
          "base_uri": "https://localhost:8080/",
          "height": 610
        },
        "id": "vtWPlS77ih-9",
        "outputId": "9423629a-b61e-4602-a89a-e02fe61301a7"
      },
      "outputs": [
        {
          "name": "stdout",
          "output_type": "stream",
          "text": [
            "Using an existing study with name 'datav1_lightgbm_config1' instead of creating a new one.\n",
            "number of trials in the study : 16\n",
            "best studies :\n"
          ]
        },
        {
          "data": {
            "text/html": [
              "<div>\n",
              "<style scoped>\n",
              "    .dataframe tbody tr th:only-of-type {\n",
              "        vertical-align: middle;\n",
              "    }\n",
              "\n",
              "    .dataframe tbody tr th {\n",
              "        vertical-align: top;\n",
              "    }\n",
              "\n",
              "    .dataframe thead th {\n",
              "        text-align: right;\n",
              "    }\n",
              "</style>\n",
              "<table border=\"1\" class=\"dataframe\">\n",
              "  <thead>\n",
              "    <tr style=\"text-align: right;\">\n",
              "      <th></th>\n",
              "      <th>number</th>\n",
              "      <th>value</th>\n",
              "      <th>duration</th>\n",
              "      <th>params_feature_fraction</th>\n",
              "      <th>params_learning_rate</th>\n",
              "      <th>params_max_depth</th>\n",
              "      <th>params_num_leaves</th>\n",
              "      <th>params_num_trees</th>\n",
              "      <th>user_attrs_cv_errors_std</th>\n",
              "      <th>user_attrs_error_split_1</th>\n",
              "      <th>user_attrs_error_split_2</th>\n",
              "      <th>user_attrs_error_split_3</th>\n",
              "      <th>user_attrs_error_split_4</th>\n",
              "      <th>user_attrs_error_split_5</th>\n",
              "      <th>state</th>\n",
              "    </tr>\n",
              "  </thead>\n",
              "  <tbody>\n",
              "    <tr>\n",
              "      <th>12</th>\n",
              "      <td>12</td>\n",
              "      <td>278.717823</td>\n",
              "      <td>0 days 00:00:03.798330</td>\n",
              "      <td>0.314475</td>\n",
              "      <td>0.098443</td>\n",
              "      <td>5</td>\n",
              "      <td>25</td>\n",
              "      <td>8</td>\n",
              "      <td>73.941599</td>\n",
              "      <td>405.627489</td>\n",
              "      <td>242.308044</td>\n",
              "      <td>212.415680</td>\n",
              "      <td>317.689122</td>\n",
              "      <td>215.548777</td>\n",
              "      <td>COMPLETE</td>\n",
              "    </tr>\n",
              "    <tr>\n",
              "      <th>2</th>\n",
              "      <td>2</td>\n",
              "      <td>306.117927</td>\n",
              "      <td>0 days 00:00:03.576550</td>\n",
              "      <td>0.349237</td>\n",
              "      <td>0.084591</td>\n",
              "      <td>6</td>\n",
              "      <td>23</td>\n",
              "      <td>8</td>\n",
              "      <td>81.086923</td>\n",
              "      <td>448.319878</td>\n",
              "      <td>264.874165</td>\n",
              "      <td>236.122785</td>\n",
              "      <td>343.429998</td>\n",
              "      <td>237.842807</td>\n",
              "      <td>COMPLETE</td>\n",
              "    </tr>\n",
              "    <tr>\n",
              "      <th>7</th>\n",
              "      <td>7</td>\n",
              "      <td>306.117927</td>\n",
              "      <td>0 days 00:00:03.416266</td>\n",
              "      <td>0.349237</td>\n",
              "      <td>0.084591</td>\n",
              "      <td>6</td>\n",
              "      <td>23</td>\n",
              "      <td>8</td>\n",
              "      <td>81.086923</td>\n",
              "      <td>448.319878</td>\n",
              "      <td>264.874165</td>\n",
              "      <td>236.122785</td>\n",
              "      <td>343.429998</td>\n",
              "      <td>237.842807</td>\n",
              "      <td>COMPLETE</td>\n",
              "    </tr>\n",
              "    <tr>\n",
              "      <th>8</th>\n",
              "      <td>8</td>\n",
              "      <td>321.404805</td>\n",
              "      <td>0 days 00:00:03.442026</td>\n",
              "      <td>0.146173</td>\n",
              "      <td>0.070989</td>\n",
              "      <td>7</td>\n",
              "      <td>16</td>\n",
              "      <td>9</td>\n",
              "      <td>85.739122</td>\n",
              "      <td>471.255182</td>\n",
              "      <td>282.280264</td>\n",
              "      <td>249.030162</td>\n",
              "      <td>360.524252</td>\n",
              "      <td>243.934167</td>\n",
              "      <td>COMPLETE</td>\n",
              "    </tr>\n",
              "    <tr>\n",
              "      <th>3</th>\n",
              "      <td>3</td>\n",
              "      <td>321.404805</td>\n",
              "      <td>0 days 00:00:03.534894</td>\n",
              "      <td>0.146173</td>\n",
              "      <td>0.070989</td>\n",
              "      <td>7</td>\n",
              "      <td>16</td>\n",
              "      <td>9</td>\n",
              "      <td>85.739122</td>\n",
              "      <td>471.255182</td>\n",
              "      <td>282.280264</td>\n",
              "      <td>249.030162</td>\n",
              "      <td>360.524252</td>\n",
              "      <td>243.934167</td>\n",
              "      <td>COMPLETE</td>\n",
              "    </tr>\n",
              "    <tr>\n",
              "      <th>15</th>\n",
              "      <td>15</td>\n",
              "      <td>367.754752</td>\n",
              "      <td>0 days 00:00:03.483267</td>\n",
              "      <td>0.267745</td>\n",
              "      <td>0.093800</td>\n",
              "      <td>4</td>\n",
              "      <td>25</td>\n",
              "      <td>5</td>\n",
              "      <td>101.512338</td>\n",
              "      <td>546.176180</td>\n",
              "      <td>319.425761</td>\n",
              "      <td>285.674737</td>\n",
              "      <td>412.538628</td>\n",
              "      <td>274.958456</td>\n",
              "      <td>COMPLETE</td>\n",
              "    </tr>\n",
              "    <tr>\n",
              "      <th>5</th>\n",
              "      <td>5</td>\n",
              "      <td>409.986150</td>\n",
              "      <td>0 days 00:00:03.437005</td>\n",
              "      <td>0.176878</td>\n",
              "      <td>0.036396</td>\n",
              "      <td>9</td>\n",
              "      <td>14</td>\n",
              "      <td>10</td>\n",
              "      <td>114.233100</td>\n",
              "      <td>610.568715</td>\n",
              "      <td>351.456660</td>\n",
              "      <td>319.696432</td>\n",
              "      <td>461.870091</td>\n",
              "      <td>306.338851</td>\n",
              "      <td>COMPLETE</td>\n",
              "    </tr>\n",
              "    <tr>\n",
              "      <th>10</th>\n",
              "      <td>10</td>\n",
              "      <td>409.986150</td>\n",
              "      <td>0 days 00:00:03.530818</td>\n",
              "      <td>0.176878</td>\n",
              "      <td>0.036396</td>\n",
              "      <td>9</td>\n",
              "      <td>14</td>\n",
              "      <td>10</td>\n",
              "      <td>114.233100</td>\n",
              "      <td>610.568715</td>\n",
              "      <td>351.456660</td>\n",
              "      <td>319.696432</td>\n",
              "      <td>461.870091</td>\n",
              "      <td>306.338851</td>\n",
              "      <td>COMPLETE</td>\n",
              "    </tr>\n",
              "    <tr>\n",
              "      <th>4</th>\n",
              "      <td>4</td>\n",
              "      <td>525.321633</td>\n",
              "      <td>0 days 00:00:03.521467</td>\n",
              "      <td>0.665508</td>\n",
              "      <td>0.036001</td>\n",
              "      <td>3</td>\n",
              "      <td>22</td>\n",
              "      <td>3</td>\n",
              "      <td>152.304507</td>\n",
              "      <td>777.176608</td>\n",
              "      <td>436.196298</td>\n",
              "      <td>404.907744</td>\n",
              "      <td>625.023686</td>\n",
              "      <td>383.303830</td>\n",
              "      <td>COMPLETE</td>\n",
              "    </tr>\n",
              "    <tr>\n",
              "      <th>9</th>\n",
              "      <td>9</td>\n",
              "      <td>525.321633</td>\n",
              "      <td>0 days 00:00:03.440181</td>\n",
              "      <td>0.665508</td>\n",
              "      <td>0.036001</td>\n",
              "      <td>3</td>\n",
              "      <td>22</td>\n",
              "      <td>3</td>\n",
              "      <td>152.304507</td>\n",
              "      <td>777.176608</td>\n",
              "      <td>436.196298</td>\n",
              "      <td>404.907744</td>\n",
              "      <td>625.023686</td>\n",
              "      <td>383.303830</td>\n",
              "      <td>COMPLETE</td>\n",
              "    </tr>\n",
              "  </tbody>\n",
              "</table>\n",
              "</div>"
            ],
            "text/plain": [
              "    number       value               duration  params_feature_fraction  \\\n",
              "12      12  278.717823 0 days 00:00:03.798330                 0.314475   \n",
              "2        2  306.117927 0 days 00:00:03.576550                 0.349237   \n",
              "7        7  306.117927 0 days 00:00:03.416266                 0.349237   \n",
              "8        8  321.404805 0 days 00:00:03.442026                 0.146173   \n",
              "3        3  321.404805 0 days 00:00:03.534894                 0.146173   \n",
              "15      15  367.754752 0 days 00:00:03.483267                 0.267745   \n",
              "5        5  409.986150 0 days 00:00:03.437005                 0.176878   \n",
              "10      10  409.986150 0 days 00:00:03.530818                 0.176878   \n",
              "4        4  525.321633 0 days 00:00:03.521467                 0.665508   \n",
              "9        9  525.321633 0 days 00:00:03.440181                 0.665508   \n",
              "\n",
              "    params_learning_rate  params_max_depth  params_num_leaves  \\\n",
              "12              0.098443                 5                 25   \n",
              "2               0.084591                 6                 23   \n",
              "7               0.084591                 6                 23   \n",
              "8               0.070989                 7                 16   \n",
              "3               0.070989                 7                 16   \n",
              "15              0.093800                 4                 25   \n",
              "5               0.036396                 9                 14   \n",
              "10              0.036396                 9                 14   \n",
              "4               0.036001                 3                 22   \n",
              "9               0.036001                 3                 22   \n",
              "\n",
              "    params_num_trees  user_attrs_cv_errors_std  user_attrs_error_split_1  \\\n",
              "12                 8                 73.941599                405.627489   \n",
              "2                  8                 81.086923                448.319878   \n",
              "7                  8                 81.086923                448.319878   \n",
              "8                  9                 85.739122                471.255182   \n",
              "3                  9                 85.739122                471.255182   \n",
              "15                 5                101.512338                546.176180   \n",
              "5                 10                114.233100                610.568715   \n",
              "10                10                114.233100                610.568715   \n",
              "4                  3                152.304507                777.176608   \n",
              "9                  3                152.304507                777.176608   \n",
              "\n",
              "    user_attrs_error_split_2  user_attrs_error_split_3  \\\n",
              "12                242.308044                212.415680   \n",
              "2                 264.874165                236.122785   \n",
              "7                 264.874165                236.122785   \n",
              "8                 282.280264                249.030162   \n",
              "3                 282.280264                249.030162   \n",
              "15                319.425761                285.674737   \n",
              "5                 351.456660                319.696432   \n",
              "10                351.456660                319.696432   \n",
              "4                 436.196298                404.907744   \n",
              "9                 436.196298                404.907744   \n",
              "\n",
              "    user_attrs_error_split_4  user_attrs_error_split_5     state  \n",
              "12                317.689122                215.548777  COMPLETE  \n",
              "2                 343.429998                237.842807  COMPLETE  \n",
              "7                 343.429998                237.842807  COMPLETE  \n",
              "8                 360.524252                243.934167  COMPLETE  \n",
              "3                 360.524252                243.934167  COMPLETE  \n",
              "15                412.538628                274.958456  COMPLETE  \n",
              "5                 461.870091                306.338851  COMPLETE  \n",
              "10                461.870091                306.338851  COMPLETE  \n",
              "4                 625.023686                383.303830  COMPLETE  \n",
              "9                 625.023686                383.303830  COMPLETE  "
            ]
          },
          "execution_count": 29,
          "metadata": {},
          "output_type": "execute_result"
        }
      ],
      "source": [
        "study = optuna.create_study(\n",
        "    study_name=study_name, storage=storage_path, load_if_exists=True\n",
        ")\n",
        "print(\"number of trials in the study :\", len(study.trials))\n",
        "trials_df = study.trials_dataframe().drop(\n",
        "    columns=[\"datetime_start\", \"datetime_complete\"]\n",
        ")\n",
        "print(\"best studies :\")\n",
        "trials_df.sort_values(by=\"value\").head(10)"
      ]
    },
    {
      "cell_type": "code",
      "execution_count": null,
      "metadata": {
        "id": "lvm5eweaveTC"
      },
      "outputs": [],
      "source": []
    }
  ],
  "metadata": {
    "colab": {
      "include_colab_link": true,
      "provenance": []
    },
    "kernelspec": {
      "display_name": ".venv",
      "language": "python",
      "name": "python3"
    },
    "language_info": {
      "codemirror_mode": {
        "name": "ipython",
        "version": 3
      },
      "file_extension": ".py",
      "mimetype": "text/x-python",
      "name": "python",
      "nbconvert_exporter": "python",
      "pygments_lexer": "ipython3",
      "version": "3.10.11"
    }
  },
  "nbformat": 4,
  "nbformat_minor": 0
}
