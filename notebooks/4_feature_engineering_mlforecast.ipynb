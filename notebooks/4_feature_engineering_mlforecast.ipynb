{
 "cells": [
  {
   "cell_type": "markdown",
   "metadata": {},
   "source": [
    "# Feature Engineering\n",
    "\n",
    "In this notebook we will select and create features to feed our ML model. For now, we will focus on the consumption data.\n",
    "<br>\n",
    "We will use `MLForecast` to create the features."
   ]
  },
  {
   "cell_type": "code",
   "execution_count": 1,
   "metadata": {},
   "outputs": [],
   "source": [
    "import pandas as pd\n",
    "from mlforecast import MLForecast\n",
    "from mlforecast.lag_transforms import ExpandingMean, RollingMean\n",
    "from pathlib import Path"
   ]
  },
  {
   "cell_type": "code",
   "execution_count": 2,
   "metadata": {},
   "outputs": [],
   "source": [
    "import sys\n",
    "\n",
    "sys.path.append(\n",
    "    \"/Users/gabriel/Documents/Git/End-to-end-MLOps-for-Time-Series-Forecasting\"\n",
    ")\n",
    "from utils import load_config"
   ]
  },
  {
   "cell_type": "code",
   "execution_count": 3,
   "metadata": {},
   "outputs": [],
   "source": [
    "default_config_path = \"../configs/development/config.yaml\"\n",
    "config = load_config(default_config_path)"
   ]
  },
  {
   "cell_type": "markdown",
   "metadata": {},
   "source": [
    "# Feature Engineering function\n"
   ]
  },
  {
   "cell_type": "code",
   "execution_count": 4,
   "metadata": {},
   "outputs": [],
   "source": [
    "def feature_engineering(\n",
    "    df,\n",
    "    freq,\n",
    "    id_col,\n",
    "    time_col,\n",
    "    target_col,\n",
    "    lags,\n",
    "    rolling_mean_window_sizes,\n",
    "    lag_transforms_index,\n",
    "    date_features,\n",
    "    static_features,\n",
    "    on_test=False,  # TODO: if True, stack last rows of train on top of test data to keep all test data\n",
    "):\n",
    "    lag_transforms = {\n",
    "        i: [ExpandingMean()]\n",
    "        + [RollingMean(window_size) for window_size in rolling_mean_window_sizes]\n",
    "        for i in lag_transforms_index\n",
    "    }\n",
    "    fcst = MLForecast(\n",
    "        models=[],\n",
    "        freq=freq,\n",
    "        lags=lags,\n",
    "        lag_transforms=lag_transforms,\n",
    "        date_features=date_features,\n",
    "    )\n",
    "    df_transformed = fcst.preprocess(\n",
    "        df,\n",
    "        id_col=id_col,\n",
    "        time_col=time_col,\n",
    "        target_col=target_col,\n",
    "        static_features=static_features,\n",
    "    )\n",
    "    return df_transformed"
   ]
  },
  {
   "cell_type": "markdown",
   "metadata": {},
   "source": [
    "# Testing the function"
   ]
  },
  {
   "cell_type": "code",
   "execution_count": 5,
   "metadata": {},
   "outputs": [
    {
     "name": "stdout",
     "output_type": "stream",
     "text": [
      "(760650, 9)\n"
     ]
    },
    {
     "data": {
      "text/html": [
       "<div>\n",
       "<style scoped>\n",
       "    .dataframe tbody tr th:only-of-type {\n",
       "        vertical-align: middle;\n",
       "    }\n",
       "\n",
       "    .dataframe tbody tr th {\n",
       "        vertical-align: top;\n",
       "    }\n",
       "\n",
       "    .dataframe thead th {\n",
       "        text-align: right;\n",
       "    }\n",
       "</style>\n",
       "<table border=\"1\" class=\"dataframe\">\n",
       "  <thead>\n",
       "    <tr style=\"text-align: right;\">\n",
       "      <th></th>\n",
       "      <th>target</th>\n",
       "      <th>county</th>\n",
       "      <th>is_business</th>\n",
       "      <th>product_type</th>\n",
       "      <th>is_consumption</th>\n",
       "      <th>datetime</th>\n",
       "      <th>data_block_id</th>\n",
       "      <th>row_id</th>\n",
       "      <th>prediction_unit_id</th>\n",
       "    </tr>\n",
       "  </thead>\n",
       "  <tbody>\n",
       "    <tr>\n",
       "      <th>0</th>\n",
       "      <td>96.590</td>\n",
       "      <td>0</td>\n",
       "      <td>0</td>\n",
       "      <td>1</td>\n",
       "      <td>1</td>\n",
       "      <td>2021-09-01</td>\n",
       "      <td>0</td>\n",
       "      <td>1</td>\n",
       "      <td>0</td>\n",
       "    </tr>\n",
       "    <tr>\n",
       "      <th>1</th>\n",
       "      <td>32.354</td>\n",
       "      <td>8</td>\n",
       "      <td>0</td>\n",
       "      <td>3</td>\n",
       "      <td>1</td>\n",
       "      <td>2021-09-01</td>\n",
       "      <td>0</td>\n",
       "      <td>65</td>\n",
       "      <td>32</td>\n",
       "    </tr>\n",
       "    <tr>\n",
       "      <th>2</th>\n",
       "      <td>129.063</td>\n",
       "      <td>8</td>\n",
       "      <td>1</td>\n",
       "      <td>3</td>\n",
       "      <td>1</td>\n",
       "      <td>2021-09-01</td>\n",
       "      <td>0</td>\n",
       "      <td>67</td>\n",
       "      <td>33</td>\n",
       "    </tr>\n",
       "    <tr>\n",
       "      <th>3</th>\n",
       "      <td>13.922</td>\n",
       "      <td>9</td>\n",
       "      <td>0</td>\n",
       "      <td>1</td>\n",
       "      <td>1</td>\n",
       "      <td>2021-09-01</td>\n",
       "      <td>0</td>\n",
       "      <td>69</td>\n",
       "      <td>34</td>\n",
       "    </tr>\n",
       "    <tr>\n",
       "      <th>4</th>\n",
       "      <td>91.447</td>\n",
       "      <td>9</td>\n",
       "      <td>0</td>\n",
       "      <td>3</td>\n",
       "      <td>1</td>\n",
       "      <td>2021-09-01</td>\n",
       "      <td>0</td>\n",
       "      <td>71</td>\n",
       "      <td>35</td>\n",
       "    </tr>\n",
       "  </tbody>\n",
       "</table>\n",
       "</div>"
      ],
      "text/plain": [
       "    target  county  is_business  product_type  is_consumption   datetime  \\\n",
       "0   96.590       0            0             1               1 2021-09-01   \n",
       "1   32.354       8            0             3               1 2021-09-01   \n",
       "2  129.063       8            1             3               1 2021-09-01   \n",
       "3   13.922       9            0             1               1 2021-09-01   \n",
       "4   91.447       9            0             3               1 2021-09-01   \n",
       "\n",
       "   data_block_id  row_id  prediction_unit_id  \n",
       "0              0       1                   0  \n",
       "1              0      65                  32  \n",
       "2              0      67                  33  \n",
       "3              0      69                  34  \n",
       "4              0      71                  35  "
      ]
     },
     "execution_count": 5,
     "metadata": {},
     "output_type": "execute_result"
    }
   ],
   "source": [
    "df = pd.read_csv(\"../data/preprocessed/consumption_train.csv\", parse_dates=[\"datetime\"])\n",
    "print(df.shape)\n",
    "df.head()"
   ]
  },
  {
   "cell_type": "code",
   "execution_count": 6,
   "metadata": {},
   "outputs": [
    {
     "data": {
      "text/html": [
       "<div>\n",
       "<style scoped>\n",
       "    .dataframe tbody tr th:only-of-type {\n",
       "        vertical-align: middle;\n",
       "    }\n",
       "\n",
       "    .dataframe tbody tr th {\n",
       "        vertical-align: top;\n",
       "    }\n",
       "\n",
       "    .dataframe thead th {\n",
       "        text-align: right;\n",
       "    }\n",
       "</style>\n",
       "<table border=\"1\" class=\"dataframe\">\n",
       "  <thead>\n",
       "    <tr style=\"text-align: right;\">\n",
       "      <th></th>\n",
       "      <th>target</th>\n",
       "      <th>county</th>\n",
       "      <th>is_business</th>\n",
       "      <th>product_type</th>\n",
       "      <th>is_consumption</th>\n",
       "      <th>datetime</th>\n",
       "      <th>data_block_id</th>\n",
       "      <th>row_id</th>\n",
       "      <th>prediction_unit_id</th>\n",
       "      <th>lag48</th>\n",
       "      <th>...</th>\n",
       "      <th>lag144</th>\n",
       "      <th>lag168</th>\n",
       "      <th>expanding_mean_lag48</th>\n",
       "      <th>rolling_mean_lag48_window_size6</th>\n",
       "      <th>rolling_mean_lag48_window_size12</th>\n",
       "      <th>rolling_mean_lag48_window_size24</th>\n",
       "      <th>rolling_mean_lag48_window_size48</th>\n",
       "      <th>month</th>\n",
       "      <th>dayofweek</th>\n",
       "      <th>hour</th>\n",
       "    </tr>\n",
       "  </thead>\n",
       "  <tbody>\n",
       "    <tr>\n",
       "      <th>9408</th>\n",
       "      <td>232.640</td>\n",
       "      <td>11</td>\n",
       "      <td>0</td>\n",
       "      <td>3</td>\n",
       "      <td>1</td>\n",
       "      <td>2021-09-08</td>\n",
       "      <td>7</td>\n",
       "      <td>20587</td>\n",
       "      <td>45</td>\n",
       "      <td>260.052</td>\n",
       "      <td>...</td>\n",
       "      <td>257.347</td>\n",
       "      <td>229.602</td>\n",
       "      <td>196.218595</td>\n",
       "      <td>370.763667</td>\n",
       "      <td>265.144083</td>\n",
       "      <td>228.315958</td>\n",
       "      <td>215.394042</td>\n",
       "      <td>9</td>\n",
       "      <td>2</td>\n",
       "      <td>0</td>\n",
       "    </tr>\n",
       "    <tr>\n",
       "      <th>9409</th>\n",
       "      <td>22.824</td>\n",
       "      <td>11</td>\n",
       "      <td>0</td>\n",
       "      <td>1</td>\n",
       "      <td>1</td>\n",
       "      <td>2021-09-08</td>\n",
       "      <td>7</td>\n",
       "      <td>20583</td>\n",
       "      <td>43</td>\n",
       "      <td>26.557</td>\n",
       "      <td>...</td>\n",
       "      <td>24.060</td>\n",
       "      <td>21.099</td>\n",
       "      <td>20.751099</td>\n",
       "      <td>34.595500</td>\n",
       "      <td>26.141000</td>\n",
       "      <td>23.435333</td>\n",
       "      <td>22.742208</td>\n",
       "      <td>9</td>\n",
       "      <td>2</td>\n",
       "      <td>0</td>\n",
       "    </tr>\n",
       "    <tr>\n",
       "      <th>9410</th>\n",
       "      <td>924.467</td>\n",
       "      <td>10</td>\n",
       "      <td>1</td>\n",
       "      <td>3</td>\n",
       "      <td>1</td>\n",
       "      <td>2021-09-08</td>\n",
       "      <td>7</td>\n",
       "      <td>20581</td>\n",
       "      <td>42</td>\n",
       "      <td>822.525</td>\n",
       "      <td>...</td>\n",
       "      <td>833.737</td>\n",
       "      <td>927.349</td>\n",
       "      <td>922.493322</td>\n",
       "      <td>821.747833</td>\n",
       "      <td>646.008250</td>\n",
       "      <td>641.936083</td>\n",
       "      <td>690.803396</td>\n",
       "      <td>9</td>\n",
       "      <td>2</td>\n",
       "      <td>0</td>\n",
       "    </tr>\n",
       "    <tr>\n",
       "      <th>9411</th>\n",
       "      <td>36.727</td>\n",
       "      <td>10</td>\n",
       "      <td>1</td>\n",
       "      <td>1</td>\n",
       "      <td>1</td>\n",
       "      <td>2021-09-08</td>\n",
       "      <td>7</td>\n",
       "      <td>20577</td>\n",
       "      <td>40</td>\n",
       "      <td>39.887</td>\n",
       "      <td>...</td>\n",
       "      <td>34.783</td>\n",
       "      <td>43.957</td>\n",
       "      <td>30.143909</td>\n",
       "      <td>42.943833</td>\n",
       "      <td>24.458167</td>\n",
       "      <td>24.878667</td>\n",
       "      <td>25.404521</td>\n",
       "      <td>9</td>\n",
       "      <td>2</td>\n",
       "      <td>0</td>\n",
       "    </tr>\n",
       "    <tr>\n",
       "      <th>9412</th>\n",
       "      <td>77.040</td>\n",
       "      <td>10</td>\n",
       "      <td>0</td>\n",
       "      <td>3</td>\n",
       "      <td>1</td>\n",
       "      <td>2021-09-08</td>\n",
       "      <td>7</td>\n",
       "      <td>20575</td>\n",
       "      <td>39</td>\n",
       "      <td>106.057</td>\n",
       "      <td>...</td>\n",
       "      <td>73.250</td>\n",
       "      <td>77.071</td>\n",
       "      <td>63.335521</td>\n",
       "      <td>123.578667</td>\n",
       "      <td>76.412583</td>\n",
       "      <td>71.224708</td>\n",
       "      <td>73.752542</td>\n",
       "      <td>9</td>\n",
       "      <td>2</td>\n",
       "      <td>0</td>\n",
       "    </tr>\n",
       "  </tbody>\n",
       "</table>\n",
       "<p>5 rows × 23 columns</p>\n",
       "</div>"
      ],
      "text/plain": [
       "       target  county  is_business  product_type  is_consumption   datetime  \\\n",
       "9408  232.640      11            0             3               1 2021-09-08   \n",
       "9409   22.824      11            0             1               1 2021-09-08   \n",
       "9410  924.467      10            1             3               1 2021-09-08   \n",
       "9411   36.727      10            1             1               1 2021-09-08   \n",
       "9412   77.040      10            0             3               1 2021-09-08   \n",
       "\n",
       "      data_block_id  row_id  prediction_unit_id    lag48  ...   lag144  \\\n",
       "9408              7   20587                  45  260.052  ...  257.347   \n",
       "9409              7   20583                  43   26.557  ...   24.060   \n",
       "9410              7   20581                  42  822.525  ...  833.737   \n",
       "9411              7   20577                  40   39.887  ...   34.783   \n",
       "9412              7   20575                  39  106.057  ...   73.250   \n",
       "\n",
       "       lag168  expanding_mean_lag48  rolling_mean_lag48_window_size6  \\\n",
       "9408  229.602            196.218595                       370.763667   \n",
       "9409   21.099             20.751099                        34.595500   \n",
       "9410  927.349            922.493322                       821.747833   \n",
       "9411   43.957             30.143909                        42.943833   \n",
       "9412   77.071             63.335521                       123.578667   \n",
       "\n",
       "      rolling_mean_lag48_window_size12  rolling_mean_lag48_window_size24  \\\n",
       "9408                        265.144083                        228.315958   \n",
       "9409                         26.141000                         23.435333   \n",
       "9410                        646.008250                        641.936083   \n",
       "9411                         24.458167                         24.878667   \n",
       "9412                         76.412583                         71.224708   \n",
       "\n",
       "      rolling_mean_lag48_window_size48  month  dayofweek  hour  \n",
       "9408                        215.394042      9          2     0  \n",
       "9409                         22.742208      9          2     0  \n",
       "9410                        690.803396      9          2     0  \n",
       "9411                         25.404521      9          2     0  \n",
       "9412                         73.752542      9          2     0  \n",
       "\n",
       "[5 rows x 23 columns]"
      ]
     },
     "execution_count": 6,
     "metadata": {},
     "output_type": "execute_result"
    }
   ],
   "source": [
    "X = feature_engineering(\n",
    "    df=df,\n",
    "    freq=config[\"freq\"],\n",
    "    id_col=config[\"id_col\"],\n",
    "    time_col=config[\"time_col\"],\n",
    "    target_col=config[\"target_col\"],\n",
    "    lags=config[\"lags\"],\n",
    "    rolling_mean_window_sizes=config[\"rolling_mean_window_sizes\"],\n",
    "    lag_transforms_index=config[\"lag_transforms_index\"],\n",
    "    date_features=config[\"date_features\"],\n",
    "    static_features=config[\"static_features\"],\n",
    "    on_test=False,\n",
    ")\n",
    "X.head()"
   ]
  },
  {
   "cell_type": "markdown",
   "metadata": {},
   "source": [
    "Explanation of the `lag_transforms` features:\n",
    "- expanding_mean_lag**N**: expanding mean until lag **N**.\n",
    "- rolling_mean_lag**N**_window_size**M**: rolling mean starting from lag **N** over the previous **M** values.\n",
    "<br>\n",
    "Example: rolling_mean_lag**5**_window_size**3** corresponds to the rolling mean starting from lag**5** over the previous **3** values. So this the means of lags 5, 6 and 7."
   ]
  },
  {
   "cell_type": "code",
   "execution_count": 7,
   "metadata": {},
   "outputs": [
    {
     "name": "stdout",
     "output_type": "stream",
     "text": [
      "consumption_train.csv : on_test=False\n",
      "consumption_test.csv : on_test=True\n",
      "production_train.csv : on_test=False\n",
      "production_test.csv : on_test=True\n"
     ]
    }
   ],
   "source": [
    "files = [\n",
    "    \"consumption_train.csv\",\n",
    "    \"consumption_test.csv\",\n",
    "    \"production_train.csv\",\n",
    "    \"production_test.csv\",\n",
    "]\n",
    "\n",
    "for file in files:\n",
    "    on_test = True if \"test\" in file else False\n",
    "    print(file, f\": on_test={on_test}\")"
   ]
  },
  {
   "cell_type": "code",
   "execution_count": 8,
   "metadata": {},
   "outputs": [
    {
     "name": "stdout",
     "output_type": "stream",
     "text": [
      "consumption_train.csv processed and saved to ../data/processed\n",
      "consumption_test.csv processed and saved to ../data/processed\n",
      "production_train.csv processed and saved to ../data/processed\n",
      "production_test.csv processed and saved to ../data/processed\n"
     ]
    }
   ],
   "source": [
    "preprocessed_path = \"../data/preprocessed\"\n",
    "processed_path = \"../data/processed\"\n",
    "\n",
    "for file in files:\n",
    "    df = pd.read_csv(Path(preprocessed_path, file), parse_dates=[\"datetime\"])\n",
    "    on_test = True if file.split(\".\")[0].split(\"_\")[1] == \"test\" else False\n",
    "    df_transformed = feature_engineering(\n",
    "        df=df,\n",
    "        freq=config[\"freq\"],\n",
    "        id_col=config[\"id_col\"],\n",
    "        time_col=config[\"time_col\"],\n",
    "        target_col=config[\"target_col\"],\n",
    "        lags=config[\"lags\"],\n",
    "        rolling_mean_window_sizes=config[\"rolling_mean_window_sizes\"],\n",
    "        lag_transforms_index=config[\"lag_transforms_index\"],\n",
    "        date_features=config[\"date_features\"],\n",
    "        static_features=config[\"static_features\"],\n",
    "        on_test=False,\n",
    "    )\n",
    "    # df_transformed.to_csv(Path(processed_path, file), index=False)\n",
    "    print(f\"{file} processed and saved to {processed_path}\")"
   ]
  },
  {
   "cell_type": "markdown",
   "metadata": {},
   "source": [
    "# Stack last train rows on top of test\n",
    "\n",
    "When applying feature engineering we remove the first rows of the dataframe.\n",
    "First determine the value of `step` for which `X` and `df` are aligned according to \"datetime\".\n",
    "Once it's done, stack the last `n_step` values of `train` on top of `test` so that we don't lose\n",
    "the first rows of test after preprocessing."
   ]
  },
  {
   "cell_type": "code",
   "execution_count": 9,
   "metadata": {},
   "outputs": [],
   "source": [
    "# # TODO: determine the value of `step` for which `X` and `df` are aligned according to \"datetime\".\n",
    "# # Once it's done, stack the last `n_step` values of `train` on top of `test` so that we don't lose\n",
    "# # the first rows of test after preprocessing.\n",
    "# step = forecast_horizon + max(n_lags, n_lag_transforms) - 1\n",
    "# step"
   ]
  },
  {
   "cell_type": "code",
   "execution_count": 10,
   "metadata": {},
   "outputs": [],
   "source": [
    "# X_ = X.sort_values(by=[\"prediction_unit_id\", \"datetime\"])\n",
    "# df_ = df.sort_values(by=[\"prediction_unit_id\", \"datetime\"])\n",
    "# print(\n",
    "#     (X_[\"datetime\"].head().values == df_[\"datetime\"].iloc[step : step + 5].values).sum()\n",
    "#     == 5\n",
    "# )\n",
    "# print((X_[\"datetime\"].tail().values == df_[\"datetime\"].tail().values).sum() == 5)"
   ]
  },
  {
   "cell_type": "code",
   "execution_count": 11,
   "metadata": {},
   "outputs": [],
   "source": [
    "# import random\n",
    "\n",
    "# random.seed(0)\n",
    "\n",
    "# forecast_horizon_list = random.choices(range(1, 10), k=3)\n",
    "# n_lags_list = random.choices(range(1, 10), k=3)\n",
    "# rolling_mean_window_size_list = random.choices(range(1, 10), k=3)\n",
    "# n_lag_transforms_list = random.choices(range(1, 10), k=3)\n",
    "# forecast_horizon_list"
   ]
  },
  {
   "cell_type": "code",
   "execution_count": 12,
   "metadata": {},
   "outputs": [],
   "source": [
    "# import itertools\n",
    "\n",
    "# combinations = itertools.product(\n",
    "#     forecast_horizon_list,\n",
    "#     n_lags_list,\n",
    "#     rolling_mean_window_size_list,\n",
    "#     n_lag_transforms_list,\n",
    "# )\n",
    "# # len(list(combinations))"
   ]
  },
  {
   "cell_type": "code",
   "execution_count": 13,
   "metadata": {},
   "outputs": [],
   "source": [
    "# print(f\"forecast_horizon_list : {forecast_horizon_list}\")\n",
    "# print(f\"n_lags_list : {n_lags_list}\")\n",
    "# print(f\"rolling_mean_window_size_list : {rolling_mean_window_size_list}\")\n",
    "# print(f\"n_lag_transforms_list : {n_lag_transforms_list}\")"
   ]
  },
  {
   "cell_type": "code",
   "execution_count": 14,
   "metadata": {},
   "outputs": [],
   "source": [
    "# for _ in combinations:\n",
    "#     forecast_horizon, n_lags, rolling_mean_window_size, n_lag_transforms = _\n",
    "#     print(_)\n",
    "#     break"
   ]
  },
  {
   "cell_type": "code",
   "execution_count": null,
   "metadata": {},
   "outputs": [],
   "source": []
  },
  {
   "cell_type": "code",
   "execution_count": null,
   "metadata": {},
   "outputs": [],
   "source": []
  },
  {
   "cell_type": "code",
   "execution_count": null,
   "metadata": {},
   "outputs": [],
   "source": []
  },
  {
   "cell_type": "markdown",
   "metadata": {},
   "source": [
    "# Testing the function on test set"
   ]
  },
  {
   "cell_type": "code",
   "execution_count": 15,
   "metadata": {},
   "outputs": [],
   "source": [
    "# df_test = pd.read_csv(\"../data/preprocessed/consumption_test.csv\", parse_dates=[\"datetime\"])\n",
    "# print(df_test.shape)\n",
    "# df_test.head()"
   ]
  },
  {
   "cell_type": "code",
   "execution_count": 16,
   "metadata": {},
   "outputs": [],
   "source": [
    "# X = feature_engineering(df_test, on_test=True)\n",
    "# print(X.shape)\n",
    "# X.head()"
   ]
  },
  {
   "cell_type": "code",
   "execution_count": 17,
   "metadata": {},
   "outputs": [],
   "source": [
    "# X.tail()"
   ]
  },
  {
   "cell_type": "code",
   "execution_count": 18,
   "metadata": {},
   "outputs": [],
   "source": [
    "# X.isna().sum().sum()"
   ]
  },
  {
   "cell_type": "code",
   "execution_count": null,
   "metadata": {},
   "outputs": [],
   "source": []
  }
 ],
 "metadata": {
  "kernelspec": {
   "display_name": ".venv",
   "language": "python",
   "name": "python3"
  },
  "language_info": {
   "codemirror_mode": {
    "name": "ipython",
    "version": 3
   },
   "file_extension": ".py",
   "mimetype": "text/x-python",
   "name": "python",
   "nbconvert_exporter": "python",
   "pygments_lexer": "ipython3",
   "version": "3.10.11"
  }
 },
 "nbformat": 4,
 "nbformat_minor": 2
}
