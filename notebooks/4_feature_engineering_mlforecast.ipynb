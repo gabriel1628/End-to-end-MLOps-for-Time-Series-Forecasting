{
 "cells": [
  {
   "cell_type": "markdown",
   "metadata": {},
   "source": [
    "# Feature Engineering\n",
    "\n",
    "In this notebook we will select and create features to feed our ML model. For now, we will focus on the consumption data.\n",
    "<br>\n",
    "We will use `MLForecast` to create the features."
   ]
  },
  {
   "cell_type": "code",
   "execution_count": 50,
   "metadata": {},
   "outputs": [],
   "source": [
    "import pandas as pd\n",
    "from mlforecast import MLForecast\n",
    "from mlforecast.lag_transforms import ExpandingMean, RollingMean\n",
    "from pathlib import Path"
   ]
  },
  {
   "cell_type": "code",
   "execution_count": 51,
   "metadata": {},
   "outputs": [],
   "source": [
    "import sys\n",
    "sys.path.append(\"/Users/gabriel/Documents/Git/End-to-end MLOps for Time Series\")\n",
    "from utils import load_config"
   ]
  },
  {
   "cell_type": "code",
   "execution_count": 52,
   "metadata": {},
   "outputs": [],
   "source": [
    "default_config_path = \"../config/development/pipeline.yaml\"\n",
    "config = load_config(default_config_path)"
   ]
  },
  {
   "cell_type": "markdown",
   "metadata": {},
   "source": [
    "# Feature Engineering function"
   ]
  },
  {
   "cell_type": "code",
   "execution_count": 53,
   "metadata": {},
   "outputs": [],
   "source": [
    "def feature_engineering(\n",
    "    df,\n",
    "    freq,\n",
    "    id_col,\n",
    "    time_col,\n",
    "    target_col,\n",
    "    forecast_horizon,\n",
    "    n_lags,\n",
    "    rolling_mean_window_size,\n",
    "    n_lag_transforms,\n",
    "    date_features,\n",
    "    static_features,\n",
    "    on_test=False, # TODO: if True, stack last rows of train on top of test data\n",
    "):\n",
    "    lags = [i for i in range(forecast_horizon, forecast_horizon + n_lags)]\n",
    "    lag_transforms = {\n",
    "        i: [ExpandingMean(), RollingMean(window_size=rolling_mean_window_size)]\n",
    "        for i in range(forecast_horizon, forecast_horizon + n_lag_transforms)\n",
    "    }\n",
    "    fcst = MLForecast(\n",
    "        models=[],\n",
    "        freq=freq,\n",
    "        lags=lags,\n",
    "        lag_transforms=lag_transforms,\n",
    "        date_features=date_features,\n",
    "    )\n",
    "    df_transformed = fcst.preprocess(\n",
    "        df,\n",
    "        id_col=id_col,\n",
    "        time_col=time_col,\n",
    "        target_col=target_col,\n",
    "        static_features=static_features,\n",
    "    )\n",
    "    return df_transformed"
   ]
  },
  {
   "cell_type": "markdown",
   "metadata": {},
   "source": [
    "# Testing the function"
   ]
  },
  {
   "cell_type": "code",
   "execution_count": 54,
   "metadata": {},
   "outputs": [
    {
     "name": "stdout",
     "output_type": "stream",
     "text": [
      "(760650, 9)\n"
     ]
    },
    {
     "data": {
      "text/html": [
       "<div>\n",
       "<style scoped>\n",
       "    .dataframe tbody tr th:only-of-type {\n",
       "        vertical-align: middle;\n",
       "    }\n",
       "\n",
       "    .dataframe tbody tr th {\n",
       "        vertical-align: top;\n",
       "    }\n",
       "\n",
       "    .dataframe thead th {\n",
       "        text-align: right;\n",
       "    }\n",
       "</style>\n",
       "<table border=\"1\" class=\"dataframe\">\n",
       "  <thead>\n",
       "    <tr style=\"text-align: right;\">\n",
       "      <th></th>\n",
       "      <th>county</th>\n",
       "      <th>is_business</th>\n",
       "      <th>product_type</th>\n",
       "      <th>target</th>\n",
       "      <th>is_consumption</th>\n",
       "      <th>datetime</th>\n",
       "      <th>data_block_id</th>\n",
       "      <th>row_id</th>\n",
       "      <th>prediction_unit_id</th>\n",
       "    </tr>\n",
       "  </thead>\n",
       "  <tbody>\n",
       "    <tr>\n",
       "      <th>0</th>\n",
       "      <td>0</td>\n",
       "      <td>0</td>\n",
       "      <td>1</td>\n",
       "      <td>96.590</td>\n",
       "      <td>1</td>\n",
       "      <td>2021-09-01</td>\n",
       "      <td>0</td>\n",
       "      <td>1</td>\n",
       "      <td>0</td>\n",
       "    </tr>\n",
       "    <tr>\n",
       "      <th>1</th>\n",
       "      <td>3</td>\n",
       "      <td>0</td>\n",
       "      <td>3</td>\n",
       "      <td>39.241</td>\n",
       "      <td>1</td>\n",
       "      <td>2021-09-01</td>\n",
       "      <td>0</td>\n",
       "      <td>25</td>\n",
       "      <td>12</td>\n",
       "    </tr>\n",
       "    <tr>\n",
       "      <th>2</th>\n",
       "      <td>7</td>\n",
       "      <td>1</td>\n",
       "      <td>3</td>\n",
       "      <td>453.023</td>\n",
       "      <td>1</td>\n",
       "      <td>2021-09-01</td>\n",
       "      <td>0</td>\n",
       "      <td>61</td>\n",
       "      <td>30</td>\n",
       "    </tr>\n",
       "    <tr>\n",
       "      <th>3</th>\n",
       "      <td>8</td>\n",
       "      <td>0</td>\n",
       "      <td>1</td>\n",
       "      <td>9.787</td>\n",
       "      <td>1</td>\n",
       "      <td>2021-09-01</td>\n",
       "      <td>0</td>\n",
       "      <td>63</td>\n",
       "      <td>31</td>\n",
       "    </tr>\n",
       "    <tr>\n",
       "      <th>4</th>\n",
       "      <td>3</td>\n",
       "      <td>0</td>\n",
       "      <td>1</td>\n",
       "      <td>14.964</td>\n",
       "      <td>1</td>\n",
       "      <td>2021-09-01</td>\n",
       "      <td>0</td>\n",
       "      <td>23</td>\n",
       "      <td>11</td>\n",
       "    </tr>\n",
       "  </tbody>\n",
       "</table>\n",
       "</div>"
      ],
      "text/plain": [
       "   county  is_business  product_type   target  is_consumption   datetime  \\\n",
       "0       0            0             1   96.590               1 2021-09-01   \n",
       "1       3            0             3   39.241               1 2021-09-01   \n",
       "2       7            1             3  453.023               1 2021-09-01   \n",
       "3       8            0             1    9.787               1 2021-09-01   \n",
       "4       3            0             1   14.964               1 2021-09-01   \n",
       "\n",
       "   data_block_id  row_id  prediction_unit_id  \n",
       "0              0       1                   0  \n",
       "1              0      25                  12  \n",
       "2              0      61                  30  \n",
       "3              0      63                  31  \n",
       "4              0      23                  11  "
      ]
     },
     "execution_count": 54,
     "metadata": {},
     "output_type": "execute_result"
    }
   ],
   "source": [
    "df = pd.read_csv(\"../data/preprocessed/consumption_train.csv\", parse_dates=[\"datetime\"])\n",
    "print(df.shape)\n",
    "df.head()"
   ]
  },
  {
   "cell_type": "code",
   "execution_count": 56,
   "metadata": {},
   "outputs": [
    {
     "data": {
      "text/html": [
       "<div>\n",
       "<style scoped>\n",
       "    .dataframe tbody tr th:only-of-type {\n",
       "        vertical-align: middle;\n",
       "    }\n",
       "\n",
       "    .dataframe tbody tr th {\n",
       "        vertical-align: top;\n",
       "    }\n",
       "\n",
       "    .dataframe thead th {\n",
       "        text-align: right;\n",
       "    }\n",
       "</style>\n",
       "<table border=\"1\" class=\"dataframe\">\n",
       "  <thead>\n",
       "    <tr style=\"text-align: right;\">\n",
       "      <th></th>\n",
       "      <th>county</th>\n",
       "      <th>is_business</th>\n",
       "      <th>product_type</th>\n",
       "      <th>target</th>\n",
       "      <th>is_consumption</th>\n",
       "      <th>datetime</th>\n",
       "      <th>data_block_id</th>\n",
       "      <th>row_id</th>\n",
       "      <th>prediction_unit_id</th>\n",
       "      <th>lag48</th>\n",
       "      <th>...</th>\n",
       "      <th>rolling_mean_lag48_window_size4</th>\n",
       "      <th>expanding_mean_lag49</th>\n",
       "      <th>rolling_mean_lag49_window_size4</th>\n",
       "      <th>expanding_mean_lag50</th>\n",
       "      <th>rolling_mean_lag50_window_size4</th>\n",
       "      <th>expanding_mean_lag51</th>\n",
       "      <th>rolling_mean_lag51_window_size4</th>\n",
       "      <th>month</th>\n",
       "      <th>dayofweek</th>\n",
       "      <th>hour</th>\n",
       "    </tr>\n",
       "  </thead>\n",
       "  <tbody>\n",
       "    <tr>\n",
       "      <th>3046</th>\n",
       "      <td>0</td>\n",
       "      <td>0</td>\n",
       "      <td>1</td>\n",
       "      <td>109.170</td>\n",
       "      <td>1</td>\n",
       "      <td>2021-09-03 06:00:00</td>\n",
       "      <td>2</td>\n",
       "      <td>6589</td>\n",
       "      <td>0</td>\n",
       "      <td>96.481</td>\n",
       "      <td>...</td>\n",
       "      <td>90.60025</td>\n",
       "      <td>88.632500</td>\n",
       "      <td>89.37850</td>\n",
       "      <td>88.402800</td>\n",
       "      <td>86.35600</td>\n",
       "      <td>88.457500</td>\n",
       "      <td>88.45750</td>\n",
       "      <td>9</td>\n",
       "      <td>4</td>\n",
       "      <td>6</td>\n",
       "    </tr>\n",
       "    <tr>\n",
       "      <th>3105</th>\n",
       "      <td>0</td>\n",
       "      <td>0</td>\n",
       "      <td>1</td>\n",
       "      <td>108.439</td>\n",
       "      <td>1</td>\n",
       "      <td>2021-09-03 07:00:00</td>\n",
       "      <td>2</td>\n",
       "      <td>6711</td>\n",
       "      <td>0</td>\n",
       "      <td>94.592</td>\n",
       "      <td>...</td>\n",
       "      <td>92.25950</td>\n",
       "      <td>89.753714</td>\n",
       "      <td>90.60025</td>\n",
       "      <td>88.632500</td>\n",
       "      <td>89.37850</td>\n",
       "      <td>88.402800</td>\n",
       "      <td>86.35600</td>\n",
       "      <td>9</td>\n",
       "      <td>4</td>\n",
       "      <td>7</td>\n",
       "    </tr>\n",
       "    <tr>\n",
       "      <th>3187</th>\n",
       "      <td>0</td>\n",
       "      <td>0</td>\n",
       "      <td>1</td>\n",
       "      <td>95.669</td>\n",
       "      <td>1</td>\n",
       "      <td>2021-09-03 08:00:00</td>\n",
       "      <td>2</td>\n",
       "      <td>6833</td>\n",
       "      <td>0</td>\n",
       "      <td>77.308</td>\n",
       "      <td>...</td>\n",
       "      <td>89.54050</td>\n",
       "      <td>90.358500</td>\n",
       "      <td>92.25950</td>\n",
       "      <td>89.753714</td>\n",
       "      <td>90.60025</td>\n",
       "      <td>88.632500</td>\n",
       "      <td>89.37850</td>\n",
       "      <td>9</td>\n",
       "      <td>4</td>\n",
       "      <td>8</td>\n",
       "    </tr>\n",
       "    <tr>\n",
       "      <th>3247</th>\n",
       "      <td>0</td>\n",
       "      <td>0</td>\n",
       "      <td>1</td>\n",
       "      <td>73.070</td>\n",
       "      <td>1</td>\n",
       "      <td>2021-09-03 09:00:00</td>\n",
       "      <td>2</td>\n",
       "      <td>6955</td>\n",
       "      <td>0</td>\n",
       "      <td>54.211</td>\n",
       "      <td>...</td>\n",
       "      <td>80.64800</td>\n",
       "      <td>88.908444</td>\n",
       "      <td>89.54050</td>\n",
       "      <td>90.358500</td>\n",
       "      <td>92.25950</td>\n",
       "      <td>89.753714</td>\n",
       "      <td>90.60025</td>\n",
       "      <td>9</td>\n",
       "      <td>4</td>\n",
       "      <td>9</td>\n",
       "    </tr>\n",
       "    <tr>\n",
       "      <th>3284</th>\n",
       "      <td>0</td>\n",
       "      <td>0</td>\n",
       "      <td>1</td>\n",
       "      <td>50.981</td>\n",
       "      <td>1</td>\n",
       "      <td>2021-09-03 10:00:00</td>\n",
       "      <td>2</td>\n",
       "      <td>7077</td>\n",
       "      <td>0</td>\n",
       "      <td>36.071</td>\n",
       "      <td>...</td>\n",
       "      <td>65.54550</td>\n",
       "      <td>85.438700</td>\n",
       "      <td>80.64800</td>\n",
       "      <td>88.908444</td>\n",
       "      <td>89.54050</td>\n",
       "      <td>90.358500</td>\n",
       "      <td>92.25950</td>\n",
       "      <td>9</td>\n",
       "      <td>4</td>\n",
       "      <td>10</td>\n",
       "    </tr>\n",
       "  </tbody>\n",
       "</table>\n",
       "<p>5 rows × 24 columns</p>\n",
       "</div>"
      ],
      "text/plain": [
       "      county  is_business  product_type   target  is_consumption  \\\n",
       "3046       0            0             1  109.170               1   \n",
       "3105       0            0             1  108.439               1   \n",
       "3187       0            0             1   95.669               1   \n",
       "3247       0            0             1   73.070               1   \n",
       "3284       0            0             1   50.981               1   \n",
       "\n",
       "                datetime  data_block_id  row_id  prediction_unit_id   lag48  \\\n",
       "3046 2021-09-03 06:00:00              2    6589                   0  96.481   \n",
       "3105 2021-09-03 07:00:00              2    6711                   0  94.592   \n",
       "3187 2021-09-03 08:00:00              2    6833                   0  77.308   \n",
       "3247 2021-09-03 09:00:00              2    6955                   0  54.211   \n",
       "3284 2021-09-03 10:00:00              2    7077                   0  36.071   \n",
       "\n",
       "      ...  rolling_mean_lag48_window_size4  expanding_mean_lag49  \\\n",
       "3046  ...                         90.60025             88.632500   \n",
       "3105  ...                         92.25950             89.753714   \n",
       "3187  ...                         89.54050             90.358500   \n",
       "3247  ...                         80.64800             88.908444   \n",
       "3284  ...                         65.54550             85.438700   \n",
       "\n",
       "      rolling_mean_lag49_window_size4  expanding_mean_lag50  \\\n",
       "3046                         89.37850             88.402800   \n",
       "3105                         90.60025             88.632500   \n",
       "3187                         92.25950             89.753714   \n",
       "3247                         89.54050             90.358500   \n",
       "3284                         80.64800             88.908444   \n",
       "\n",
       "      rolling_mean_lag50_window_size4  expanding_mean_lag51  \\\n",
       "3046                         86.35600             88.457500   \n",
       "3105                         89.37850             88.402800   \n",
       "3187                         90.60025             88.632500   \n",
       "3247                         92.25950             89.753714   \n",
       "3284                         89.54050             90.358500   \n",
       "\n",
       "      rolling_mean_lag51_window_size4  month  dayofweek  hour  \n",
       "3046                         88.45750      9          4     6  \n",
       "3105                         86.35600      9          4     7  \n",
       "3187                         89.37850      9          4     8  \n",
       "3247                         90.60025      9          4     9  \n",
       "3284                         92.25950      9          4    10  \n",
       "\n",
       "[5 rows x 24 columns]"
      ]
     },
     "execution_count": 56,
     "metadata": {},
     "output_type": "execute_result"
    }
   ],
   "source": [
    "X = feature_engineering(\n",
    "    df=df,\n",
    "    freq=config[\"freq\"],\n",
    "    id_col=config[\"id_col\"],\n",
    "    time_col=config[\"time_col\"],\n",
    "    target_col=config[\"target_col\"],\n",
    "    forecast_horizon=config[\"forecast_horizon\"],\n",
    "    n_lags=config[\"n_lags\"],\n",
    "    rolling_mean_window_size=config[\"rolling_mean_window_size\"],\n",
    "    n_lag_transforms=config[\"n_lag_transforms\"],\n",
    "    date_features=config[\"date_features\"],\n",
    "    static_features=config[\"static_features\"],\n",
    "    on_test=on_test,\n",
    ")\n",
    "X[X[\"prediction_unit_id\"] == 0].head()"
   ]
  },
  {
   "cell_type": "code",
   "execution_count": 57,
   "metadata": {},
   "outputs": [
    {
     "name": "stdout",
     "output_type": "stream",
     "text": [
      "train : False\n",
      "test : True\n",
      "train : False\n",
      "test : True\n"
     ]
    }
   ],
   "source": [
    "for file in files:\n",
    "    on_test = True if file.split(\".\")[0].split(\"_\")[1] == \"test\" else False\n",
    "    print(file.split(\".\")[0].split(\"_\")[1], \":\", on_test)"
   ]
  },
  {
   "cell_type": "code",
   "execution_count": 59,
   "metadata": {},
   "outputs": [
    {
     "name": "stdout",
     "output_type": "stream",
     "text": [
      "consumption_train.csv processed and saved to ../data/processed\n",
      "consumption_test.csv processed and saved to ../data/processed\n",
      "production_train.csv processed and saved to ../data/processed\n",
      "production_test.csv processed and saved to ../data/processed\n"
     ]
    }
   ],
   "source": [
    "processed_path = \"../data/processed\"\n",
    "\n",
    "files = [\n",
    "    \"consumption_train.csv\",\n",
    "    \"consumption_test.csv\",\n",
    "    \"production_train.csv\",\n",
    "    \"production_test.csv\",\n",
    "]\n",
    "for file in files:\n",
    "    df = pd.read_csv(Path(preprocessed_path, file), parse_dates=[\"datetime\"])\n",
    "    on_test = True if file.split(\".\")[0].split(\"_\")[1] == \"test\" else False\n",
    "    df_transformed = feature_engineering(\n",
    "        df=df,\n",
    "        freq=config[\"freq\"],\n",
    "        id_col=config[\"id_col\"],\n",
    "        time_col=config[\"time_col\"],\n",
    "        target_col=config[\"target_col\"],\n",
    "        forecast_horizon=config[\"forecast_horizon\"],\n",
    "        n_lags=config[\"n_lags\"],\n",
    "        rolling_mean_window_size=config[\"rolling_mean_window_size\"],\n",
    "        n_lag_transforms=config[\"n_lag_transforms\"],\n",
    "        date_features=config[\"date_features\"],\n",
    "        static_features=config[\"static_features\"],\n",
    "        on_test=on_test,\n",
    "    )\n",
    "    # df_transformed.to_csv(Path(processed_path, file), index=False)\n",
    "    print(f\"{file} processed and saved to {processed_path}\")"
   ]
  },
  {
   "cell_type": "markdown",
   "metadata": {},
   "source": [
    "# Stack last train rows on top of test\n",
    "\n",
    "When applying feature engineering we remove the first rows of the dataframe.\n",
    "First determine the value of `step` for which `X` and `df` are aligned according to \"datetime\".\n",
    "Once it's done, stack the last `n_step` values of `train` on top of `test` so that we don't lose\n",
    "the first rows of test after preprocessing."
   ]
  },
  {
   "cell_type": "code",
   "execution_count": 87,
   "metadata": {},
   "outputs": [
    {
     "data": {
      "text/plain": [
       "71"
      ]
     },
     "execution_count": 87,
     "metadata": {},
     "output_type": "execute_result"
    }
   ],
   "source": [
    "# TODO: determine the value of `step` for which `X` and `df` are aligned according to \"datetime\".\n",
    "# Once it's done, stack the last `n_step` values of `train` on top of `test` so that we don't lose\n",
    "# the first rows of test after preprocessing.\n",
    "step = forecast_horizon + max(n_lags, n_lag_transforms) - 1\n",
    "step"
   ]
  },
  {
   "cell_type": "code",
   "execution_count": 88,
   "metadata": {},
   "outputs": [
    {
     "name": "stdout",
     "output_type": "stream",
     "text": [
      "False\n",
      "True\n"
     ]
    }
   ],
   "source": [
    "X_ = X.sort_values(by=[\"prediction_unit_id\", \"datetime\"])\n",
    "df_ = df.sort_values(by=[\"prediction_unit_id\", \"datetime\"])\n",
    "print((X_[\"datetime\"].head().values == df_[\"datetime\"].iloc[step:step+5].values).sum() == 5)\n",
    "print((X_[\"datetime\"].tail().values == df_[\"datetime\"].tail().values).sum() == 5)"
   ]
  },
  {
   "cell_type": "code",
   "execution_count": 89,
   "metadata": {},
   "outputs": [
    {
     "data": {
      "text/plain": [
       "[8, 7, 4]"
      ]
     },
     "execution_count": 89,
     "metadata": {},
     "output_type": "execute_result"
    }
   ],
   "source": [
    "import random\n",
    "random.seed(0)\n",
    "\n",
    "forecast_horizon_list = random.choices(range(1, 10), k=3)\n",
    "n_lags_list = random.choices(range(1, 10), k=3)\n",
    "rolling_mean_window_size_list = random.choices(range(1, 10), k=3)\n",
    "n_lag_transforms_list = random.choices(range(1, 10), k=3)\n",
    "forecast_horizon_list"
   ]
  },
  {
   "cell_type": "code",
   "execution_count": 90,
   "metadata": {},
   "outputs": [],
   "source": [
    "import itertools\n",
    "combinations = itertools.product(forecast_horizon_list, n_lags_list, rolling_mean_window_size_list, n_lag_transforms_list)\n",
    "# len(list(combinations))"
   ]
  },
  {
   "cell_type": "code",
   "execution_count": 91,
   "metadata": {},
   "outputs": [],
   "source": [
    "# print(f\"forecast_horizon_list : {forecast_horizon_list}\")\n",
    "# print(f\"n_lags_list : {n_lags_list}\")\n",
    "# print(f\"rolling_mean_window_size_list : {rolling_mean_window_size_list}\")\n",
    "# print(f\"n_lag_transforms_list : {n_lag_transforms_list}\")"
   ]
  },
  {
   "cell_type": "code",
   "execution_count": 92,
   "metadata": {},
   "outputs": [],
   "source": [
    "# for _ in combinations:\n",
    "#     forecast_horizon, n_lags, rolling_mean_window_size, n_lag_transforms = _\n",
    "#     print(_)\n",
    "#     break"
   ]
  },
  {
   "cell_type": "code",
   "execution_count": null,
   "metadata": {},
   "outputs": [],
   "source": []
  },
  {
   "cell_type": "code",
   "execution_count": null,
   "metadata": {},
   "outputs": [],
   "source": []
  },
  {
   "cell_type": "code",
   "execution_count": null,
   "metadata": {},
   "outputs": [],
   "source": []
  },
  {
   "cell_type": "markdown",
   "metadata": {},
   "source": [
    "# Testing the function on test set"
   ]
  },
  {
   "cell_type": "code",
   "execution_count": 93,
   "metadata": {},
   "outputs": [],
   "source": [
    "# df_test = pd.read_csv(\"../data/preprocessed/consumption_test.csv\", parse_dates=[\"datetime\"])\n",
    "# print(df_test.shape)\n",
    "# df_test.head()"
   ]
  },
  {
   "cell_type": "code",
   "execution_count": 94,
   "metadata": {},
   "outputs": [],
   "source": [
    "# X = feature_engineering(df_test, on_test=True)\n",
    "# print(X.shape)\n",
    "# X.head()"
   ]
  },
  {
   "cell_type": "code",
   "execution_count": 95,
   "metadata": {},
   "outputs": [],
   "source": [
    "# X.tail()"
   ]
  },
  {
   "cell_type": "code",
   "execution_count": 96,
   "metadata": {},
   "outputs": [],
   "source": [
    "# X.isna().sum().sum()"
   ]
  },
  {
   "cell_type": "code",
   "execution_count": null,
   "metadata": {},
   "outputs": [],
   "source": []
  },
  {
   "cell_type": "code",
   "execution_count": null,
   "metadata": {},
   "outputs": [],
   "source": []
  },
  {
   "cell_type": "code",
   "execution_count": null,
   "metadata": {},
   "outputs": [],
   "source": []
  }
 ],
 "metadata": {
  "kernelspec": {
   "display_name": ".venv",
   "language": "python",
   "name": "python3"
  },
  "language_info": {
   "codemirror_mode": {
    "name": "ipython",
    "version": 3
   },
   "file_extension": ".py",
   "mimetype": "text/x-python",
   "name": "python",
   "nbconvert_exporter": "python",
   "pygments_lexer": "ipython3",
   "version": "3.10.11"
  }
 },
 "nbformat": 4,
 "nbformat_minor": 2
}
