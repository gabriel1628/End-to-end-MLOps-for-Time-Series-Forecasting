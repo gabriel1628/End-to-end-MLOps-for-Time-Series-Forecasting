{
 "cells": [
  {
   "cell_type": "markdown",
   "id": "51c0d7c2",
   "metadata": {},
   "source": [
    "# Ingestion\n",
    "\n",
    "In this notebook we are going to ingest the data from source and save it locally and in a S3 bucket.\n",
    "<br>\n",
    "To download the data, you will need to create an account on Kaggle if you don't already have one, install the Kaggle API and join the competition [Enefit - Predict Energy Behavior of Prosumers](https://www.kaggle.com/competitions/predict-energy-behavior-of-prosumers). \n",
    "<br>\n",
    "Before accessing the API, you will need to authenticate using an API token.\n",
    "Follow this link if you want to learn more about the Kaggle API : https://www.kaggle.com/discussions/getting-started/524433.\n",
    "\n",
    "We'll also use boto3 to store the data on AWS S3. We'll put the data in an S3 bucket called `enefit-competition`.\n",
    "<br>\n",
    "To do so, you'll have to [install](https://docs.aws.amazon.com/cli/latest/userguide/getting-started-install.html) and [configure](https://docs.aws.amazon.com/cli/latest/userguide/getting-started-quickstart.html#getting-started-quickstart-new) the aws CLI if you haven't already done it (of course, this assumes that you already have an AWS account).\n",
    "<br>\n",
    "You can also fill in the `.env` file with your AWS credentials to access you account."
   ]
  },
  {
   "cell_type": "code",
   "execution_count": 1,
   "id": "eff0600d",
   "metadata": {},
   "outputs": [],
   "source": [
    "import pandas as pd\n",
    "import boto3\n",
    "from zipfile import ZipFile\n",
    "import os\n",
    "import shutil\n",
    "from glob import glob"
   ]
  },
  {
   "cell_type": "code",
   "execution_count": 2,
   "id": "288ef33e",
   "metadata": {},
   "outputs": [],
   "source": [
    "def create_dir(dir_path):\n",
    "    try:\n",
    "        os.mkdir(dir_path)\n",
    "        print(f\"Directory '{dir_path}' created successfully.\")\n",
    "    except FileExistsError:\n",
    "        print(f\"Directory '{dir_path}' already exists.\")\n",
    "    except PermissionError:\n",
    "        print(f\"Permission denied: Unable to create '{dir_path}'.\")\n",
    "    except Exception as e:\n",
    "        print(f\"An error occurred: {e}\")\n"
   ]
  },
  {
   "cell_type": "code",
   "execution_count": 5,
   "id": "c4ba6d9b",
   "metadata": {},
   "outputs": [],
   "source": [
    "def ingestion_pipeline():\n",
    "    print(\"Downloading the data...\")\n",
    "    !kaggle competitions download -c predict-energy-behavior-of-prosumers\n",
    "    print(\"Data downloaded successfully.\")\n",
    "\n",
    "    print(\"Unzipping the data...\")\n",
    "    with ZipFile(\"./predict-energy-behavior-of-prosumers.zip\", 'r') as zObject: \n",
    "        zObject.extractall(path=\"./predict-energy-behavior-of-prosumers\")\n",
    "    !rm predict-energy-behavior-of-prosumers.zip\n",
    "    print(\"Data unzipped successfully. The zip file has been deleted.\")\n",
    "\n",
    "    print(\"Creating the directories for the data...\")\n",
    "    create_dir(\"../data\")\n",
    "    create_dir(\"../data/raw\")\n",
    "\n",
    "    print(\"Moving the data we are interested in to the '../data/raw/' directory...\")\n",
    "    source = \"./predict-energy-behavior-of-prosumers\"\n",
    "    destination = \"../data/raw\"\n",
    "    files = glob(os.path.join(source, '*.csv'), recursive=True)\n",
    "    files.append(\"./predict-energy-behavior-of-prosumers/county_id_to_name_map.json\")\n",
    "    # iterate on all files to move them to destination folder\n",
    "    for file_path in files:\n",
    "        dst_path = os.path.join(destination, os.path.basename(file_path))\n",
    "        shutil.move(file_path, dst_path)\n",
    "        print(f\"Moved {file_path} -> {dst_path}\")\n",
    "\n",
    "    print(\"Moving the remaining files in '../data/predict-energy-behavior-of-prosumers'\")\n",
    "    shutil.move(\"./predict-energy-behavior-of-prosumers\", \"../data\")\n",
    "\n",
    "    #TODO: upload the data on S3."
   ]
  },
  {
   "cell_type": "code",
   "execution_count": 6,
   "id": "afbeec8d",
   "metadata": {},
   "outputs": [
    {
     "name": "stdout",
     "output_type": "stream",
     "text": [
      "Downloading the data...\n",
      "Data downloaded successfully.\n",
      "Unzipping the data...\n",
      "Data unzipped successfully. The zip file has been deleted.\n",
      "Creating the directories for the data...\n",
      "Directory '../data' created successfully.\n",
      "Directory '../data/raw' created successfully.\n",
      "Moving the data we are interested in to the '../data/raw/' directory...\n",
      "Moved ./predict-energy-behavior-of-prosumers/client.csv -> ../data/raw/client.csv\n",
      "Moved ./predict-energy-behavior-of-prosumers/weather_station_to_county_mapping.csv -> ../data/raw/weather_station_to_county_mapping.csv\n",
      "Moved ./predict-energy-behavior-of-prosumers/gas_prices.csv -> ../data/raw/gas_prices.csv\n",
      "Moved ./predict-energy-behavior-of-prosumers/forecast_weather.csv -> ../data/raw/forecast_weather.csv\n",
      "Moved ./predict-energy-behavior-of-prosumers/electricity_prices.csv -> ../data/raw/electricity_prices.csv\n",
      "Moved ./predict-energy-behavior-of-prosumers/train.csv -> ../data/raw/train.csv\n",
      "Moved ./predict-energy-behavior-of-prosumers/historical_weather.csv -> ../data/raw/historical_weather.csv\n",
      "Moved ./predict-energy-behavior-of-prosumers/county_id_to_name_map.json -> ../data/raw/county_id_to_name_map.json\n",
      "Moving the remaining files in '../data/predict-energy-behavior-of-prosumers'\n"
     ]
    }
   ],
   "source": [
    "try:\n",
    "    if os.listdir(\"../data/raw\"):\n",
    "        print(\"data already saved in ../data/raw/\")\n",
    "    else:\n",
    "        ingestion_pipeline()\n",
    "except:\n",
    "    ingestion_pipeline()"
   ]
  },
  {
   "cell_type": "code",
   "execution_count": null,
   "id": "3bcb4606",
   "metadata": {},
   "outputs": [],
   "source": []
  }
 ],
 "metadata": {
  "kernelspec": {
   "display_name": ".venv",
   "language": "python",
   "name": "python3"
  },
  "language_info": {
   "codemirror_mode": {
    "name": "ipython",
    "version": 3
   },
   "file_extension": ".py",
   "mimetype": "text/x-python",
   "name": "python",
   "nbconvert_exporter": "python",
   "pygments_lexer": "ipython3",
   "version": "3.11.11"
  }
 },
 "nbformat": 4,
 "nbformat_minor": 5
}
