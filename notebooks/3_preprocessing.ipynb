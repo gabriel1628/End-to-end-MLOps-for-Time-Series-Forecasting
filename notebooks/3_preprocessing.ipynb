{
 "cells": [
  {
   "cell_type": "code",
   "execution_count": 1,
   "metadata": {},
   "outputs": [],
   "source": [
    "import pandas as pd\n",
    "import numpy as np\n",
    "import boto3"
   ]
  },
  {
   "cell_type": "code",
   "execution_count": 2,
   "metadata": {},
   "outputs": [],
   "source": [
    "import sys\n",
    "sys.path.append(\"/Users/gabriel/Documents/Git/End-to-end MLOps for Time Series\")\n",
    "from utils import load_config\n",
    "config = load_config(\"../config/development/pipeline.yaml\")"
   ]
  },
  {
   "cell_type": "code",
   "execution_count": 3,
   "metadata": {},
   "outputs": [
    {
     "name": "stdout",
     "output_type": "stream",
     "text": [
      "data shape : (2018352, 9)\n"
     ]
    },
    {
     "data": {
      "text/html": [
       "<div>\n",
       "<style scoped>\n",
       "    .dataframe tbody tr th:only-of-type {\n",
       "        vertical-align: middle;\n",
       "    }\n",
       "\n",
       "    .dataframe tbody tr th {\n",
       "        vertical-align: top;\n",
       "    }\n",
       "\n",
       "    .dataframe thead th {\n",
       "        text-align: right;\n",
       "    }\n",
       "</style>\n",
       "<table border=\"1\" class=\"dataframe\">\n",
       "  <thead>\n",
       "    <tr style=\"text-align: right;\">\n",
       "      <th></th>\n",
       "      <th>target</th>\n",
       "      <th>county</th>\n",
       "      <th>is_business</th>\n",
       "      <th>product_type</th>\n",
       "      <th>is_consumption</th>\n",
       "      <th>datetime</th>\n",
       "      <th>data_block_id</th>\n",
       "      <th>row_id</th>\n",
       "      <th>prediction_unit_id</th>\n",
       "    </tr>\n",
       "  </thead>\n",
       "  <tbody>\n",
       "    <tr>\n",
       "      <th>0</th>\n",
       "      <td>0.713</td>\n",
       "      <td>0</td>\n",
       "      <td>0</td>\n",
       "      <td>1</td>\n",
       "      <td>0</td>\n",
       "      <td>2021-09-01 00:00:00</td>\n",
       "      <td>0</td>\n",
       "      <td>0</td>\n",
       "      <td>0</td>\n",
       "    </tr>\n",
       "    <tr>\n",
       "      <th>1</th>\n",
       "      <td>96.590</td>\n",
       "      <td>0</td>\n",
       "      <td>0</td>\n",
       "      <td>1</td>\n",
       "      <td>1</td>\n",
       "      <td>2021-09-01 00:00:00</td>\n",
       "      <td>0</td>\n",
       "      <td>1</td>\n",
       "      <td>0</td>\n",
       "    </tr>\n",
       "    <tr>\n",
       "      <th>2</th>\n",
       "      <td>0.000</td>\n",
       "      <td>0</td>\n",
       "      <td>0</td>\n",
       "      <td>2</td>\n",
       "      <td>0</td>\n",
       "      <td>2021-09-01 00:00:00</td>\n",
       "      <td>0</td>\n",
       "      <td>2</td>\n",
       "      <td>1</td>\n",
       "    </tr>\n",
       "    <tr>\n",
       "      <th>3</th>\n",
       "      <td>17.314</td>\n",
       "      <td>0</td>\n",
       "      <td>0</td>\n",
       "      <td>2</td>\n",
       "      <td>1</td>\n",
       "      <td>2021-09-01 00:00:00</td>\n",
       "      <td>0</td>\n",
       "      <td>3</td>\n",
       "      <td>1</td>\n",
       "    </tr>\n",
       "    <tr>\n",
       "      <th>4</th>\n",
       "      <td>2.904</td>\n",
       "      <td>0</td>\n",
       "      <td>0</td>\n",
       "      <td>3</td>\n",
       "      <td>0</td>\n",
       "      <td>2021-09-01 00:00:00</td>\n",
       "      <td>0</td>\n",
       "      <td>4</td>\n",
       "      <td>2</td>\n",
       "    </tr>\n",
       "  </tbody>\n",
       "</table>\n",
       "</div>"
      ],
      "text/plain": [
       "   target  county  is_business  product_type  is_consumption  \\\n",
       "0   0.713       0            0             1               0   \n",
       "1  96.590       0            0             1               1   \n",
       "2   0.000       0            0             2               0   \n",
       "3  17.314       0            0             2               1   \n",
       "4   2.904       0            0             3               0   \n",
       "\n",
       "              datetime  data_block_id  row_id  prediction_unit_id  \n",
       "0  2021-09-01 00:00:00              0       0                   0  \n",
       "1  2021-09-01 00:00:00              0       1                   0  \n",
       "2  2021-09-01 00:00:00              0       2                   1  \n",
       "3  2021-09-01 00:00:00              0       3                   1  \n",
       "4  2021-09-01 00:00:00              0       4                   2  "
      ]
     },
     "execution_count": 3,
     "metadata": {},
     "output_type": "execute_result"
    }
   ],
   "source": [
    "# Read data\n",
    "data = pd.read_csv(\"../data/raw/train.csv\")\n",
    "reordered_columns = pd.Index([\"target\"]).append(data.columns.drop(\"target\"))\n",
    "data = data[reordered_columns]\n",
    "print(\"data shape :\", data.shape)\n",
    "data.head(5)"
   ]
  },
  {
   "cell_type": "code",
   "execution_count": 4,
   "metadata": {},
   "outputs": [
    {
     "data": {
      "text/plain": [
       "638"
      ]
     },
     "execution_count": 4,
     "metadata": {},
     "output_type": "execute_result"
    }
   ],
   "source": [
    "len(data[\"data_block_id\"].unique())"
   ]
  },
  {
   "cell_type": "markdown",
   "metadata": {},
   "source": [
    "# Missing datetimes"
   ]
  },
  {
   "cell_type": "code",
   "execution_count": 5,
   "metadata": {},
   "outputs": [
    {
     "data": {
      "text/html": [
       "<div>\n",
       "<style scoped>\n",
       "    .dataframe tbody tr th:only-of-type {\n",
       "        vertical-align: middle;\n",
       "    }\n",
       "\n",
       "    .dataframe tbody tr th {\n",
       "        vertical-align: top;\n",
       "    }\n",
       "\n",
       "    .dataframe thead th {\n",
       "        text-align: right;\n",
       "    }\n",
       "</style>\n",
       "<table border=\"1\" class=\"dataframe\">\n",
       "  <thead>\n",
       "    <tr style=\"text-align: right;\">\n",
       "      <th></th>\n",
       "      <th>target</th>\n",
       "      <th>county</th>\n",
       "      <th>is_business</th>\n",
       "      <th>product_type</th>\n",
       "      <th>is_consumption</th>\n",
       "      <th>datetime</th>\n",
       "      <th>data_block_id</th>\n",
       "      <th>row_id</th>\n",
       "      <th>prediction_unit_id</th>\n",
       "    </tr>\n",
       "  </thead>\n",
       "  <tbody>\n",
       "    <tr>\n",
       "      <th>0</th>\n",
       "      <td>0.713</td>\n",
       "      <td>0</td>\n",
       "      <td>0</td>\n",
       "      <td>1</td>\n",
       "      <td>0</td>\n",
       "      <td>2021-09-01 00:00:00</td>\n",
       "      <td>0</td>\n",
       "      <td>0</td>\n",
       "      <td>0</td>\n",
       "    </tr>\n",
       "    <tr>\n",
       "      <th>1</th>\n",
       "      <td>96.590</td>\n",
       "      <td>0</td>\n",
       "      <td>0</td>\n",
       "      <td>1</td>\n",
       "      <td>1</td>\n",
       "      <td>2021-09-01 00:00:00</td>\n",
       "      <td>0</td>\n",
       "      <td>1</td>\n",
       "      <td>0</td>\n",
       "    </tr>\n",
       "    <tr>\n",
       "      <th>122</th>\n",
       "      <td>1.132</td>\n",
       "      <td>0</td>\n",
       "      <td>0</td>\n",
       "      <td>1</td>\n",
       "      <td>0</td>\n",
       "      <td>2021-09-01 01:00:00</td>\n",
       "      <td>0</td>\n",
       "      <td>122</td>\n",
       "      <td>0</td>\n",
       "    </tr>\n",
       "    <tr>\n",
       "      <th>123</th>\n",
       "      <td>77.691</td>\n",
       "      <td>0</td>\n",
       "      <td>0</td>\n",
       "      <td>1</td>\n",
       "      <td>1</td>\n",
       "      <td>2021-09-01 01:00:00</td>\n",
       "      <td>0</td>\n",
       "      <td>123</td>\n",
       "      <td>0</td>\n",
       "    </tr>\n",
       "    <tr>\n",
       "      <th>244</th>\n",
       "      <td>0.490</td>\n",
       "      <td>0</td>\n",
       "      <td>0</td>\n",
       "      <td>1</td>\n",
       "      <td>0</td>\n",
       "      <td>2021-09-01 02:00:00</td>\n",
       "      <td>0</td>\n",
       "      <td>244</td>\n",
       "      <td>0</td>\n",
       "    </tr>\n",
       "  </tbody>\n",
       "</table>\n",
       "</div>"
      ],
      "text/plain": [
       "     target  county  is_business  product_type  is_consumption  \\\n",
       "0     0.713       0            0             1               0   \n",
       "1    96.590       0            0             1               1   \n",
       "122   1.132       0            0             1               0   \n",
       "123  77.691       0            0             1               1   \n",
       "244   0.490       0            0             1               0   \n",
       "\n",
       "                datetime  data_block_id  row_id  prediction_unit_id  \n",
       "0    2021-09-01 00:00:00              0       0                   0  \n",
       "1    2021-09-01 00:00:00              0       1                   0  \n",
       "122  2021-09-01 01:00:00              0     122                   0  \n",
       "123  2021-09-01 01:00:00              0     123                   0  \n",
       "244  2021-09-01 02:00:00              0     244                   0  "
      ]
     },
     "execution_count": 5,
     "metadata": {},
     "output_type": "execute_result"
    }
   ],
   "source": [
    "# at each time step, a new value is generated per 'prediction_unit_id'\n",
    "data = data.sort_values(by=[\"prediction_unit_id\", \"datetime\"])\n",
    "data.head()"
   ]
  },
  {
   "cell_type": "code",
   "execution_count": 6,
   "metadata": {},
   "outputs": [
    {
     "data": {
      "text/html": [
       "<div>\n",
       "<style scoped>\n",
       "    .dataframe tbody tr th:only-of-type {\n",
       "        vertical-align: middle;\n",
       "    }\n",
       "\n",
       "    .dataframe tbody tr th {\n",
       "        vertical-align: top;\n",
       "    }\n",
       "\n",
       "    .dataframe thead th {\n",
       "        text-align: right;\n",
       "    }\n",
       "</style>\n",
       "<table border=\"1\" class=\"dataframe\">\n",
       "  <thead>\n",
       "    <tr style=\"text-align: right;\">\n",
       "      <th></th>\n",
       "      <th>target</th>\n",
       "      <th>county</th>\n",
       "      <th>is_business</th>\n",
       "      <th>product_type</th>\n",
       "      <th>is_consumption</th>\n",
       "      <th>datetime</th>\n",
       "      <th>datetime-1</th>\n",
       "      <th>data_block_id</th>\n",
       "      <th>row_id</th>\n",
       "      <th>prediction_unit_id</th>\n",
       "    </tr>\n",
       "  </thead>\n",
       "  <tbody>\n",
       "    <tr>\n",
       "      <th>0</th>\n",
       "      <td>0.713</td>\n",
       "      <td>0</td>\n",
       "      <td>0</td>\n",
       "      <td>1</td>\n",
       "      <td>0</td>\n",
       "      <td>2021-09-01 00:00:00</td>\n",
       "      <td>None</td>\n",
       "      <td>0</td>\n",
       "      <td>0</td>\n",
       "      <td>0</td>\n",
       "    </tr>\n",
       "    <tr>\n",
       "      <th>1</th>\n",
       "      <td>96.590</td>\n",
       "      <td>0</td>\n",
       "      <td>0</td>\n",
       "      <td>1</td>\n",
       "      <td>1</td>\n",
       "      <td>2021-09-01 00:00:00</td>\n",
       "      <td>2021-09-01 00:00:00</td>\n",
       "      <td>0</td>\n",
       "      <td>1</td>\n",
       "      <td>0</td>\n",
       "    </tr>\n",
       "    <tr>\n",
       "      <th>122</th>\n",
       "      <td>1.132</td>\n",
       "      <td>0</td>\n",
       "      <td>0</td>\n",
       "      <td>1</td>\n",
       "      <td>0</td>\n",
       "      <td>2021-09-01 01:00:00</td>\n",
       "      <td>2021-09-01 00:00:00</td>\n",
       "      <td>0</td>\n",
       "      <td>122</td>\n",
       "      <td>0</td>\n",
       "    </tr>\n",
       "    <tr>\n",
       "      <th>123</th>\n",
       "      <td>77.691</td>\n",
       "      <td>0</td>\n",
       "      <td>0</td>\n",
       "      <td>1</td>\n",
       "      <td>1</td>\n",
       "      <td>2021-09-01 01:00:00</td>\n",
       "      <td>2021-09-01 01:00:00</td>\n",
       "      <td>0</td>\n",
       "      <td>123</td>\n",
       "      <td>0</td>\n",
       "    </tr>\n",
       "    <tr>\n",
       "      <th>244</th>\n",
       "      <td>0.490</td>\n",
       "      <td>0</td>\n",
       "      <td>0</td>\n",
       "      <td>1</td>\n",
       "      <td>0</td>\n",
       "      <td>2021-09-01 02:00:00</td>\n",
       "      <td>2021-09-01 01:00:00</td>\n",
       "      <td>0</td>\n",
       "      <td>244</td>\n",
       "      <td>0</td>\n",
       "    </tr>\n",
       "  </tbody>\n",
       "</table>\n",
       "</div>"
      ],
      "text/plain": [
       "     target  county  is_business  product_type  is_consumption  \\\n",
       "0     0.713       0            0             1               0   \n",
       "1    96.590       0            0             1               1   \n",
       "122   1.132       0            0             1               0   \n",
       "123  77.691       0            0             1               1   \n",
       "244   0.490       0            0             1               0   \n",
       "\n",
       "                datetime           datetime-1  data_block_id  row_id  \\\n",
       "0    2021-09-01 00:00:00                 None              0       0   \n",
       "1    2021-09-01 00:00:00  2021-09-01 00:00:00              0       1   \n",
       "122  2021-09-01 01:00:00  2021-09-01 00:00:00              0     122   \n",
       "123  2021-09-01 01:00:00  2021-09-01 01:00:00              0     123   \n",
       "244  2021-09-01 02:00:00  2021-09-01 01:00:00              0     244   \n",
       "\n",
       "     prediction_unit_id  \n",
       "0                     0  \n",
       "1                     0  \n",
       "122                   0  \n",
       "123                   0  \n",
       "244                   0  "
      ]
     },
     "execution_count": 6,
     "metadata": {},
     "output_type": "execute_result"
    }
   ],
   "source": [
    "data.insert(loc=6, column=\"datetime-1\", value=data[\"datetime\"].shift(1))\n",
    "data.head()"
   ]
  },
  {
   "cell_type": "code",
   "execution_count": 7,
   "metadata": {},
   "outputs": [],
   "source": [
    "data[\"datetime\"] = pd.to_datetime(data[\"datetime\"])\n",
    "data[\"datetime-1\"] = pd.to_datetime(data[\"datetime-1\"])"
   ]
  },
  {
   "cell_type": "code",
   "execution_count": 8,
   "metadata": {},
   "outputs": [
    {
     "data": {
      "text/html": [
       "<div>\n",
       "<style scoped>\n",
       "    .dataframe tbody tr th:only-of-type {\n",
       "        vertical-align: middle;\n",
       "    }\n",
       "\n",
       "    .dataframe tbody tr th {\n",
       "        vertical-align: top;\n",
       "    }\n",
       "\n",
       "    .dataframe thead th {\n",
       "        text-align: right;\n",
       "    }\n",
       "</style>\n",
       "<table border=\"1\" class=\"dataframe\">\n",
       "  <thead>\n",
       "    <tr style=\"text-align: right;\">\n",
       "      <th></th>\n",
       "      <th>target</th>\n",
       "      <th>county</th>\n",
       "      <th>is_business</th>\n",
       "      <th>product_type</th>\n",
       "      <th>is_consumption</th>\n",
       "      <th>datetime</th>\n",
       "      <th>datetime-1</th>\n",
       "      <th>timestep</th>\n",
       "      <th>data_block_id</th>\n",
       "      <th>row_id</th>\n",
       "      <th>prediction_unit_id</th>\n",
       "    </tr>\n",
       "  </thead>\n",
       "  <tbody>\n",
       "    <tr>\n",
       "      <th>0</th>\n",
       "      <td>0.713</td>\n",
       "      <td>0</td>\n",
       "      <td>0</td>\n",
       "      <td>1</td>\n",
       "      <td>0</td>\n",
       "      <td>2021-09-01 00:00:00</td>\n",
       "      <td>NaT</td>\n",
       "      <td>NaT</td>\n",
       "      <td>0</td>\n",
       "      <td>0</td>\n",
       "      <td>0</td>\n",
       "    </tr>\n",
       "    <tr>\n",
       "      <th>1</th>\n",
       "      <td>96.590</td>\n",
       "      <td>0</td>\n",
       "      <td>0</td>\n",
       "      <td>1</td>\n",
       "      <td>1</td>\n",
       "      <td>2021-09-01 00:00:00</td>\n",
       "      <td>2021-09-01 00:00:00</td>\n",
       "      <td>0 days 00:00:00</td>\n",
       "      <td>0</td>\n",
       "      <td>1</td>\n",
       "      <td>0</td>\n",
       "    </tr>\n",
       "    <tr>\n",
       "      <th>122</th>\n",
       "      <td>1.132</td>\n",
       "      <td>0</td>\n",
       "      <td>0</td>\n",
       "      <td>1</td>\n",
       "      <td>0</td>\n",
       "      <td>2021-09-01 01:00:00</td>\n",
       "      <td>2021-09-01 00:00:00</td>\n",
       "      <td>0 days 01:00:00</td>\n",
       "      <td>0</td>\n",
       "      <td>122</td>\n",
       "      <td>0</td>\n",
       "    </tr>\n",
       "    <tr>\n",
       "      <th>123</th>\n",
       "      <td>77.691</td>\n",
       "      <td>0</td>\n",
       "      <td>0</td>\n",
       "      <td>1</td>\n",
       "      <td>1</td>\n",
       "      <td>2021-09-01 01:00:00</td>\n",
       "      <td>2021-09-01 01:00:00</td>\n",
       "      <td>0 days 00:00:00</td>\n",
       "      <td>0</td>\n",
       "      <td>123</td>\n",
       "      <td>0</td>\n",
       "    </tr>\n",
       "    <tr>\n",
       "      <th>244</th>\n",
       "      <td>0.490</td>\n",
       "      <td>0</td>\n",
       "      <td>0</td>\n",
       "      <td>1</td>\n",
       "      <td>0</td>\n",
       "      <td>2021-09-01 02:00:00</td>\n",
       "      <td>2021-09-01 01:00:00</td>\n",
       "      <td>0 days 01:00:00</td>\n",
       "      <td>0</td>\n",
       "      <td>244</td>\n",
       "      <td>0</td>\n",
       "    </tr>\n",
       "  </tbody>\n",
       "</table>\n",
       "</div>"
      ],
      "text/plain": [
       "     target  county  is_business  product_type  is_consumption  \\\n",
       "0     0.713       0            0             1               0   \n",
       "1    96.590       0            0             1               1   \n",
       "122   1.132       0            0             1               0   \n",
       "123  77.691       0            0             1               1   \n",
       "244   0.490       0            0             1               0   \n",
       "\n",
       "               datetime          datetime-1        timestep  data_block_id  \\\n",
       "0   2021-09-01 00:00:00                 NaT             NaT              0   \n",
       "1   2021-09-01 00:00:00 2021-09-01 00:00:00 0 days 00:00:00              0   \n",
       "122 2021-09-01 01:00:00 2021-09-01 00:00:00 0 days 01:00:00              0   \n",
       "123 2021-09-01 01:00:00 2021-09-01 01:00:00 0 days 00:00:00              0   \n",
       "244 2021-09-01 02:00:00 2021-09-01 01:00:00 0 days 01:00:00              0   \n",
       "\n",
       "     row_id  prediction_unit_id  \n",
       "0         0                   0  \n",
       "1         1                   0  \n",
       "122     122                   0  \n",
       "123     123                   0  \n",
       "244     244                   0  "
      ]
     },
     "execution_count": 8,
     "metadata": {},
     "output_type": "execute_result"
    }
   ],
   "source": [
    "data.insert(loc=7, column=\"timestep\", value=data[\"datetime\"]-data[\"datetime-1\"])\n",
    "data.head()"
   ]
  },
  {
   "cell_type": "code",
   "execution_count": 9,
   "metadata": {},
   "outputs": [
    {
     "data": {
      "text/html": [
       "<div>\n",
       "<style scoped>\n",
       "    .dataframe tbody tr th:only-of-type {\n",
       "        vertical-align: middle;\n",
       "    }\n",
       "\n",
       "    .dataframe tbody tr th {\n",
       "        vertical-align: top;\n",
       "    }\n",
       "\n",
       "    .dataframe thead th {\n",
       "        text-align: right;\n",
       "    }\n",
       "</style>\n",
       "<table border=\"1\" class=\"dataframe\">\n",
       "  <thead>\n",
       "    <tr style=\"text-align: right;\">\n",
       "      <th></th>\n",
       "      <th>timestep</th>\n",
       "    </tr>\n",
       "    <tr>\n",
       "      <th>prediction_unit_id</th>\n",
       "      <th></th>\n",
       "    </tr>\n",
       "  </thead>\n",
       "  <tbody>\n",
       "    <tr>\n",
       "      <th>21</th>\n",
       "      <td>31 days 01:00:00</td>\n",
       "    </tr>\n",
       "    <tr>\n",
       "      <th>26</th>\n",
       "      <td>62 days 01:00:00</td>\n",
       "    </tr>\n",
       "    <tr>\n",
       "      <th>41</th>\n",
       "      <td>173 days 01:00:00</td>\n",
       "    </tr>\n",
       "    <tr>\n",
       "      <th>44</th>\n",
       "      <td>31 days 01:00:00</td>\n",
       "    </tr>\n",
       "    <tr>\n",
       "      <th>47</th>\n",
       "      <td>63 days 01:00:00</td>\n",
       "    </tr>\n",
       "    <tr>\n",
       "      <th>68</th>\n",
       "      <td>76 days 01:00:00</td>\n",
       "    </tr>\n",
       "  </tbody>\n",
       "</table>\n",
       "</div>"
      ],
      "text/plain": [
       "                            timestep\n",
       "prediction_unit_id                  \n",
       "21                  31 days 01:00:00\n",
       "26                  62 days 01:00:00\n",
       "41                 173 days 01:00:00\n",
       "44                  31 days 01:00:00\n",
       "47                  63 days 01:00:00\n",
       "68                  76 days 01:00:00"
      ]
     },
     "execution_count": 9,
     "metadata": {},
     "output_type": "execute_result"
    }
   ],
   "source": [
    "# identify discontinuous series, i.e., those which contain a timestep different from 1 hour\n",
    "max_timestep_per_unit = data[[\"prediction_unit_id\", \"timestep\"]].groupby(by=\"prediction_unit_id\").max()\n",
    "discontinuous_series = max_timestep_per_unit[max_timestep_per_unit[\"timestep\"]!=pd.Timedelta(1, \"h\")].index\n",
    "max_timestep_per_unit.loc[discontinuous_series]"
   ]
  },
  {
   "cell_type": "code",
   "execution_count": null,
   "metadata": {},
   "outputs": [],
   "source": [
    "# drop discontinuous series\n",
    "data = data[~data[\"prediction_unit_id\"].isin(discontinuous_series)]"
   ]
  },
  {
   "cell_type": "code",
   "execution_count": 11,
   "metadata": {},
   "outputs": [
    {
     "data": {
      "text/plain": [
       "array([ 0,  1,  2,  3,  4,  5,  6,  7,  8,  9, 10, 11, 12, 13, 14, 15, 16,\n",
       "       17, 18, 19, 20, 22, 23, 24, 25, 27, 28, 29, 30, 31, 32, 33, 34, 35,\n",
       "       36, 37, 38, 39, 40, 42, 43, 45, 46, 48, 49, 50, 51, 52, 53, 54, 55,\n",
       "       56, 57, 58, 59, 60, 61, 62, 63, 64, 65, 66, 67])"
      ]
     },
     "execution_count": 11,
     "metadata": {},
     "output_type": "execute_result"
    }
   ],
   "source": [
    "data[\"prediction_unit_id\"].unique()"
   ]
  },
  {
   "cell_type": "markdown",
   "metadata": {},
   "source": [
    "# Missing values"
   ]
  },
  {
   "cell_type": "code",
   "execution_count": 12,
   "metadata": {},
   "outputs": [
    {
     "data": {
      "text/plain": [
       "target                496\n",
       "county                  0\n",
       "is_business             0\n",
       "product_type            0\n",
       "is_consumption          0\n",
       "datetime                0\n",
       "datetime-1              1\n",
       "timestep                1\n",
       "data_block_id           0\n",
       "row_id                  0\n",
       "prediction_unit_id      0\n",
       "dtype: int64"
      ]
     },
     "execution_count": 12,
     "metadata": {},
     "output_type": "execute_result"
    }
   ],
   "source": [
    "data.isna().sum()"
   ]
  },
  {
   "cell_type": "code",
   "execution_count": 13,
   "metadata": {},
   "outputs": [
    {
     "data": {
      "text/html": [
       "<div>\n",
       "<style scoped>\n",
       "    .dataframe tbody tr th:only-of-type {\n",
       "        vertical-align: middle;\n",
       "    }\n",
       "\n",
       "    .dataframe tbody tr th {\n",
       "        vertical-align: top;\n",
       "    }\n",
       "\n",
       "    .dataframe thead th {\n",
       "        text-align: right;\n",
       "    }\n",
       "</style>\n",
       "<table border=\"1\" class=\"dataframe\">\n",
       "  <thead>\n",
       "    <tr style=\"text-align: right;\">\n",
       "      <th></th>\n",
       "      <th>target</th>\n",
       "      <th>county</th>\n",
       "      <th>is_business</th>\n",
       "      <th>product_type</th>\n",
       "      <th>is_consumption</th>\n",
       "      <th>datetime</th>\n",
       "      <th>datetime-1</th>\n",
       "      <th>timestep</th>\n",
       "      <th>data_block_id</th>\n",
       "      <th>row_id</th>\n",
       "      <th>prediction_unit_id</th>\n",
       "    </tr>\n",
       "  </thead>\n",
       "  <tbody>\n",
       "    <tr>\n",
       "      <th>178938</th>\n",
       "      <td>NaN</td>\n",
       "      <td>0</td>\n",
       "      <td>0</td>\n",
       "      <td>1</td>\n",
       "      <td>0</td>\n",
       "      <td>2021-10-31 03:00:00</td>\n",
       "      <td>2021-10-31 02:00:00</td>\n",
       "      <td>0 days 01:00:00</td>\n",
       "      <td>60</td>\n",
       "      <td>178938</td>\n",
       "      <td>0</td>\n",
       "    </tr>\n",
       "    <tr>\n",
       "      <th>178939</th>\n",
       "      <td>NaN</td>\n",
       "      <td>0</td>\n",
       "      <td>0</td>\n",
       "      <td>1</td>\n",
       "      <td>1</td>\n",
       "      <td>2021-10-31 03:00:00</td>\n",
       "      <td>2021-10-31 03:00:00</td>\n",
       "      <td>0 days 00:00:00</td>\n",
       "      <td>60</td>\n",
       "      <td>178939</td>\n",
       "      <td>0</td>\n",
       "    </tr>\n",
       "    <tr>\n",
       "      <th>634866</th>\n",
       "      <td>NaN</td>\n",
       "      <td>0</td>\n",
       "      <td>0</td>\n",
       "      <td>1</td>\n",
       "      <td>0</td>\n",
       "      <td>2022-03-27 03:00:00</td>\n",
       "      <td>2022-03-27 02:00:00</td>\n",
       "      <td>0 days 01:00:00</td>\n",
       "      <td>207</td>\n",
       "      <td>634866</td>\n",
       "      <td>0</td>\n",
       "    </tr>\n",
       "    <tr>\n",
       "      <th>634867</th>\n",
       "      <td>NaN</td>\n",
       "      <td>0</td>\n",
       "      <td>0</td>\n",
       "      <td>1</td>\n",
       "      <td>1</td>\n",
       "      <td>2022-03-27 03:00:00</td>\n",
       "      <td>2022-03-27 03:00:00</td>\n",
       "      <td>0 days 00:00:00</td>\n",
       "      <td>207</td>\n",
       "      <td>634867</td>\n",
       "      <td>0</td>\n",
       "    </tr>\n",
       "    <tr>\n",
       "      <th>1332456</th>\n",
       "      <td>NaN</td>\n",
       "      <td>0</td>\n",
       "      <td>0</td>\n",
       "      <td>1</td>\n",
       "      <td>0</td>\n",
       "      <td>2022-10-30 03:00:00</td>\n",
       "      <td>2022-10-30 02:00:00</td>\n",
       "      <td>0 days 01:00:00</td>\n",
       "      <td>424</td>\n",
       "      <td>1332456</td>\n",
       "      <td>0</td>\n",
       "    </tr>\n",
       "  </tbody>\n",
       "</table>\n",
       "</div>"
      ],
      "text/plain": [
       "         target  county  is_business  product_type  is_consumption  \\\n",
       "178938      NaN       0            0             1               0   \n",
       "178939      NaN       0            0             1               1   \n",
       "634866      NaN       0            0             1               0   \n",
       "634867      NaN       0            0             1               1   \n",
       "1332456     NaN       0            0             1               0   \n",
       "\n",
       "                   datetime          datetime-1        timestep  \\\n",
       "178938  2021-10-31 03:00:00 2021-10-31 02:00:00 0 days 01:00:00   \n",
       "178939  2021-10-31 03:00:00 2021-10-31 03:00:00 0 days 00:00:00   \n",
       "634866  2022-03-27 03:00:00 2022-03-27 02:00:00 0 days 01:00:00   \n",
       "634867  2022-03-27 03:00:00 2022-03-27 03:00:00 0 days 00:00:00   \n",
       "1332456 2022-10-30 03:00:00 2022-10-30 02:00:00 0 days 01:00:00   \n",
       "\n",
       "         data_block_id   row_id  prediction_unit_id  \n",
       "178938              60   178938                   0  \n",
       "178939              60   178939                   0  \n",
       "634866             207   634866                   0  \n",
       "634867             207   634867                   0  \n",
       "1332456            424  1332456                   0  "
      ]
     },
     "execution_count": 13,
     "metadata": {},
     "output_type": "execute_result"
    }
   ],
   "source": [
    "data[data[\"target\"].isna()].head()"
   ]
  },
  {
   "cell_type": "code",
   "execution_count": 14,
   "metadata": {},
   "outputs": [
    {
     "data": {
      "text/html": [
       "<div>\n",
       "<style scoped>\n",
       "    .dataframe tbody tr th:only-of-type {\n",
       "        vertical-align: middle;\n",
       "    }\n",
       "\n",
       "    .dataframe tbody tr th {\n",
       "        vertical-align: top;\n",
       "    }\n",
       "\n",
       "    .dataframe thead th {\n",
       "        text-align: right;\n",
       "    }\n",
       "</style>\n",
       "<table border=\"1\" class=\"dataframe\">\n",
       "  <thead>\n",
       "    <tr style=\"text-align: right;\">\n",
       "      <th></th>\n",
       "      <th>target</th>\n",
       "      <th>county</th>\n",
       "      <th>is_business</th>\n",
       "      <th>product_type</th>\n",
       "      <th>is_consumption</th>\n",
       "      <th>datetime</th>\n",
       "      <th>datetime-1</th>\n",
       "      <th>timestep</th>\n",
       "      <th>data_block_id</th>\n",
       "      <th>row_id</th>\n",
       "      <th>prediction_unit_id</th>\n",
       "    </tr>\n",
       "  </thead>\n",
       "  <tbody>\n",
       "    <tr>\n",
       "      <th>178812</th>\n",
       "      <td>0.000</td>\n",
       "      <td>0</td>\n",
       "      <td>0</td>\n",
       "      <td>1</td>\n",
       "      <td>0</td>\n",
       "      <td>2021-10-31 02:00:00</td>\n",
       "      <td>2021-10-31 01:00:00</td>\n",
       "      <td>0 days 01:00:00</td>\n",
       "      <td>60</td>\n",
       "      <td>178812</td>\n",
       "      <td>0</td>\n",
       "    </tr>\n",
       "    <tr>\n",
       "      <th>178813</th>\n",
       "      <td>166.141</td>\n",
       "      <td>0</td>\n",
       "      <td>0</td>\n",
       "      <td>1</td>\n",
       "      <td>1</td>\n",
       "      <td>2021-10-31 02:00:00</td>\n",
       "      <td>2021-10-31 02:00:00</td>\n",
       "      <td>0 days 00:00:00</td>\n",
       "      <td>60</td>\n",
       "      <td>178813</td>\n",
       "      <td>0</td>\n",
       "    </tr>\n",
       "    <tr>\n",
       "      <th>178938</th>\n",
       "      <td>NaN</td>\n",
       "      <td>0</td>\n",
       "      <td>0</td>\n",
       "      <td>1</td>\n",
       "      <td>0</td>\n",
       "      <td>2021-10-31 03:00:00</td>\n",
       "      <td>2021-10-31 02:00:00</td>\n",
       "      <td>0 days 01:00:00</td>\n",
       "      <td>60</td>\n",
       "      <td>178938</td>\n",
       "      <td>0</td>\n",
       "    </tr>\n",
       "    <tr>\n",
       "      <th>178939</th>\n",
       "      <td>NaN</td>\n",
       "      <td>0</td>\n",
       "      <td>0</td>\n",
       "      <td>1</td>\n",
       "      <td>1</td>\n",
       "      <td>2021-10-31 03:00:00</td>\n",
       "      <td>2021-10-31 03:00:00</td>\n",
       "      <td>0 days 00:00:00</td>\n",
       "      <td>60</td>\n",
       "      <td>178939</td>\n",
       "      <td>0</td>\n",
       "    </tr>\n",
       "    <tr>\n",
       "      <th>179064</th>\n",
       "      <td>0.000</td>\n",
       "      <td>0</td>\n",
       "      <td>0</td>\n",
       "      <td>1</td>\n",
       "      <td>0</td>\n",
       "      <td>2021-10-31 04:00:00</td>\n",
       "      <td>2021-10-31 03:00:00</td>\n",
       "      <td>0 days 01:00:00</td>\n",
       "      <td>60</td>\n",
       "      <td>179064</td>\n",
       "      <td>0</td>\n",
       "    </tr>\n",
       "    <tr>\n",
       "      <th>179065</th>\n",
       "      <td>174.856</td>\n",
       "      <td>0</td>\n",
       "      <td>0</td>\n",
       "      <td>1</td>\n",
       "      <td>1</td>\n",
       "      <td>2021-10-31 04:00:00</td>\n",
       "      <td>2021-10-31 04:00:00</td>\n",
       "      <td>0 days 00:00:00</td>\n",
       "      <td>60</td>\n",
       "      <td>179065</td>\n",
       "      <td>0</td>\n",
       "    </tr>\n",
       "  </tbody>\n",
       "</table>\n",
       "</div>"
      ],
      "text/plain": [
       "         target  county  is_business  product_type  is_consumption  \\\n",
       "178812    0.000       0            0             1               0   \n",
       "178813  166.141       0            0             1               1   \n",
       "178938      NaN       0            0             1               0   \n",
       "178939      NaN       0            0             1               1   \n",
       "179064    0.000       0            0             1               0   \n",
       "179065  174.856       0            0             1               1   \n",
       "\n",
       "                  datetime          datetime-1        timestep  data_block_id  \\\n",
       "178812 2021-10-31 02:00:00 2021-10-31 01:00:00 0 days 01:00:00             60   \n",
       "178813 2021-10-31 02:00:00 2021-10-31 02:00:00 0 days 00:00:00             60   \n",
       "178938 2021-10-31 03:00:00 2021-10-31 02:00:00 0 days 01:00:00             60   \n",
       "178939 2021-10-31 03:00:00 2021-10-31 03:00:00 0 days 00:00:00             60   \n",
       "179064 2021-10-31 04:00:00 2021-10-31 03:00:00 0 days 01:00:00             60   \n",
       "179065 2021-10-31 04:00:00 2021-10-31 04:00:00 0 days 00:00:00             60   \n",
       "\n",
       "        row_id  prediction_unit_id  \n",
       "178812  178812                   0  \n",
       "178813  178813                   0  \n",
       "178938  178938                   0  \n",
       "178939  178939                   0  \n",
       "179064  179064                   0  \n",
       "179065  179065                   0  "
      ]
     },
     "execution_count": 14,
     "metadata": {},
     "output_type": "execute_result"
    }
   ],
   "source": [
    "mask = ((data[\"datetime\"] <= \"2021-10-31 04:00:00\")\n",
    "        & (data[\"datetime\"] >= \"2021-10-31 02:00:00\")\n",
    "        & (data[\"prediction_unit_id\"] == 0))\n",
    "data[mask]"
   ]
  },
  {
   "cell_type": "markdown",
   "metadata": {},
   "source": [
    "We split consumption and production data to fill NaNs using the fill-forward method."
   ]
  },
  {
   "cell_type": "code",
   "execution_count": 15,
   "metadata": {},
   "outputs": [],
   "source": [
    "production = data.loc[data[\"is_consumption\"] == 0, [\"target\", \"datetime\", \"prediction_unit_id\"]]\n",
    "consumption = data.loc[data[\"is_consumption\"] == 1, [\"target\", \"datetime\", \"prediction_unit_id\"]]"
   ]
  },
  {
   "cell_type": "markdown",
   "metadata": {},
   "source": [
    "## Consumption"
   ]
  },
  {
   "cell_type": "code",
   "execution_count": 16,
   "metadata": {},
   "outputs": [
    {
     "data": {
      "text/html": [
       "<div>\n",
       "<style scoped>\n",
       "    .dataframe tbody tr th:only-of-type {\n",
       "        vertical-align: middle;\n",
       "    }\n",
       "\n",
       "    .dataframe tbody tr th {\n",
       "        vertical-align: top;\n",
       "    }\n",
       "\n",
       "    .dataframe thead th {\n",
       "        text-align: right;\n",
       "    }\n",
       "</style>\n",
       "<table border=\"1\" class=\"dataframe\">\n",
       "  <thead>\n",
       "    <tr style=\"text-align: right;\">\n",
       "      <th></th>\n",
       "      <th>target</th>\n",
       "      <th>datetime</th>\n",
       "      <th>prediction_unit_id</th>\n",
       "    </tr>\n",
       "  </thead>\n",
       "  <tbody>\n",
       "    <tr>\n",
       "      <th>178813</th>\n",
       "      <td>166.141</td>\n",
       "      <td>2021-10-31 02:00:00</td>\n",
       "      <td>0</td>\n",
       "    </tr>\n",
       "    <tr>\n",
       "      <th>178939</th>\n",
       "      <td>NaN</td>\n",
       "      <td>2021-10-31 03:00:00</td>\n",
       "      <td>0</td>\n",
       "    </tr>\n",
       "    <tr>\n",
       "      <th>179065</th>\n",
       "      <td>174.856</td>\n",
       "      <td>2021-10-31 04:00:00</td>\n",
       "      <td>0</td>\n",
       "    </tr>\n",
       "  </tbody>\n",
       "</table>\n",
       "</div>"
      ],
      "text/plain": [
       "         target            datetime  prediction_unit_id\n",
       "178813  166.141 2021-10-31 02:00:00                   0\n",
       "178939      NaN 2021-10-31 03:00:00                   0\n",
       "179065  174.856 2021-10-31 04:00:00                   0"
      ]
     },
     "execution_count": 16,
     "metadata": {},
     "output_type": "execute_result"
    }
   ],
   "source": [
    "mask = ((consumption[\"datetime\"] <= \"2021-10-31 04:00:00\")\n",
    "        & (consumption[\"datetime\"] >= \"2021-10-31 02:00:00\")\n",
    "        & (consumption[\"prediction_unit_id\"] == 0))\n",
    "consumption[mask]"
   ]
  },
  {
   "cell_type": "code",
   "execution_count": null,
   "metadata": {},
   "outputs": [
    {
     "data": {
      "text/plain": [
       "Index([ 178939,  634867, 1332457, 1806253,  178941,  634869, 1332459, 1806255,\n",
       "        178943,  634871,\n",
       "       ...\n",
       "       1806379,  634891, 1332481, 1806277,  634909, 1332499, 1806295,  634965,\n",
       "       1332557, 1806351],\n",
       "      dtype='int64', length=248)"
      ]
     },
     "execution_count": 17,
     "metadata": {},
     "output_type": "execute_result"
    }
   ],
   "source": [
    "nan_consumption_indices = consumption[consumption[\"target\"].isna()].index\n",
    "nan_consumption_indices"
   ]
  },
  {
   "cell_type": "code",
   "execution_count": 18,
   "metadata": {},
   "outputs": [
    {
     "data": {
      "text/plain": [
       "target                248\n",
       "datetime                0\n",
       "prediction_unit_id      0\n",
       "dtype: int64"
      ]
     },
     "execution_count": 18,
     "metadata": {},
     "output_type": "execute_result"
    }
   ],
   "source": [
    "consumption.isna().sum()"
   ]
  },
  {
   "cell_type": "code",
   "execution_count": 19,
   "metadata": {},
   "outputs": [
    {
     "data": {
      "text/plain": [
       "target                0\n",
       "datetime              0\n",
       "prediction_unit_id    0\n",
       "dtype: int64"
      ]
     },
     "execution_count": 19,
     "metadata": {},
     "output_type": "execute_result"
    }
   ],
   "source": [
    "consumption.ffill(inplace=True)\n",
    "consumption.isna().sum()"
   ]
  },
  {
   "cell_type": "code",
   "execution_count": 20,
   "metadata": {},
   "outputs": [
    {
     "data": {
      "text/html": [
       "<div>\n",
       "<style scoped>\n",
       "    .dataframe tbody tr th:only-of-type {\n",
       "        vertical-align: middle;\n",
       "    }\n",
       "\n",
       "    .dataframe tbody tr th {\n",
       "        vertical-align: top;\n",
       "    }\n",
       "\n",
       "    .dataframe thead th {\n",
       "        text-align: right;\n",
       "    }\n",
       "</style>\n",
       "<table border=\"1\" class=\"dataframe\">\n",
       "  <thead>\n",
       "    <tr style=\"text-align: right;\">\n",
       "      <th></th>\n",
       "      <th>target</th>\n",
       "      <th>datetime</th>\n",
       "      <th>prediction_unit_id</th>\n",
       "    </tr>\n",
       "  </thead>\n",
       "  <tbody>\n",
       "    <tr>\n",
       "      <th>178813</th>\n",
       "      <td>166.141</td>\n",
       "      <td>2021-10-31 02:00:00</td>\n",
       "      <td>0</td>\n",
       "    </tr>\n",
       "    <tr>\n",
       "      <th>178939</th>\n",
       "      <td>166.141</td>\n",
       "      <td>2021-10-31 03:00:00</td>\n",
       "      <td>0</td>\n",
       "    </tr>\n",
       "    <tr>\n",
       "      <th>179065</th>\n",
       "      <td>174.856</td>\n",
       "      <td>2021-10-31 04:00:00</td>\n",
       "      <td>0</td>\n",
       "    </tr>\n",
       "  </tbody>\n",
       "</table>\n",
       "</div>"
      ],
      "text/plain": [
       "         target            datetime  prediction_unit_id\n",
       "178813  166.141 2021-10-31 02:00:00                   0\n",
       "178939  166.141 2021-10-31 03:00:00                   0\n",
       "179065  174.856 2021-10-31 04:00:00                   0"
      ]
     },
     "execution_count": 20,
     "metadata": {},
     "output_type": "execute_result"
    }
   ],
   "source": [
    "consumption[mask]"
   ]
  },
  {
   "cell_type": "markdown",
   "metadata": {},
   "source": [
    "## Production"
   ]
  },
  {
   "cell_type": "code",
   "execution_count": 21,
   "metadata": {},
   "outputs": [
    {
     "data": {
      "text/html": [
       "<div>\n",
       "<style scoped>\n",
       "    .dataframe tbody tr th:only-of-type {\n",
       "        vertical-align: middle;\n",
       "    }\n",
       "\n",
       "    .dataframe tbody tr th {\n",
       "        vertical-align: top;\n",
       "    }\n",
       "\n",
       "    .dataframe thead th {\n",
       "        text-align: right;\n",
       "    }\n",
       "</style>\n",
       "<table border=\"1\" class=\"dataframe\">\n",
       "  <thead>\n",
       "    <tr style=\"text-align: right;\">\n",
       "      <th></th>\n",
       "      <th>target</th>\n",
       "      <th>datetime</th>\n",
       "      <th>prediction_unit_id</th>\n",
       "    </tr>\n",
       "  </thead>\n",
       "  <tbody>\n",
       "    <tr>\n",
       "      <th>178812</th>\n",
       "      <td>0.0</td>\n",
       "      <td>2021-10-31 02:00:00</td>\n",
       "      <td>0</td>\n",
       "    </tr>\n",
       "    <tr>\n",
       "      <th>178938</th>\n",
       "      <td>NaN</td>\n",
       "      <td>2021-10-31 03:00:00</td>\n",
       "      <td>0</td>\n",
       "    </tr>\n",
       "    <tr>\n",
       "      <th>179064</th>\n",
       "      <td>0.0</td>\n",
       "      <td>2021-10-31 04:00:00</td>\n",
       "      <td>0</td>\n",
       "    </tr>\n",
       "  </tbody>\n",
       "</table>\n",
       "</div>"
      ],
      "text/plain": [
       "        target            datetime  prediction_unit_id\n",
       "178812     0.0 2021-10-31 02:00:00                   0\n",
       "178938     NaN 2021-10-31 03:00:00                   0\n",
       "179064     0.0 2021-10-31 04:00:00                   0"
      ]
     },
     "execution_count": 21,
     "metadata": {},
     "output_type": "execute_result"
    }
   ],
   "source": [
    "mask = ((production[\"datetime\"] <= \"2021-10-31 04:00:00\")\n",
    "        & (production[\"datetime\"] >= \"2021-10-31 02:00:00\")\n",
    "        & (production[\"prediction_unit_id\"] == 0))\n",
    "production[mask]"
   ]
  },
  {
   "cell_type": "code",
   "execution_count": null,
   "metadata": {},
   "outputs": [
    {
     "data": {
      "text/plain": [
       "Index([ 178938,  634866, 1332456, 1806252,  178940,  634868, 1332458, 1806254,\n",
       "        178942,  634870,\n",
       "       ...\n",
       "       1806378,  634890, 1332480, 1806276,  634908, 1332498, 1806294,  634964,\n",
       "       1332556, 1806350],\n",
       "      dtype='int64', length=248)"
      ]
     },
     "execution_count": 22,
     "metadata": {},
     "output_type": "execute_result"
    }
   ],
   "source": [
    "nan_production_indices = production[production[\"target\"].isna()].index\n",
    "nan_production_indices"
   ]
  },
  {
   "cell_type": "code",
   "execution_count": 23,
   "metadata": {},
   "outputs": [
    {
     "data": {
      "text/plain": [
       "target                248\n",
       "datetime                0\n",
       "prediction_unit_id      0\n",
       "dtype: int64"
      ]
     },
     "execution_count": 23,
     "metadata": {},
     "output_type": "execute_result"
    }
   ],
   "source": [
    "production.isna().sum()"
   ]
  },
  {
   "cell_type": "code",
   "execution_count": 24,
   "metadata": {},
   "outputs": [
    {
     "data": {
      "text/plain": [
       "target                0\n",
       "datetime              0\n",
       "prediction_unit_id    0\n",
       "dtype: int64"
      ]
     },
     "execution_count": 24,
     "metadata": {},
     "output_type": "execute_result"
    }
   ],
   "source": [
    "production.ffill(inplace=True)\n",
    "production.isna().sum()"
   ]
  },
  {
   "cell_type": "code",
   "execution_count": 25,
   "metadata": {},
   "outputs": [
    {
     "data": {
      "text/html": [
       "<div>\n",
       "<style scoped>\n",
       "    .dataframe tbody tr th:only-of-type {\n",
       "        vertical-align: middle;\n",
       "    }\n",
       "\n",
       "    .dataframe tbody tr th {\n",
       "        vertical-align: top;\n",
       "    }\n",
       "\n",
       "    .dataframe thead th {\n",
       "        text-align: right;\n",
       "    }\n",
       "</style>\n",
       "<table border=\"1\" class=\"dataframe\">\n",
       "  <thead>\n",
       "    <tr style=\"text-align: right;\">\n",
       "      <th></th>\n",
       "      <th>target</th>\n",
       "      <th>datetime</th>\n",
       "      <th>prediction_unit_id</th>\n",
       "    </tr>\n",
       "  </thead>\n",
       "  <tbody>\n",
       "    <tr>\n",
       "      <th>178812</th>\n",
       "      <td>0.0</td>\n",
       "      <td>2021-10-31 02:00:00</td>\n",
       "      <td>0</td>\n",
       "    </tr>\n",
       "    <tr>\n",
       "      <th>178938</th>\n",
       "      <td>0.0</td>\n",
       "      <td>2021-10-31 03:00:00</td>\n",
       "      <td>0</td>\n",
       "    </tr>\n",
       "    <tr>\n",
       "      <th>179064</th>\n",
       "      <td>0.0</td>\n",
       "      <td>2021-10-31 04:00:00</td>\n",
       "      <td>0</td>\n",
       "    </tr>\n",
       "  </tbody>\n",
       "</table>\n",
       "</div>"
      ],
      "text/plain": [
       "        target            datetime  prediction_unit_id\n",
       "178812     0.0 2021-10-31 02:00:00                   0\n",
       "178938     0.0 2021-10-31 03:00:00                   0\n",
       "179064     0.0 2021-10-31 04:00:00                   0"
      ]
     },
     "execution_count": 25,
     "metadata": {},
     "output_type": "execute_result"
    }
   ],
   "source": [
    "production[mask]"
   ]
  },
  {
   "cell_type": "markdown",
   "metadata": {},
   "source": [
    "## Filling NaNs"
   ]
  },
  {
   "cell_type": "code",
   "execution_count": null,
   "metadata": {},
   "outputs": [
    {
     "data": {
      "text/plain": [
       "Index([ 178938,  634866, 1332456, 1806252,  178940,  634868, 1332458, 1806254,\n",
       "        178942,  634870,\n",
       "       ...\n",
       "       1806378,  634890, 1332480, 1806276,  634908, 1332498, 1806294,  634964,\n",
       "       1332556, 1806350],\n",
       "      dtype='int64', length=248)"
      ]
     },
     "execution_count": 26,
     "metadata": {},
     "output_type": "execute_result"
    }
   ],
   "source": [
    "nan_production_indices"
   ]
  },
  {
   "cell_type": "code",
   "execution_count": null,
   "metadata": {},
   "outputs": [
    {
     "data": {
      "text/plain": [
       "Index([ 178939,  634867, 1332457, 1806253,  178941,  634869, 1332459, 1806255,\n",
       "        178943,  634871,\n",
       "       ...\n",
       "       1806379,  634891, 1332481, 1806277,  634909, 1332499, 1806295,  634965,\n",
       "       1332557, 1806351],\n",
       "      dtype='int64', length=248)"
      ]
     },
     "execution_count": 27,
     "metadata": {},
     "output_type": "execute_result"
    }
   ],
   "source": [
    "nan_consumption_indices"
   ]
  },
  {
   "cell_type": "code",
   "execution_count": null,
   "metadata": {},
   "outputs": [],
   "source": [
    "nan_indices = nan_production_indices.join(nan_consumption_indices, how=\"outer\")"
   ]
  },
  {
   "cell_type": "code",
   "execution_count": 29,
   "metadata": {},
   "outputs": [
    {
     "data": {
      "text/plain": [
       "np.True_"
      ]
     },
     "execution_count": 29,
     "metadata": {},
     "output_type": "execute_result"
    }
   ],
   "source": [
    "data.loc[nan_indices, \"target\"].isna().sum() == data[\"target\"].isna().sum()"
   ]
  },
  {
   "cell_type": "code",
   "execution_count": null,
   "metadata": {},
   "outputs": [
    {
     "data": {
      "text/plain": [
       "np.int64(0)"
      ]
     },
     "execution_count": 30,
     "metadata": {},
     "output_type": "execute_result"
    }
   ],
   "source": [
    "data.loc[nan_consumption_indices, \"target\"] = consumption.loc[nan_consumption_indices, \"target\"]\n",
    "data.loc[nan_production_indices, \"target\"] = production.loc[nan_production_indices, \"target\"]\n",
    "data[\"target\"].isna().sum()"
   ]
  },
  {
   "cell_type": "markdown",
   "metadata": {},
   "source": [
    "# Downcasting"
   ]
  },
  {
   "cell_type": "code",
   "execution_count": 31,
   "metadata": {},
   "outputs": [
    {
     "data": {
      "text/plain": [
       "target                        float64\n",
       "county                          int64\n",
       "is_business                     int64\n",
       "product_type                    int64\n",
       "is_consumption                  int64\n",
       "datetime               datetime64[ns]\n",
       "datetime-1             datetime64[ns]\n",
       "timestep              timedelta64[ns]\n",
       "data_block_id                   int64\n",
       "row_id                          int64\n",
       "prediction_unit_id              int64\n",
       "dtype: object"
      ]
     },
     "execution_count": 31,
     "metadata": {},
     "output_type": "execute_result"
    }
   ],
   "source": [
    "data.dtypes"
   ]
  },
  {
   "cell_type": "code",
   "execution_count": 32,
   "metadata": {},
   "outputs": [],
   "source": [
    "int_columns = list(data.dtypes[data.dtypes == np.int64].index)\n",
    "float_columns = list(data.dtypes[data.dtypes == np.float64].index)"
   ]
  },
  {
   "cell_type": "code",
   "execution_count": 33,
   "metadata": {},
   "outputs": [
    {
     "data": {
      "text/plain": [
       "['county',\n",
       " 'is_business',\n",
       " 'product_type',\n",
       " 'is_consumption',\n",
       " 'data_block_id',\n",
       " 'row_id',\n",
       " 'prediction_unit_id']"
      ]
     },
     "execution_count": 33,
     "metadata": {},
     "output_type": "execute_result"
    }
   ],
   "source": [
    "int_columns"
   ]
  },
  {
   "cell_type": "code",
   "execution_count": 34,
   "metadata": {},
   "outputs": [
    {
     "data": {
      "text/plain": [
       "['target']"
      ]
     },
     "execution_count": 34,
     "metadata": {},
     "output_type": "execute_result"
    }
   ],
   "source": [
    "float_columns"
   ]
  },
  {
   "cell_type": "code",
   "execution_count": 35,
   "metadata": {},
   "outputs": [],
   "source": [
    "for col in int_columns:\n",
    "    data[col] = pd.to_numeric(data[col], downcast=\"unsigned\")"
   ]
  },
  {
   "cell_type": "code",
   "execution_count": 36,
   "metadata": {},
   "outputs": [],
   "source": [
    "for col in float_columns:\n",
    "    data[col] = pd.to_numeric(data[col], downcast=\"float\")"
   ]
  },
  {
   "cell_type": "code",
   "execution_count": 37,
   "metadata": {},
   "outputs": [
    {
     "data": {
      "text/plain": [
       "target                        float32\n",
       "county                          uint8\n",
       "is_business                     uint8\n",
       "product_type                    uint8\n",
       "is_consumption                  uint8\n",
       "datetime               datetime64[ns]\n",
       "datetime-1             datetime64[ns]\n",
       "timestep              timedelta64[ns]\n",
       "data_block_id                  uint16\n",
       "row_id                         uint32\n",
       "prediction_unit_id              uint8\n",
       "dtype: object"
      ]
     },
     "execution_count": 37,
     "metadata": {},
     "output_type": "execute_result"
    }
   ],
   "source": [
    "data.dtypes"
   ]
  },
  {
   "cell_type": "markdown",
   "metadata": {},
   "source": [
    "# Train-Test split"
   ]
  },
  {
   "cell_type": "code",
   "execution_count": 38,
   "metadata": {},
   "outputs": [
    {
     "data": {
      "text/html": [
       "<div>\n",
       "<style scoped>\n",
       "    .dataframe tbody tr th:only-of-type {\n",
       "        vertical-align: middle;\n",
       "    }\n",
       "\n",
       "    .dataframe tbody tr th {\n",
       "        vertical-align: top;\n",
       "    }\n",
       "\n",
       "    .dataframe thead th {\n",
       "        text-align: right;\n",
       "    }\n",
       "</style>\n",
       "<table border=\"1\" class=\"dataframe\">\n",
       "  <thead>\n",
       "    <tr style=\"text-align: right;\">\n",
       "      <th></th>\n",
       "      <th>target</th>\n",
       "      <th>county</th>\n",
       "      <th>is_business</th>\n",
       "      <th>product_type</th>\n",
       "      <th>is_consumption</th>\n",
       "      <th>datetime</th>\n",
       "      <th>datetime-1</th>\n",
       "      <th>timestep</th>\n",
       "      <th>data_block_id</th>\n",
       "      <th>row_id</th>\n",
       "      <th>prediction_unit_id</th>\n",
       "    </tr>\n",
       "  </thead>\n",
       "  <tbody>\n",
       "    <tr>\n",
       "      <th>0</th>\n",
       "      <td>0.713000</td>\n",
       "      <td>0</td>\n",
       "      <td>0</td>\n",
       "      <td>1</td>\n",
       "      <td>0</td>\n",
       "      <td>2021-09-01 00:00:00</td>\n",
       "      <td>NaT</td>\n",
       "      <td>NaT</td>\n",
       "      <td>0</td>\n",
       "      <td>0</td>\n",
       "      <td>0</td>\n",
       "    </tr>\n",
       "    <tr>\n",
       "      <th>87</th>\n",
       "      <td>21.099001</td>\n",
       "      <td>11</td>\n",
       "      <td>0</td>\n",
       "      <td>1</td>\n",
       "      <td>1</td>\n",
       "      <td>2021-09-01 00:00:00</td>\n",
       "      <td>2021-09-01 00:00:00</td>\n",
       "      <td>0 days 00:00:00</td>\n",
       "      <td>0</td>\n",
       "      <td>87</td>\n",
       "      <td>43</td>\n",
       "    </tr>\n",
       "    <tr>\n",
       "      <th>86</th>\n",
       "      <td>0.000000</td>\n",
       "      <td>11</td>\n",
       "      <td>0</td>\n",
       "      <td>1</td>\n",
       "      <td>0</td>\n",
       "      <td>2021-09-01 00:00:00</td>\n",
       "      <td>2023-05-31 23:00:00</td>\n",
       "      <td>-638 days +01:00:00</td>\n",
       "      <td>0</td>\n",
       "      <td>86</td>\n",
       "      <td>43</td>\n",
       "    </tr>\n",
       "    <tr>\n",
       "      <th>85</th>\n",
       "      <td>927.348999</td>\n",
       "      <td>10</td>\n",
       "      <td>1</td>\n",
       "      <td>3</td>\n",
       "      <td>1</td>\n",
       "      <td>2021-09-01 00:00:00</td>\n",
       "      <td>2021-09-01 00:00:00</td>\n",
       "      <td>0 days 00:00:00</td>\n",
       "      <td>0</td>\n",
       "      <td>85</td>\n",
       "      <td>42</td>\n",
       "    </tr>\n",
       "    <tr>\n",
       "      <th>84</th>\n",
       "      <td>0.000000</td>\n",
       "      <td>10</td>\n",
       "      <td>1</td>\n",
       "      <td>3</td>\n",
       "      <td>0</td>\n",
       "      <td>2021-09-01 00:00:00</td>\n",
       "      <td>2023-05-15 23:00:00</td>\n",
       "      <td>-622 days +01:00:00</td>\n",
       "      <td>0</td>\n",
       "      <td>84</td>\n",
       "      <td>42</td>\n",
       "    </tr>\n",
       "    <tr>\n",
       "      <th>...</th>\n",
       "      <td>...</td>\n",
       "      <td>...</td>\n",
       "      <td>...</td>\n",
       "      <td>...</td>\n",
       "      <td>...</td>\n",
       "      <td>...</td>\n",
       "      <td>...</td>\n",
       "      <td>...</td>\n",
       "      <td>...</td>\n",
       "      <td>...</td>\n",
       "      <td>...</td>\n",
       "    </tr>\n",
       "    <tr>\n",
       "      <th>2018277</th>\n",
       "      <td>1307.526978</td>\n",
       "      <td>5</td>\n",
       "      <td>1</td>\n",
       "      <td>3</td>\n",
       "      <td>1</td>\n",
       "      <td>2023-05-31 23:00:00</td>\n",
       "      <td>2023-05-31 23:00:00</td>\n",
       "      <td>0 days 00:00:00</td>\n",
       "      <td>637</td>\n",
       "      <td>2018277</td>\n",
       "      <td>23</td>\n",
       "    </tr>\n",
       "    <tr>\n",
       "      <th>2018276</th>\n",
       "      <td>0.396000</td>\n",
       "      <td>5</td>\n",
       "      <td>1</td>\n",
       "      <td>3</td>\n",
       "      <td>0</td>\n",
       "      <td>2023-05-31 23:00:00</td>\n",
       "      <td>2023-05-31 22:00:00</td>\n",
       "      <td>0 days 01:00:00</td>\n",
       "      <td>637</td>\n",
       "      <td>2018276</td>\n",
       "      <td>23</td>\n",
       "    </tr>\n",
       "    <tr>\n",
       "      <th>2018305</th>\n",
       "      <td>58.411999</td>\n",
       "      <td>10</td>\n",
       "      <td>0</td>\n",
       "      <td>1</td>\n",
       "      <td>1</td>\n",
       "      <td>2023-05-31 23:00:00</td>\n",
       "      <td>2023-05-31 23:00:00</td>\n",
       "      <td>0 days 00:00:00</td>\n",
       "      <td>637</td>\n",
       "      <td>2018305</td>\n",
       "      <td>38</td>\n",
       "    </tr>\n",
       "    <tr>\n",
       "      <th>2018311</th>\n",
       "      <td>822.236023</td>\n",
       "      <td>10</td>\n",
       "      <td>1</td>\n",
       "      <td>3</td>\n",
       "      <td>1</td>\n",
       "      <td>2023-05-31 23:00:00</td>\n",
       "      <td>2023-05-31 23:00:00</td>\n",
       "      <td>0 days 00:00:00</td>\n",
       "      <td>637</td>\n",
       "      <td>2018311</td>\n",
       "      <td>42</td>\n",
       "    </tr>\n",
       "    <tr>\n",
       "      <th>2018317</th>\n",
       "      <td>325.266998</td>\n",
       "      <td>11</td>\n",
       "      <td>1</td>\n",
       "      <td>0</td>\n",
       "      <td>1</td>\n",
       "      <td>2023-05-31 23:00:00</td>\n",
       "      <td>2023-05-31 23:00:00</td>\n",
       "      <td>0 days 00:00:00</td>\n",
       "      <td>637</td>\n",
       "      <td>2018317</td>\n",
       "      <td>67</td>\n",
       "    </tr>\n",
       "  </tbody>\n",
       "</table>\n",
       "<p>1901568 rows × 11 columns</p>\n",
       "</div>"
      ],
      "text/plain": [
       "              target  county  is_business  product_type  is_consumption  \\\n",
       "0           0.713000       0            0             1               0   \n",
       "87         21.099001      11            0             1               1   \n",
       "86          0.000000      11            0             1               0   \n",
       "85        927.348999      10            1             3               1   \n",
       "84          0.000000      10            1             3               0   \n",
       "...              ...     ...          ...           ...             ...   \n",
       "2018277  1307.526978       5            1             3               1   \n",
       "2018276     0.396000       5            1             3               0   \n",
       "2018305    58.411999      10            0             1               1   \n",
       "2018311   822.236023      10            1             3               1   \n",
       "2018317   325.266998      11            1             0               1   \n",
       "\n",
       "                   datetime          datetime-1            timestep  \\\n",
       "0       2021-09-01 00:00:00                 NaT                 NaT   \n",
       "87      2021-09-01 00:00:00 2021-09-01 00:00:00     0 days 00:00:00   \n",
       "86      2021-09-01 00:00:00 2023-05-31 23:00:00 -638 days +01:00:00   \n",
       "85      2021-09-01 00:00:00 2021-09-01 00:00:00     0 days 00:00:00   \n",
       "84      2021-09-01 00:00:00 2023-05-15 23:00:00 -622 days +01:00:00   \n",
       "...                     ...                 ...                 ...   \n",
       "2018277 2023-05-31 23:00:00 2023-05-31 23:00:00     0 days 00:00:00   \n",
       "2018276 2023-05-31 23:00:00 2023-05-31 22:00:00     0 days 01:00:00   \n",
       "2018305 2023-05-31 23:00:00 2023-05-31 23:00:00     0 days 00:00:00   \n",
       "2018311 2023-05-31 23:00:00 2023-05-31 23:00:00     0 days 00:00:00   \n",
       "2018317 2023-05-31 23:00:00 2023-05-31 23:00:00     0 days 00:00:00   \n",
       "\n",
       "         data_block_id   row_id  prediction_unit_id  \n",
       "0                    0        0                   0  \n",
       "87                   0       87                  43  \n",
       "86                   0       86                  43  \n",
       "85                   0       85                  42  \n",
       "84                   0       84                  42  \n",
       "...                ...      ...                 ...  \n",
       "2018277            637  2018277                  23  \n",
       "2018276            637  2018276                  23  \n",
       "2018305            637  2018305                  38  \n",
       "2018311            637  2018311                  42  \n",
       "2018317            637  2018317                  67  \n",
       "\n",
       "[1901568 rows x 11 columns]"
      ]
     },
     "execution_count": 38,
     "metadata": {},
     "output_type": "execute_result"
    }
   ],
   "source": [
    "data = data.sort_values(by=\"datetime\")\n",
    "data"
   ]
  },
  {
   "cell_type": "code",
   "execution_count": null,
   "metadata": {},
   "outputs": [
    {
     "data": {
      "text/plain": [
       "target                                0.0\n",
       "county                                  9\n",
       "is_business                             0\n",
       "product_type                            3\n",
       "is_consumption                          0\n",
       "datetime              2023-01-26 05:00:00\n",
       "datetime-1            2023-01-26 04:00:00\n",
       "timestep                  0 days 01:00:00\n",
       "data_block_id                         512\n",
       "row_id                            1618384\n",
       "prediction_unit_id                     35\n",
       "Name: 1618384, dtype: object"
      ]
     },
     "execution_count": 39,
     "metadata": {},
     "output_type": "execute_result"
    }
   ],
   "source": [
    "data.iloc[int(len(data) * 0.80)]"
   ]
  },
  {
   "cell_type": "code",
   "execution_count": 40,
   "metadata": {},
   "outputs": [
    {
     "name": "stdout",
     "output_type": "stream",
     "text": [
      "(1521300, 11)\n",
      "(380268, 11)\n"
     ]
    }
   ],
   "source": [
    "train = data[data[\"datetime\"] <= \"2023-01-26 05:00:00\"]\n",
    "test = data[data[\"datetime\"] > \"2023-01-26 05:00:00\"]\n",
    "print(train.shape)\n",
    "print(test.shape)"
   ]
  },
  {
   "cell_type": "code",
   "execution_count": 41,
   "metadata": {},
   "outputs": [
    {
     "data": {
      "text/plain": [
       "True"
      ]
     },
     "execution_count": 41,
     "metadata": {},
     "output_type": "execute_result"
    }
   ],
   "source": [
    "len(data) == len(train) + len(test)"
   ]
  },
  {
   "cell_type": "code",
   "execution_count": 42,
   "metadata": {},
   "outputs": [
    {
     "data": {
      "text/plain": [
       "0.8000239802100162"
      ]
     },
     "execution_count": 42,
     "metadata": {},
     "output_type": "execute_result"
    }
   ],
   "source": [
    "len(train) / len(data)"
   ]
  },
  {
   "cell_type": "code",
   "execution_count": 43,
   "metadata": {},
   "outputs": [
    {
     "data": {
      "text/plain": [
       "0.19997601978998383"
      ]
     },
     "execution_count": 43,
     "metadata": {},
     "output_type": "execute_result"
    }
   ],
   "source": [
    "len(test) / len(data)"
   ]
  },
  {
   "cell_type": "code",
   "execution_count": 44,
   "metadata": {},
   "outputs": [],
   "source": [
    "# production_train = train[train[\"is_consumption\"] == 0]\n",
    "# production_test = test[test[\"is_consumption\"] == 0]"
   ]
  },
  {
   "cell_type": "code",
   "execution_count": 45,
   "metadata": {},
   "outputs": [],
   "source": [
    "# consumption_train = train[train[\"is_consumption\"] == 1]\n",
    "# consumption_test = test[test[\"is_consumption\"] == 1]"
   ]
  },
  {
   "cell_type": "markdown",
   "metadata": {},
   "source": [
    "# Save cleaned data"
   ]
  },
  {
   "cell_type": "code",
   "execution_count": 46,
   "metadata": {},
   "outputs": [],
   "source": [
    "import os"
   ]
  },
  {
   "cell_type": "code",
   "execution_count": 47,
   "metadata": {},
   "outputs": [],
   "source": [
    "if \"preprocessed\" not in os.listdir(\"../data\"):\n",
    "    os.mkdir(\"../data/preprocessed\")"
   ]
  },
  {
   "cell_type": "code",
   "execution_count": 48,
   "metadata": {},
   "outputs": [],
   "source": [
    "# TODO: save in an other format to preserve data types\n",
    "train.to_csv(\"../data/preprocessed/train.csv\", index=False)\n",
    "# production_train.to_csv(\"../data/preprocessed/production_train.csv\", index=False)\n",
    "# consumption_train.to_csv(\"../data/preprocessed/consumption_train.csv\", index=False)"
   ]
  },
  {
   "cell_type": "code",
   "execution_count": 49,
   "metadata": {},
   "outputs": [],
   "source": [
    "test.to_csv(\"../data/preprocessed/test.csv\", index=False)\n",
    "# production_test.to_csv(\"../data/preprocessed/production_test.csv\", index=False)\n",
    "# consumption_test.to_csv(\"../data/preprocessed/consumption_test.csv\", index=False)"
   ]
  },
  {
   "cell_type": "code",
   "execution_count": 50,
   "metadata": {},
   "outputs": [
    {
     "data": {
      "text/plain": [
       "['consumption_train.csv',\n",
       " 'test.csv',\n",
       " 'consumption_test.csv',\n",
       " 'production_train.csv',\n",
       " 'train.csv',\n",
       " 'production_test.csv']"
      ]
     },
     "execution_count": 50,
     "metadata": {},
     "output_type": "execute_result"
    }
   ],
   "source": [
    "os.listdir(\"../data/preprocessed\")"
   ]
  },
  {
   "cell_type": "code",
   "execution_count": 51,
   "metadata": {},
   "outputs": [],
   "source": [
    "# Load data to AWS S3 (Optional)\n",
    "if config[\"s3_bucket\"]:\n",
    "    s3_client = boto3.client('s3')\n",
    "    with open(\"../data/preprocessed/train.csv\", \"rb\") as file:\n",
    "        s3_client.upload_fileobj(file, config[\"s3_bucket\"], \"data/preprocessed/train.csv\")\n",
    "    with open(\"../data/preprocessed/test.csv\", \"rb\") as file:\n",
    "        s3_client.upload_fileobj(file, config[\"s3_bucket\"], \"data/preprocessed/test.csv\")"
   ]
  },
  {
   "cell_type": "code",
   "execution_count": 52,
   "metadata": {},
   "outputs": [],
   "source": [
    "# Check that data has been uploaded correctly\n",
    "if config[\"s3_bucket\"]:\n",
    "    response = s3_client.list_objects(\n",
    "        Bucket=config[\"s3_bucket\"])\n",
    "    for obj in response.get(\"Contents\"):\n",
    "        print(obj.get(\"Key\"))"
   ]
  },
  {
   "cell_type": "code",
   "execution_count": null,
   "metadata": {},
   "outputs": [],
   "source": []
  }
 ],
 "metadata": {
  "kernelspec": {
   "display_name": ".venv",
   "language": "python",
   "name": "python3"
  },
  "language_info": {
   "codemirror_mode": {
    "name": "ipython",
    "version": 3
   },
   "file_extension": ".py",
   "mimetype": "text/x-python",
   "name": "python",
   "nbconvert_exporter": "python",
   "pygments_lexer": "ipython3",
   "version": "3.10.11"
  }
 },
 "nbformat": 4,
 "nbformat_minor": 2
}
