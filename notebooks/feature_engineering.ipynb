{
 "cells": [
  {
   "cell_type": "code",
   "execution_count": 32,
   "metadata": {},
   "outputs": [],
   "source": [
    "import pandas as pd"
   ]
  },
  {
   "cell_type": "code",
   "execution_count": 6,
   "metadata": {},
   "outputs": [],
   "source": [
    "import sys\n",
    "sys.path.append(\"/Users/gabriel/Documents/Git/End-to-end MLOps for Time Series\")\n",
    "from utils import load_config\n",
    "config = load_config(\"../config/config.yaml\")"
   ]
  },
  {
   "cell_type": "code",
   "execution_count": 34,
   "metadata": {},
   "outputs": [
    {
     "name": "stdout",
     "output_type": "stream",
     "text": [
      "(760650, 9)\n"
     ]
    },
    {
     "data": {
      "text/html": [
       "<div>\n",
       "<style scoped>\n",
       "    .dataframe tbody tr th:only-of-type {\n",
       "        vertical-align: middle;\n",
       "    }\n",
       "\n",
       "    .dataframe tbody tr th {\n",
       "        vertical-align: top;\n",
       "    }\n",
       "\n",
       "    .dataframe thead th {\n",
       "        text-align: right;\n",
       "    }\n",
       "</style>\n",
       "<table border=\"1\" class=\"dataframe\">\n",
       "  <thead>\n",
       "    <tr style=\"text-align: right;\">\n",
       "      <th></th>\n",
       "      <th>county</th>\n",
       "      <th>is_business</th>\n",
       "      <th>product_type</th>\n",
       "      <th>target</th>\n",
       "      <th>is_consumption</th>\n",
       "      <th>datetime</th>\n",
       "      <th>data_block_id</th>\n",
       "      <th>row_id</th>\n",
       "      <th>prediction_unit_id</th>\n",
       "    </tr>\n",
       "  </thead>\n",
       "  <tbody>\n",
       "    <tr>\n",
       "      <th>0</th>\n",
       "      <td>0</td>\n",
       "      <td>0</td>\n",
       "      <td>1</td>\n",
       "      <td>96.590</td>\n",
       "      <td>1</td>\n",
       "      <td>2021-09-01</td>\n",
       "      <td>0</td>\n",
       "      <td>1</td>\n",
       "      <td>0</td>\n",
       "    </tr>\n",
       "    <tr>\n",
       "      <th>1</th>\n",
       "      <td>3</td>\n",
       "      <td>0</td>\n",
       "      <td>3</td>\n",
       "      <td>39.241</td>\n",
       "      <td>1</td>\n",
       "      <td>2021-09-01</td>\n",
       "      <td>0</td>\n",
       "      <td>25</td>\n",
       "      <td>12</td>\n",
       "    </tr>\n",
       "    <tr>\n",
       "      <th>2</th>\n",
       "      <td>7</td>\n",
       "      <td>1</td>\n",
       "      <td>3</td>\n",
       "      <td>453.023</td>\n",
       "      <td>1</td>\n",
       "      <td>2021-09-01</td>\n",
       "      <td>0</td>\n",
       "      <td>61</td>\n",
       "      <td>30</td>\n",
       "    </tr>\n",
       "    <tr>\n",
       "      <th>3</th>\n",
       "      <td>8</td>\n",
       "      <td>0</td>\n",
       "      <td>1</td>\n",
       "      <td>9.787</td>\n",
       "      <td>1</td>\n",
       "      <td>2021-09-01</td>\n",
       "      <td>0</td>\n",
       "      <td>63</td>\n",
       "      <td>31</td>\n",
       "    </tr>\n",
       "    <tr>\n",
       "      <th>4</th>\n",
       "      <td>3</td>\n",
       "      <td>0</td>\n",
       "      <td>1</td>\n",
       "      <td>14.964</td>\n",
       "      <td>1</td>\n",
       "      <td>2021-09-01</td>\n",
       "      <td>0</td>\n",
       "      <td>23</td>\n",
       "      <td>11</td>\n",
       "    </tr>\n",
       "  </tbody>\n",
       "</table>\n",
       "</div>"
      ],
      "text/plain": [
       "   county  is_business  product_type   target  is_consumption   datetime  \\\n",
       "0       0            0             1   96.590               1 2021-09-01   \n",
       "1       3            0             3   39.241               1 2021-09-01   \n",
       "2       7            1             3  453.023               1 2021-09-01   \n",
       "3       8            0             1    9.787               1 2021-09-01   \n",
       "4       3            0             1   14.964               1 2021-09-01   \n",
       "\n",
       "   data_block_id  row_id  prediction_unit_id  \n",
       "0              0       1                   0  \n",
       "1              0      25                  12  \n",
       "2              0      61                  30  \n",
       "3              0      63                  31  \n",
       "4              0      23                  11  "
      ]
     },
     "execution_count": 34,
     "metadata": {},
     "output_type": "execute_result"
    }
   ],
   "source": [
    "consumption_train = pd.read_csv(\"../data/preprocessed/consumption_train.csv\", parse_dates=[\"datetime\"])\n",
    "print(consumption_train.shape)\n",
    "consumption_train.head()"
   ]
  },
  {
   "cell_type": "markdown",
   "metadata": {},
   "source": [
    "# Lag features"
   ]
  },
  {
   "cell_type": "code",
   "execution_count": 36,
   "metadata": {},
   "outputs": [],
   "source": [
    "def make_lags(df, column, lags, dropna=True):\n",
    "    df_lags = pd.concat(\n",
    "        {\n",
    "            f'{column}_lag_{i}': df[column].shift(i)\n",
    "            for i in lags\n",
    "        },\n",
    "        axis=1)\n",
    "    if dropna:\n",
    "        return pd.concat([df, df_lags], axis=1).dropna(axis=0)\n",
    "    else:\n",
    "        return pd.concat([df, df_lags], axis=1)"
   ]
  },
  {
   "cell_type": "code",
   "execution_count": 37,
   "metadata": {},
   "outputs": [
    {
     "data": {
      "text/plain": [
       "range(48, 73)"
      ]
     },
     "execution_count": 37,
     "metadata": {},
     "output_type": "execute_result"
    }
   ],
   "source": [
    "start = config[\"forecast_horizon\"]\n",
    "end = start + config[\"n_lags\"] + 1\n",
    "range(start, end)"
   ]
  },
  {
   "cell_type": "code",
   "execution_count": 38,
   "metadata": {},
   "outputs": [],
   "source": [
    "groups = consumption_train.groupby(by=\"prediction_unit_id\")\n",
    "transformed_groups = []\n",
    "for name, group in groups:\n",
    "    group = make_lags(df=group, column=\"target\", lags=range(start, end))\n",
    "    transformed_groups.append(group)"
   ]
  },
  {
   "cell_type": "code",
   "execution_count": 39,
   "metadata": {},
   "outputs": [
    {
     "data": {
      "text/plain": [
       "np.int64(0)"
      ]
     },
     "execution_count": 39,
     "metadata": {},
     "output_type": "execute_result"
    }
   ],
   "source": [
    "new_consumption_train = pd.concat(transformed_groups, axis=0)\n",
    "new_consumption_train.isna().sum().sum()"
   ]
  },
  {
   "cell_type": "code",
   "execution_count": 40,
   "metadata": {},
   "outputs": [
    {
     "data": {
      "text/plain": [
       "RangeIndex(start=0, stop=756114, step=1)"
      ]
     },
     "execution_count": 40,
     "metadata": {},
     "output_type": "execute_result"
    }
   ],
   "source": [
    "new_consumption_train.reset_index(drop=True, inplace=True)\n",
    "new_consumption_train.index"
   ]
  },
  {
   "cell_type": "code",
   "execution_count": 41,
   "metadata": {},
   "outputs": [
    {
     "data": {
      "text/html": [
       "<div>\n",
       "<style scoped>\n",
       "    .dataframe tbody tr th:only-of-type {\n",
       "        vertical-align: middle;\n",
       "    }\n",
       "\n",
       "    .dataframe tbody tr th {\n",
       "        vertical-align: top;\n",
       "    }\n",
       "\n",
       "    .dataframe thead th {\n",
       "        text-align: right;\n",
       "    }\n",
       "</style>\n",
       "<table border=\"1\" class=\"dataframe\">\n",
       "  <thead>\n",
       "    <tr style=\"text-align: right;\">\n",
       "      <th></th>\n",
       "      <th>county</th>\n",
       "      <th>is_business</th>\n",
       "      <th>product_type</th>\n",
       "      <th>target</th>\n",
       "      <th>is_consumption</th>\n",
       "      <th>datetime</th>\n",
       "      <th>data_block_id</th>\n",
       "      <th>row_id</th>\n",
       "      <th>prediction_unit_id</th>\n",
       "      <th>target_lag_48</th>\n",
       "      <th>...</th>\n",
       "      <th>target_lag_63</th>\n",
       "      <th>target_lag_64</th>\n",
       "      <th>target_lag_65</th>\n",
       "      <th>target_lag_66</th>\n",
       "      <th>target_lag_67</th>\n",
       "      <th>target_lag_68</th>\n",
       "      <th>target_lag_69</th>\n",
       "      <th>target_lag_70</th>\n",
       "      <th>target_lag_71</th>\n",
       "      <th>target_lag_72</th>\n",
       "    </tr>\n",
       "  </thead>\n",
       "  <tbody>\n",
       "    <tr>\n",
       "      <th>0</th>\n",
       "      <td>0</td>\n",
       "      <td>0</td>\n",
       "      <td>1</td>\n",
       "      <td>121.942</td>\n",
       "      <td>1</td>\n",
       "      <td>2021-09-04 00:00:00</td>\n",
       "      <td>3</td>\n",
       "      <td>8785</td>\n",
       "      <td>0</td>\n",
       "      <td>109.366</td>\n",
       "      <td>...</td>\n",
       "      <td>54.211</td>\n",
       "      <td>77.308</td>\n",
       "      <td>94.592</td>\n",
       "      <td>96.481</td>\n",
       "      <td>89.781</td>\n",
       "      <td>88.184</td>\n",
       "      <td>87.955</td>\n",
       "      <td>91.594</td>\n",
       "      <td>77.691</td>\n",
       "      <td>96.590</td>\n",
       "    </tr>\n",
       "    <tr>\n",
       "      <th>1</th>\n",
       "      <td>0</td>\n",
       "      <td>0</td>\n",
       "      <td>1</td>\n",
       "      <td>114.038</td>\n",
       "      <td>1</td>\n",
       "      <td>2021-09-04 01:00:00</td>\n",
       "      <td>3</td>\n",
       "      <td>8907</td>\n",
       "      <td>0</td>\n",
       "      <td>97.033</td>\n",
       "      <td>...</td>\n",
       "      <td>36.071</td>\n",
       "      <td>54.211</td>\n",
       "      <td>77.308</td>\n",
       "      <td>94.592</td>\n",
       "      <td>96.481</td>\n",
       "      <td>89.781</td>\n",
       "      <td>88.184</td>\n",
       "      <td>87.955</td>\n",
       "      <td>91.594</td>\n",
       "      <td>77.691</td>\n",
       "    </tr>\n",
       "    <tr>\n",
       "      <th>2</th>\n",
       "      <td>0</td>\n",
       "      <td>0</td>\n",
       "      <td>1</td>\n",
       "      <td>105.102</td>\n",
       "      <td>1</td>\n",
       "      <td>2021-09-04 02:00:00</td>\n",
       "      <td>3</td>\n",
       "      <td>9029</td>\n",
       "      <td>0</td>\n",
       "      <td>104.854</td>\n",
       "      <td>...</td>\n",
       "      <td>31.147</td>\n",
       "      <td>36.071</td>\n",
       "      <td>54.211</td>\n",
       "      <td>77.308</td>\n",
       "      <td>94.592</td>\n",
       "      <td>96.481</td>\n",
       "      <td>89.781</td>\n",
       "      <td>88.184</td>\n",
       "      <td>87.955</td>\n",
       "      <td>91.594</td>\n",
       "    </tr>\n",
       "    <tr>\n",
       "      <th>3</th>\n",
       "      <td>0</td>\n",
       "      <td>0</td>\n",
       "      <td>1</td>\n",
       "      <td>120.120</td>\n",
       "      <td>1</td>\n",
       "      <td>2021-09-04 03:00:00</td>\n",
       "      <td>3</td>\n",
       "      <td>9151</td>\n",
       "      <td>0</td>\n",
       "      <td>103.433</td>\n",
       "      <td>...</td>\n",
       "      <td>26.138</td>\n",
       "      <td>31.147</td>\n",
       "      <td>36.071</td>\n",
       "      <td>54.211</td>\n",
       "      <td>77.308</td>\n",
       "      <td>94.592</td>\n",
       "      <td>96.481</td>\n",
       "      <td>89.781</td>\n",
       "      <td>88.184</td>\n",
       "      <td>87.955</td>\n",
       "    </tr>\n",
       "    <tr>\n",
       "      <th>4</th>\n",
       "      <td>0</td>\n",
       "      <td>0</td>\n",
       "      <td>1</td>\n",
       "      <td>117.384</td>\n",
       "      <td>1</td>\n",
       "      <td>2021-09-04 04:00:00</td>\n",
       "      <td>3</td>\n",
       "      <td>9273</td>\n",
       "      <td>0</td>\n",
       "      <td>105.858</td>\n",
       "      <td>...</td>\n",
       "      <td>37.784</td>\n",
       "      <td>26.138</td>\n",
       "      <td>31.147</td>\n",
       "      <td>36.071</td>\n",
       "      <td>54.211</td>\n",
       "      <td>77.308</td>\n",
       "      <td>94.592</td>\n",
       "      <td>96.481</td>\n",
       "      <td>89.781</td>\n",
       "      <td>88.184</td>\n",
       "    </tr>\n",
       "  </tbody>\n",
       "</table>\n",
       "<p>5 rows × 34 columns</p>\n",
       "</div>"
      ],
      "text/plain": [
       "   county  is_business  product_type   target  is_consumption  \\\n",
       "0       0            0             1  121.942               1   \n",
       "1       0            0             1  114.038               1   \n",
       "2       0            0             1  105.102               1   \n",
       "3       0            0             1  120.120               1   \n",
       "4       0            0             1  117.384               1   \n",
       "\n",
       "             datetime  data_block_id  row_id  prediction_unit_id  \\\n",
       "0 2021-09-04 00:00:00              3    8785                   0   \n",
       "1 2021-09-04 01:00:00              3    8907                   0   \n",
       "2 2021-09-04 02:00:00              3    9029                   0   \n",
       "3 2021-09-04 03:00:00              3    9151                   0   \n",
       "4 2021-09-04 04:00:00              3    9273                   0   \n",
       "\n",
       "   target_lag_48  ...  target_lag_63  target_lag_64  target_lag_65  \\\n",
       "0        109.366  ...         54.211         77.308         94.592   \n",
       "1         97.033  ...         36.071         54.211         77.308   \n",
       "2        104.854  ...         31.147         36.071         54.211   \n",
       "3        103.433  ...         26.138         31.147         36.071   \n",
       "4        105.858  ...         37.784         26.138         31.147   \n",
       "\n",
       "   target_lag_66  target_lag_67  target_lag_68  target_lag_69  target_lag_70  \\\n",
       "0         96.481         89.781         88.184         87.955         91.594   \n",
       "1         94.592         96.481         89.781         88.184         87.955   \n",
       "2         77.308         94.592         96.481         89.781         88.184   \n",
       "3         54.211         77.308         94.592         96.481         89.781   \n",
       "4         36.071         54.211         77.308         94.592         96.481   \n",
       "\n",
       "   target_lag_71  target_lag_72  \n",
       "0         77.691         96.590  \n",
       "1         91.594         77.691  \n",
       "2         87.955         91.594  \n",
       "3         88.184         87.955  \n",
       "4         89.781         88.184  \n",
       "\n",
       "[5 rows x 34 columns]"
      ]
     },
     "execution_count": 41,
     "metadata": {},
     "output_type": "execute_result"
    }
   ],
   "source": [
    "new_consumption_train.head()"
   ]
  },
  {
   "cell_type": "markdown",
   "metadata": {},
   "source": [
    "# Time-related features"
   ]
  },
  {
   "cell_type": "code",
   "execution_count": 42,
   "metadata": {},
   "outputs": [],
   "source": [
    "def make_time_features(df, datetime_column):\n",
    "    index = pd.DatetimeIndex(df[datetime_column])\n",
    "    time_features = pd.DataFrame(index=index, data={\"hour\": index.hour, \"dayofweek\": index.dayofweek, \"month\": index.month})\n",
    "    time_features.reset_index(drop=True, inplace=True)\n",
    "    return pd.concat([df, time_features], axis=1)"
   ]
  },
  {
   "cell_type": "code",
   "execution_count": 43,
   "metadata": {},
   "outputs": [
    {
     "name": "stdout",
     "output_type": "stream",
     "text": [
      "(756114, 37)\n"
     ]
    },
    {
     "data": {
      "text/html": [
       "<div>\n",
       "<style scoped>\n",
       "    .dataframe tbody tr th:only-of-type {\n",
       "        vertical-align: middle;\n",
       "    }\n",
       "\n",
       "    .dataframe tbody tr th {\n",
       "        vertical-align: top;\n",
       "    }\n",
       "\n",
       "    .dataframe thead th {\n",
       "        text-align: right;\n",
       "    }\n",
       "</style>\n",
       "<table border=\"1\" class=\"dataframe\">\n",
       "  <thead>\n",
       "    <tr style=\"text-align: right;\">\n",
       "      <th></th>\n",
       "      <th>county</th>\n",
       "      <th>is_business</th>\n",
       "      <th>product_type</th>\n",
       "      <th>target</th>\n",
       "      <th>is_consumption</th>\n",
       "      <th>datetime</th>\n",
       "      <th>data_block_id</th>\n",
       "      <th>row_id</th>\n",
       "      <th>prediction_unit_id</th>\n",
       "      <th>target_lag_48</th>\n",
       "      <th>...</th>\n",
       "      <th>target_lag_66</th>\n",
       "      <th>target_lag_67</th>\n",
       "      <th>target_lag_68</th>\n",
       "      <th>target_lag_69</th>\n",
       "      <th>target_lag_70</th>\n",
       "      <th>target_lag_71</th>\n",
       "      <th>target_lag_72</th>\n",
       "      <th>hour</th>\n",
       "      <th>dayofweek</th>\n",
       "      <th>month</th>\n",
       "    </tr>\n",
       "  </thead>\n",
       "  <tbody>\n",
       "    <tr>\n",
       "      <th>0</th>\n",
       "      <td>0</td>\n",
       "      <td>0</td>\n",
       "      <td>1</td>\n",
       "      <td>121.942</td>\n",
       "      <td>1</td>\n",
       "      <td>2021-09-04 00:00:00</td>\n",
       "      <td>3</td>\n",
       "      <td>8785</td>\n",
       "      <td>0</td>\n",
       "      <td>109.366</td>\n",
       "      <td>...</td>\n",
       "      <td>96.481</td>\n",
       "      <td>89.781</td>\n",
       "      <td>88.184</td>\n",
       "      <td>87.955</td>\n",
       "      <td>91.594</td>\n",
       "      <td>77.691</td>\n",
       "      <td>96.590</td>\n",
       "      <td>0</td>\n",
       "      <td>5</td>\n",
       "      <td>9</td>\n",
       "    </tr>\n",
       "    <tr>\n",
       "      <th>1</th>\n",
       "      <td>0</td>\n",
       "      <td>0</td>\n",
       "      <td>1</td>\n",
       "      <td>114.038</td>\n",
       "      <td>1</td>\n",
       "      <td>2021-09-04 01:00:00</td>\n",
       "      <td>3</td>\n",
       "      <td>8907</td>\n",
       "      <td>0</td>\n",
       "      <td>97.033</td>\n",
       "      <td>...</td>\n",
       "      <td>94.592</td>\n",
       "      <td>96.481</td>\n",
       "      <td>89.781</td>\n",
       "      <td>88.184</td>\n",
       "      <td>87.955</td>\n",
       "      <td>91.594</td>\n",
       "      <td>77.691</td>\n",
       "      <td>1</td>\n",
       "      <td>5</td>\n",
       "      <td>9</td>\n",
       "    </tr>\n",
       "    <tr>\n",
       "      <th>2</th>\n",
       "      <td>0</td>\n",
       "      <td>0</td>\n",
       "      <td>1</td>\n",
       "      <td>105.102</td>\n",
       "      <td>1</td>\n",
       "      <td>2021-09-04 02:00:00</td>\n",
       "      <td>3</td>\n",
       "      <td>9029</td>\n",
       "      <td>0</td>\n",
       "      <td>104.854</td>\n",
       "      <td>...</td>\n",
       "      <td>77.308</td>\n",
       "      <td>94.592</td>\n",
       "      <td>96.481</td>\n",
       "      <td>89.781</td>\n",
       "      <td>88.184</td>\n",
       "      <td>87.955</td>\n",
       "      <td>91.594</td>\n",
       "      <td>2</td>\n",
       "      <td>5</td>\n",
       "      <td>9</td>\n",
       "    </tr>\n",
       "    <tr>\n",
       "      <th>3</th>\n",
       "      <td>0</td>\n",
       "      <td>0</td>\n",
       "      <td>1</td>\n",
       "      <td>120.120</td>\n",
       "      <td>1</td>\n",
       "      <td>2021-09-04 03:00:00</td>\n",
       "      <td>3</td>\n",
       "      <td>9151</td>\n",
       "      <td>0</td>\n",
       "      <td>103.433</td>\n",
       "      <td>...</td>\n",
       "      <td>54.211</td>\n",
       "      <td>77.308</td>\n",
       "      <td>94.592</td>\n",
       "      <td>96.481</td>\n",
       "      <td>89.781</td>\n",
       "      <td>88.184</td>\n",
       "      <td>87.955</td>\n",
       "      <td>3</td>\n",
       "      <td>5</td>\n",
       "      <td>9</td>\n",
       "    </tr>\n",
       "    <tr>\n",
       "      <th>4</th>\n",
       "      <td>0</td>\n",
       "      <td>0</td>\n",
       "      <td>1</td>\n",
       "      <td>117.384</td>\n",
       "      <td>1</td>\n",
       "      <td>2021-09-04 04:00:00</td>\n",
       "      <td>3</td>\n",
       "      <td>9273</td>\n",
       "      <td>0</td>\n",
       "      <td>105.858</td>\n",
       "      <td>...</td>\n",
       "      <td>36.071</td>\n",
       "      <td>54.211</td>\n",
       "      <td>77.308</td>\n",
       "      <td>94.592</td>\n",
       "      <td>96.481</td>\n",
       "      <td>89.781</td>\n",
       "      <td>88.184</td>\n",
       "      <td>4</td>\n",
       "      <td>5</td>\n",
       "      <td>9</td>\n",
       "    </tr>\n",
       "  </tbody>\n",
       "</table>\n",
       "<p>5 rows × 37 columns</p>\n",
       "</div>"
      ],
      "text/plain": [
       "   county  is_business  product_type   target  is_consumption  \\\n",
       "0       0            0             1  121.942               1   \n",
       "1       0            0             1  114.038               1   \n",
       "2       0            0             1  105.102               1   \n",
       "3       0            0             1  120.120               1   \n",
       "4       0            0             1  117.384               1   \n",
       "\n",
       "             datetime  data_block_id  row_id  prediction_unit_id  \\\n",
       "0 2021-09-04 00:00:00              3    8785                   0   \n",
       "1 2021-09-04 01:00:00              3    8907                   0   \n",
       "2 2021-09-04 02:00:00              3    9029                   0   \n",
       "3 2021-09-04 03:00:00              3    9151                   0   \n",
       "4 2021-09-04 04:00:00              3    9273                   0   \n",
       "\n",
       "   target_lag_48  ...  target_lag_66  target_lag_67  target_lag_68  \\\n",
       "0        109.366  ...         96.481         89.781         88.184   \n",
       "1         97.033  ...         94.592         96.481         89.781   \n",
       "2        104.854  ...         77.308         94.592         96.481   \n",
       "3        103.433  ...         54.211         77.308         94.592   \n",
       "4        105.858  ...         36.071         54.211         77.308   \n",
       "\n",
       "   target_lag_69  target_lag_70  target_lag_71  target_lag_72  hour  \\\n",
       "0         87.955         91.594         77.691         96.590     0   \n",
       "1         88.184         87.955         91.594         77.691     1   \n",
       "2         89.781         88.184         87.955         91.594     2   \n",
       "3         96.481         89.781         88.184         87.955     3   \n",
       "4         94.592         96.481         89.781         88.184     4   \n",
       "\n",
       "   dayofweek  month  \n",
       "0          5      9  \n",
       "1          5      9  \n",
       "2          5      9  \n",
       "3          5      9  \n",
       "4          5      9  \n",
       "\n",
       "[5 rows x 37 columns]"
      ]
     },
     "execution_count": 43,
     "metadata": {},
     "output_type": "execute_result"
    }
   ],
   "source": [
    "new_consumption_train = make_time_features(df=new_consumption_train, datetime_column=\"datetime\")\n",
    "print(new_consumption_train.shape)\n",
    "new_consumption_train.head()"
   ]
  },
  {
   "cell_type": "code",
   "execution_count": 44,
   "metadata": {},
   "outputs": [
    {
     "data": {
      "text/plain": [
       "DatetimeIndex(['2021-09-04 00:00:00', '2021-09-04 01:00:00',\n",
       "               '2021-09-04 02:00:00', '2021-09-04 03:00:00',\n",
       "               '2021-09-04 04:00:00', '2021-09-04 05:00:00',\n",
       "               '2021-09-04 06:00:00', '2021-09-04 07:00:00',\n",
       "               '2021-09-04 08:00:00', '2021-09-04 09:00:00',\n",
       "               ...\n",
       "               '2023-01-25 20:00:00', '2023-01-25 21:00:00',\n",
       "               '2023-01-25 22:00:00', '2023-01-25 23:00:00',\n",
       "               '2023-01-26 00:00:00', '2023-01-26 01:00:00',\n",
       "               '2023-01-26 02:00:00', '2023-01-26 03:00:00',\n",
       "               '2023-01-26 04:00:00', '2023-01-26 05:00:00'],\n",
       "              dtype='datetime64[ns]', name='datetime', length=756114, freq=None)"
      ]
     },
     "execution_count": 44,
     "metadata": {},
     "output_type": "execute_result"
    }
   ],
   "source": [
    "time_index = pd.DatetimeIndex(new_consumption_train[\"datetime\"])\n",
    "time_index"
   ]
  },
  {
   "cell_type": "code",
   "execution_count": 45,
   "metadata": {},
   "outputs": [],
   "source": [
    "assert (time_index.hour == new_consumption_train[\"hour\"]).sum() == len(new_consumption_train)\n",
    "assert (time_index.dayofweek == new_consumption_train[\"dayofweek\"]).sum() == len(new_consumption_train)\n",
    "assert (time_index.month == new_consumption_train[\"month\"]).sum() == len(new_consumption_train)"
   ]
  },
  {
   "cell_type": "markdown",
   "metadata": {},
   "source": [
    "# Pipeline"
   ]
  },
  {
   "cell_type": "code",
   "execution_count": 46,
   "metadata": {},
   "outputs": [],
   "source": [
    "def feature_engineering_pipeline(df):\n",
    "    start = config[\"forecast_horizon\"]\n",
    "    end = start + config[\"n_lags\"] + 1\n",
    "    groups = df.groupby(by=\"prediction_unit_id\")\n",
    "    transformed_groups = []\n",
    "    for name, group in groups:\n",
    "        group = make_lags(df=group, column=\"target\", lags=range(start, end))\n",
    "        transformed_groups.append(group)\n",
    "    new_df = pd.concat(transformed_groups, axis=0)\n",
    "    new_df.reset_index(drop=True, inplace=True)\n",
    "\n",
    "    new_df = make_time_features(df=new_df, datetime_column=\"datetime\")\n",
    "\n",
    "    return new_df"
   ]
  },
  {
   "cell_type": "code",
   "execution_count": 47,
   "metadata": {},
   "outputs": [],
   "source": [
    "df_ = feature_engineering_pipeline(consumption_train)"
   ]
  },
  {
   "cell_type": "code",
   "execution_count": 48,
   "metadata": {},
   "outputs": [
    {
     "data": {
      "text/plain": [
       "np.True_"
      ]
     },
     "execution_count": 48,
     "metadata": {},
     "output_type": "execute_result"
    }
   ],
   "source": [
    "(df_ == new_consumption_train).sum().sum() == df_.size"
   ]
  },
  {
   "cell_type": "code",
   "execution_count": 49,
   "metadata": {},
   "outputs": [],
   "source": [
    "del df_, new_consumption_train"
   ]
  },
  {
   "cell_type": "code",
   "execution_count": 50,
   "metadata": {},
   "outputs": [],
   "source": [
    "#TODO: stack the last 'n_lags' rows from train on top of test so that we keep all rows from test after processing\n",
    "consumption_test = pd.read_csv(\"../data/preprocessed/consumption_test.csv\", parse_dates=[\"datetime\"])"
   ]
  },
  {
   "cell_type": "code",
   "execution_count": 51,
   "metadata": {},
   "outputs": [
    {
     "name": "stdout",
     "output_type": "stream",
     "text": [
      "(756114, 37)\n",
      "(185598, 37)\n"
     ]
    }
   ],
   "source": [
    "consumption_train_processed = feature_engineering_pipeline(consumption_train)\n",
    "consumption_test_processed = feature_engineering_pipeline(consumption_test)\n",
    "print(consumption_train_processed.shape)\n",
    "print(consumption_test_processed.shape)"
   ]
  },
  {
   "cell_type": "markdown",
   "metadata": {},
   "source": [
    "# Save transformed data"
   ]
  },
  {
   "cell_type": "code",
   "execution_count": 55,
   "metadata": {},
   "outputs": [],
   "source": [
    "import os"
   ]
  },
  {
   "cell_type": "code",
   "execution_count": 44,
   "metadata": {},
   "outputs": [],
   "source": [
    "if \"processed\" not in os.listdir(\"../data\"):\n",
    "    os.mkdir(\"../data/processed\")"
   ]
  },
  {
   "cell_type": "code",
   "execution_count": 52,
   "metadata": {},
   "outputs": [],
   "source": [
    "# TODO: save in an other format to preserve data types\n",
    "consumption_train_processed.to_csv(\"../data/processed/consumption_train_processed.csv\", index=False)"
   ]
  },
  {
   "cell_type": "code",
   "execution_count": 53,
   "metadata": {},
   "outputs": [],
   "source": [
    "consumption_test_processed.to_csv(\"../data/processed/consumption_test_processed.csv\", index=False)"
   ]
  },
  {
   "cell_type": "code",
   "execution_count": 56,
   "metadata": {},
   "outputs": [
    {
     "data": {
      "text/plain": [
       "['consumption_train_processed.csv', 'consumption_test_processed.csv']"
      ]
     },
     "execution_count": 56,
     "metadata": {},
     "output_type": "execute_result"
    }
   ],
   "source": [
    "os.listdir(\"../data/processed\")"
   ]
  },
  {
   "cell_type": "code",
   "execution_count": null,
   "metadata": {},
   "outputs": [],
   "source": [
    "# Load data to AWS S3 (Optional)\n",
    "if config[\"s3_bucket\"]:\n",
    "    s3_client = boto3.client('s3')\n",
    "    with open(\"../data/processed/train.csv\", \"rb\") as file:\n",
    "        s3_client.upload_fileobj(file, config[\"s3_bucket\"], \"data/processed/train.csv\")\n",
    "    with open(\"../data/processed/test.csv\", \"rb\") as file:\n",
    "        s3_client.upload_fileobj(file, config[\"s3_bucket\"], \"data/processed/test.csv\")"
   ]
  },
  {
   "cell_type": "code",
   "execution_count": null,
   "metadata": {},
   "outputs": [],
   "source": [
    "# Check that data has been uploaded correctly\n",
    "if config[\"s3_bucket\"]:\n",
    "    response = s3_client.list_objects(\n",
    "        Bucket=config[\"s3_bucket\"])\n",
    "    for obj in response.get(\"Contents\"):\n",
    "        print(obj.get(\"Key\"))"
   ]
  },
  {
   "cell_type": "code",
   "execution_count": null,
   "metadata": {},
   "outputs": [],
   "source": []
  }
 ],
 "metadata": {
  "kernelspec": {
   "display_name": ".venv",
   "language": "python",
   "name": "python3"
  },
  "language_info": {
   "codemirror_mode": {
    "name": "ipython",
    "version": 3
   },
   "file_extension": ".py",
   "mimetype": "text/x-python",
   "name": "python",
   "nbconvert_exporter": "python",
   "pygments_lexer": "ipython3",
   "version": "3.10.11"
  }
 },
 "nbformat": 4,
 "nbformat_minor": 2
}
