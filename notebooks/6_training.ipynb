{
 "cells": [
  {
   "cell_type": "code",
   "execution_count": 1,
   "metadata": {},
   "outputs": [],
   "source": [
    "from lightgbm import LGBMRegressor\n",
    "from sklearn.metrics import mean_absolute_error\n",
    "import mlflow\n",
    "import time\n",
    "from datetime import datetime, timezone\n",
    "\n",
    "# import warnings\n",
    "# warnings.filterwarnings(\"ignore\", category=UserWarning)"
   ]
  },
  {
   "cell_type": "code",
   "execution_count": 2,
   "metadata": {},
   "outputs": [],
   "source": [
    "import sys\n",
    "sys.path.append(\"/Users/gabriel/Documents/Git/End-to-end MLOps for Time Series\")\n",
    "from utils import load_config\n",
    "from dotenv import dotenv_values\n",
    "\n",
    "env_vars = dotenv_values(\"../.env\")\n",
    "config = load_config(\"../config/development/pipeline.yaml\")"
   ]
  },
  {
   "cell_type": "markdown",
   "metadata": {},
   "source": [
    "# Read the Data"
   ]
  },
  {
   "cell_type": "code",
   "execution_count": 3,
   "metadata": {},
   "outputs": [
    {
     "name": "stdout",
     "output_type": "stream",
     "text": [
      "X shape : (757248, 20)\n",
      "y shape : (757248,)\n",
      "X shape : (186732, 20)\n",
      "y shape : (186732,)\n"
     ]
    }
   ],
   "source": [
    "from lgbm_hpo import load_data\n",
    "\n",
    "X_train, y_train = load_data(\"../data/processed/consumption_train.csv\")\n",
    "X_test, y_test = load_data(\"../data/processed/consumption_test.csv\")"
   ]
  },
  {
   "cell_type": "markdown",
   "metadata": {},
   "source": [
    "# Setting up the MLFlow experiment"
   ]
  },
  {
   "cell_type": "markdown",
   "metadata": {},
   "source": [
    "From a terminal, run:\n",
    "```\n",
    "mlflow server --host 127.0.0.1 --port 5000\n",
    "```"
   ]
  },
  {
   "cell_type": "code",
   "execution_count": 4,
   "metadata": {},
   "outputs": [],
   "source": [
    "mlflow.set_tracking_uri(\"http://127.0.0.1:5000\")"
   ]
  },
  {
   "cell_type": "code",
   "execution_count": 7,
   "metadata": {},
   "outputs": [
    {
     "name": "stdout",
     "output_type": "stream",
     "text": [
      "MLflow server not running. Please start the server using this command:\n",
      "mlflow server --host 127.0.0.1 --port 5000\n"
     ]
    }
   ],
   "source": [
    "# Set the current active MLflow experiment\n",
    "experiment_name = f\"Enefit DataV1 {config['model_name']} HpoConfigV{config['hpo_config_version']}\"\n",
    "try:\n",
    "    mlflow.set_experiment(experiment_name=experiment_name)\n",
    "except mlflow.exceptions.MlflowException:\n",
    "    print(\"MLflow server not running. Please start the server using this command:\")\n",
    "    print(\"mlflow server --host 127.0.0.1 --port 5000\")"
   ]
  },
  {
   "cell_type": "code",
   "execution_count": 6,
   "metadata": {},
   "outputs": [
    {
     "name": "stdout",
     "output_type": "stream",
     "text": [
      "ID for experiment 'Enefit DataV1 lightgbm HpoConfigV1': 215806994480999889\n"
     ]
    }
   ],
   "source": [
    "experiment = mlflow.get_experiment_by_name(experiment_name)\n",
    "print(f\"ID for experiment '{experiment_name}': {experiment.experiment_id}\")"
   ]
  },
  {
   "cell_type": "markdown",
   "metadata": {},
   "source": [
    "# Log the study's best model"
   ]
  },
  {
   "cell_type": "code",
   "execution_count": 7,
   "metadata": {},
   "outputs": [
    {
     "name": "stdout",
     "output_type": "stream",
     "text": [
      "loading sampler from ../optuna_studies/datav1_lightgbm_config1_sampler.pkl\n"
     ]
    },
    {
     "name": "stderr",
     "output_type": "stream",
     "text": [
      "[I 2025-04-24 17:55:27,030] Using an existing study with name 'datav1_lightgbm_config1' instead of creating a new one.\n"
     ]
    }
   ],
   "source": [
    "from lgbm_hpo import get_study\n",
    "config['studies_dir'] = \"../optuna_studies\"\n",
    "study = get_study(config)"
   ]
  },
  {
   "cell_type": "code",
   "execution_count": null,
   "metadata": {},
   "outputs": [
    {
     "name": "stdout",
     "output_type": "stream",
     "text": [
      "[LightGBM] [Warning] feature_fraction is set=0.3962723889353149, colsample_bytree=1.0 will be ignored. Current value: feature_fraction=0.3962723889353149\n",
      "[LightGBM] [Warning] num_iterations is set=8, num_trees=8 will be ignored. Current value: num_iterations=8\n",
      "[LightGBM] [Warning] feature_fraction is set=0.3962723889353149, colsample_bytree=1.0 will be ignored. Current value: feature_fraction=0.3962723889353149\n",
      "[LightGBM] [Info] Auto-choosing row-wise multi-threading, the overhead of testing was 0.002240 seconds.\n",
      "You can set `force_row_wise=true` to remove the overhead.\n",
      "And if memory is not enough, you can set `force_col_wise=true`.\n",
      "[LightGBM] [Info] Total Bins 3189\n",
      "[LightGBM] [Info] Number of data points in the train set: 757248, number of used features: 19\n",
      "[LightGBM] [Info] Start training from score 463.770859\n",
      "[LightGBM] [Warning] feature_fraction is set=0.3962723889353149, colsample_bytree=1.0 will be ignored. Current value: feature_fraction=0.3962723889353149\n",
      "[LightGBM] [Warning] feature_fraction is set=0.3962723889353149, colsample_bytree=1.0 will be ignored. Current value: feature_fraction=0.3962723889353149\n",
      "[LightGBM] [Warning] feature_fraction is set=0.3962723889353149, colsample_bytree=1.0 will be ignored. Current value: feature_fraction=0.3962723889353149\n"
     ]
    },
    {
     "data": {
      "application/vnd.jupyter.widget-view+json": {
       "model_id": "0030d224d9a54059b56649c094511f1f",
       "version_major": 2,
       "version_minor": 0
      },
      "text/plain": [
       "Downloading artifacts:   0%|          | 0/7 [00:00<?, ?it/s]"
      ]
     },
     "metadata": {},
     "output_type": "display_data"
    },
    {
     "name": "stderr",
     "output_type": "stream",
     "text": [
      "2025/04/24 17:55:33 INFO mlflow.tracking._tracking_service.client: 🏃 View run TrialNumber35 at: http://127.0.0.1:5000/#/experiments/215806994480999889/runs/dc0e887215074f5f86d2765ced1e8094.\n",
      "2025/04/24 17:55:33 INFO mlflow.tracking._tracking_service.client: 🧪 View experiment at: http://127.0.0.1:5000/#/experiments/215806994480999889.\n"
     ]
    },
    {
     "name": "stdout",
     "output_type": "stream",
     "text": [
      "[LightGBM] [Warning] feature_fraction is set=0.3962723889353149, colsample_bytree=1.0 will be ignored. Current value: feature_fraction=0.3962723889353149\n"
     ]
    }
   ],
   "source": [
    "# run metadata\n",
    "utc_datetime = datetime.now(timezone.utc).strftime(\"%Y%m%dT%H%M%SUTC\")\n",
    "run_name = f\"TrialNumber{study.best_trial.number}-{utc_datetime}\"\n",
    "\n",
    "# training\n",
    "params = study.best_params\n",
    "model = LGBMRegressor(**params, random_state=config['random_state'])\n",
    "start = time.time()\n",
    "model.fit(X_train, y_train)\n",
    "end = time.time()\n",
    "\n",
    "# metrics\n",
    "y_fit = model.predict(X_train)\n",
    "y_pred = model.predict(X_test)\n",
    "train_mae = mean_absolute_error(y_train, y_fit)\n",
    "test_mae = mean_absolute_error(y_test, y_pred)\n",
    "training_duration = end - start\n",
    "metrics = {\"train_mae\": train_mae, \"test_mae\": test_mae, \"training_duration\": training_duration}\n",
    "\n",
    "with mlflow.start_run(run_name=run_name) as run:\n",
    "    # Log the parameters used for the model fit\n",
    "    mlflow.log_params(params)\n",
    "\n",
    "    # Log the error metrics that were calculated during validation\n",
    "    mlflow.log_metrics(metrics)\n",
    "\n",
    "    # Log an instance of the trained model for later use\n",
    "    mlflow.lightgbm.log_model(\n",
    "        lgb_model=model, input_example=X_train.iloc[:1], artifact_path=config['model_name']\n",
    "    )"
   ]
  },
  {
   "cell_type": "code",
   "execution_count": null,
   "metadata": {},
   "outputs": [],
   "source": []
  }
 ],
 "metadata": {
  "kernelspec": {
   "display_name": ".venv",
   "language": "python",
   "name": "python3"
  },
  "language_info": {
   "codemirror_mode": {
    "name": "ipython",
    "version": 3
   },
   "file_extension": ".py",
   "mimetype": "text/x-python",
   "name": "python",
   "nbconvert_exporter": "python",
   "pygments_lexer": "ipython3",
   "version": "3.10.11"
  }
 },
 "nbformat": 4,
 "nbformat_minor": 2
}
