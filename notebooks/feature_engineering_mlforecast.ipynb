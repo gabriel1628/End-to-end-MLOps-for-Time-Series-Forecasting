{
 "cells": [
  {
   "cell_type": "markdown",
   "metadata": {},
   "source": [
    "# Feature Engineering\n",
    "\n",
    "In this notebook we will select and create features to feed our ML model. For now, we will focus on the consumption data.\n",
    "<br>\n",
    "We will use `MLForecast` to create the features."
   ]
  },
  {
   "cell_type": "code",
   "execution_count": 82,
   "metadata": {},
   "outputs": [],
   "source": [
    "import pandas as pd\n",
    "from mlforecast import MLForecast\n",
    "from mlforecast.lag_transforms import ExpandingMean, RollingMean"
   ]
  },
  {
   "cell_type": "code",
   "execution_count": 83,
   "metadata": {},
   "outputs": [
    {
     "name": "stdout",
     "output_type": "stream",
     "text": [
      "(760650, 9)\n"
     ]
    },
    {
     "data": {
      "text/html": [
       "<div>\n",
       "<style scoped>\n",
       "    .dataframe tbody tr th:only-of-type {\n",
       "        vertical-align: middle;\n",
       "    }\n",
       "\n",
       "    .dataframe tbody tr th {\n",
       "        vertical-align: top;\n",
       "    }\n",
       "\n",
       "    .dataframe thead th {\n",
       "        text-align: right;\n",
       "    }\n",
       "</style>\n",
       "<table border=\"1\" class=\"dataframe\">\n",
       "  <thead>\n",
       "    <tr style=\"text-align: right;\">\n",
       "      <th></th>\n",
       "      <th>county</th>\n",
       "      <th>is_business</th>\n",
       "      <th>product_type</th>\n",
       "      <th>target</th>\n",
       "      <th>is_consumption</th>\n",
       "      <th>datetime</th>\n",
       "      <th>data_block_id</th>\n",
       "      <th>row_id</th>\n",
       "      <th>prediction_unit_id</th>\n",
       "    </tr>\n",
       "  </thead>\n",
       "  <tbody>\n",
       "    <tr>\n",
       "      <th>0</th>\n",
       "      <td>0</td>\n",
       "      <td>0</td>\n",
       "      <td>1</td>\n",
       "      <td>96.590</td>\n",
       "      <td>1</td>\n",
       "      <td>2021-09-01</td>\n",
       "      <td>0</td>\n",
       "      <td>1</td>\n",
       "      <td>0</td>\n",
       "    </tr>\n",
       "    <tr>\n",
       "      <th>1</th>\n",
       "      <td>3</td>\n",
       "      <td>0</td>\n",
       "      <td>3</td>\n",
       "      <td>39.241</td>\n",
       "      <td>1</td>\n",
       "      <td>2021-09-01</td>\n",
       "      <td>0</td>\n",
       "      <td>25</td>\n",
       "      <td>12</td>\n",
       "    </tr>\n",
       "    <tr>\n",
       "      <th>2</th>\n",
       "      <td>7</td>\n",
       "      <td>1</td>\n",
       "      <td>3</td>\n",
       "      <td>453.023</td>\n",
       "      <td>1</td>\n",
       "      <td>2021-09-01</td>\n",
       "      <td>0</td>\n",
       "      <td>61</td>\n",
       "      <td>30</td>\n",
       "    </tr>\n",
       "    <tr>\n",
       "      <th>3</th>\n",
       "      <td>8</td>\n",
       "      <td>0</td>\n",
       "      <td>1</td>\n",
       "      <td>9.787</td>\n",
       "      <td>1</td>\n",
       "      <td>2021-09-01</td>\n",
       "      <td>0</td>\n",
       "      <td>63</td>\n",
       "      <td>31</td>\n",
       "    </tr>\n",
       "    <tr>\n",
       "      <th>4</th>\n",
       "      <td>3</td>\n",
       "      <td>0</td>\n",
       "      <td>1</td>\n",
       "      <td>14.964</td>\n",
       "      <td>1</td>\n",
       "      <td>2021-09-01</td>\n",
       "      <td>0</td>\n",
       "      <td>23</td>\n",
       "      <td>11</td>\n",
       "    </tr>\n",
       "  </tbody>\n",
       "</table>\n",
       "</div>"
      ],
      "text/plain": [
       "   county  is_business  product_type   target  is_consumption   datetime  \\\n",
       "0       0            0             1   96.590               1 2021-09-01   \n",
       "1       3            0             3   39.241               1 2021-09-01   \n",
       "2       7            1             3  453.023               1 2021-09-01   \n",
       "3       8            0             1    9.787               1 2021-09-01   \n",
       "4       3            0             1   14.964               1 2021-09-01   \n",
       "\n",
       "   data_block_id  row_id  prediction_unit_id  \n",
       "0              0       1                   0  \n",
       "1              0      25                  12  \n",
       "2              0      61                  30  \n",
       "3              0      63                  31  \n",
       "4              0      23                  11  "
      ]
     },
     "execution_count": 83,
     "metadata": {},
     "output_type": "execute_result"
    }
   ],
   "source": [
    "df = pd.read_csv(\"../data/preprocessed/consumption_train.csv\", parse_dates=[\"datetime\"])\n",
    "print(df.shape)\n",
    "df.head()"
   ]
  },
  {
   "cell_type": "code",
   "execution_count": 84,
   "metadata": {},
   "outputs": [],
   "source": [
    "import sys\n",
    "sys.path.append(\"/Users/gabriel/Documents/Git/End-to-end MLOps for Time Series\")\n",
    "from utils import load_config\n",
    "config = load_config(\"../config/config.yaml\")"
   ]
  },
  {
   "cell_type": "markdown",
   "metadata": {},
   "source": [
    "# Feature Engineering function"
   ]
  },
  {
   "cell_type": "code",
   "execution_count": 85,
   "metadata": {},
   "outputs": [],
   "source": [
    "forecast_horizon = config[\"forecast_horizon\"]\n",
    "n_lags = config[\"n_lags\"]\n",
    "rolling_mean_window_size = config[\"rolling_mean_window_size\"]\n",
    "n_lag_transforms = n_lags\n",
    "date_features = config[\"date_features\"]\n",
    "\n",
    "def feature_engineering(\n",
    "    df,\n",
    "    id_col=\"prediction_unit_id\",\n",
    "    time_col=\"datetime\",\n",
    "    target_col=\"target\",\n",
    "    forecast_horizon=forecast_horizon,\n",
    "    n_lags=n_lags,\n",
    "    rolling_mean_window_size=rolling_mean_window_size,\n",
    "    date_features=date_features,\n",
    "    static_features=[\"county\", \"is_business\", \"product_type\", \"is_consumption\", \"prediction_unit_id\"],\n",
    "    on_test=False, # if True, stack last rows of train on top of test data\n",
    "):\n",
    "    fcst = MLForecast(\n",
    "        models=[],\n",
    "        freq=\"h\",\n",
    "        lags=[i for i in range(forecast_horizon, forecast_horizon + n_lags)],\n",
    "        lag_transforms={\n",
    "            i: [ExpandingMean(), RollingMean(window_size=rolling_mean_window_size)]\n",
    "            for i in range(forecast_horizon, forecast_horizon + n_lag_transforms)\n",
    "        },\n",
    "        date_features=date_features,\n",
    "    )\n",
    "    id_columns = [id_col, time_col, target_col]\n",
    "    return fcst.preprocess(df, id_col=id_col, time_col=time_col, target_col=target_col, static_features=static_features)"
   ]
  },
  {
   "cell_type": "markdown",
   "metadata": {},
   "source": [
    "# Testing the function"
   ]
  },
  {
   "cell_type": "code",
   "execution_count": 86,
   "metadata": {},
   "outputs": [
    {
     "data": {
      "text/html": [
       "<div>\n",
       "<style scoped>\n",
       "    .dataframe tbody tr th:only-of-type {\n",
       "        vertical-align: middle;\n",
       "    }\n",
       "\n",
       "    .dataframe tbody tr th {\n",
       "        vertical-align: top;\n",
       "    }\n",
       "\n",
       "    .dataframe thead th {\n",
       "        text-align: right;\n",
       "    }\n",
       "</style>\n",
       "<table border=\"1\" class=\"dataframe\">\n",
       "  <thead>\n",
       "    <tr style=\"text-align: right;\">\n",
       "      <th></th>\n",
       "      <th>county</th>\n",
       "      <th>is_business</th>\n",
       "      <th>product_type</th>\n",
       "      <th>target</th>\n",
       "      <th>is_consumption</th>\n",
       "      <th>datetime</th>\n",
       "      <th>data_block_id</th>\n",
       "      <th>row_id</th>\n",
       "      <th>prediction_unit_id</th>\n",
       "      <th>lag48</th>\n",
       "      <th>...</th>\n",
       "      <th>rolling_mean_lag68_window_size24</th>\n",
       "      <th>expanding_mean_lag69</th>\n",
       "      <th>rolling_mean_lag69_window_size24</th>\n",
       "      <th>expanding_mean_lag70</th>\n",
       "      <th>rolling_mean_lag70_window_size24</th>\n",
       "      <th>expanding_mean_lag71</th>\n",
       "      <th>rolling_mean_lag71_window_size24</th>\n",
       "      <th>month</th>\n",
       "      <th>dayofweek</th>\n",
       "      <th>hour</th>\n",
       "    </tr>\n",
       "  </thead>\n",
       "  <tbody>\n",
       "    <tr>\n",
       "      <th>5286</th>\n",
       "      <td>0</td>\n",
       "      <td>0</td>\n",
       "      <td>1</td>\n",
       "      <td>165.499</td>\n",
       "      <td>1</td>\n",
       "      <td>2021-09-04 22:00:00</td>\n",
       "      <td>3</td>\n",
       "      <td>11469</td>\n",
       "      <td>0</td>\n",
       "      <td>134.986</td>\n",
       "      <td>...</td>\n",
       "      <td>81.860500</td>\n",
       "      <td>81.756654</td>\n",
       "      <td>81.308000</td>\n",
       "      <td>81.145600</td>\n",
       "      <td>80.502083</td>\n",
       "      <td>79.969750</td>\n",
       "      <td>79.969750</td>\n",
       "      <td>9</td>\n",
       "      <td>5</td>\n",
       "      <td>22</td>\n",
       "    </tr>\n",
       "    <tr>\n",
       "      <th>5348</th>\n",
       "      <td>0</td>\n",
       "      <td>0</td>\n",
       "      <td>1</td>\n",
       "      <td>133.299</td>\n",
       "      <td>1</td>\n",
       "      <td>2021-09-04 23:00:00</td>\n",
       "      <td>3</td>\n",
       "      <td>11591</td>\n",
       "      <td>0</td>\n",
       "      <td>120.540</td>\n",
       "      <td>...</td>\n",
       "      <td>82.505417</td>\n",
       "      <td>82.612111</td>\n",
       "      <td>81.860500</td>\n",
       "      <td>81.756654</td>\n",
       "      <td>81.308000</td>\n",
       "      <td>81.145600</td>\n",
       "      <td>80.502083</td>\n",
       "      <td>9</td>\n",
       "      <td>5</td>\n",
       "      <td>23</td>\n",
       "    </tr>\n",
       "    <tr>\n",
       "      <th>5387</th>\n",
       "      <td>0</td>\n",
       "      <td>0</td>\n",
       "      <td>1</td>\n",
       "      <td>123.214</td>\n",
       "      <td>1</td>\n",
       "      <td>2021-09-05 00:00:00</td>\n",
       "      <td>4</td>\n",
       "      <td>11713</td>\n",
       "      <td>0</td>\n",
       "      <td>107.129</td>\n",
       "      <td>...</td>\n",
       "      <td>83.241833</td>\n",
       "      <td>83.355714</td>\n",
       "      <td>82.505417</td>\n",
       "      <td>82.612111</td>\n",
       "      <td>81.860500</td>\n",
       "      <td>81.756654</td>\n",
       "      <td>81.308000</td>\n",
       "      <td>9</td>\n",
       "      <td>6</td>\n",
       "      <td>0</td>\n",
       "    </tr>\n",
       "    <tr>\n",
       "      <th>5478</th>\n",
       "      <td>0</td>\n",
       "      <td>0</td>\n",
       "      <td>1</td>\n",
       "      <td>117.082</td>\n",
       "      <td>1</td>\n",
       "      <td>2021-09-05 01:00:00</td>\n",
       "      <td>4</td>\n",
       "      <td>11835</td>\n",
       "      <td>0</td>\n",
       "      <td>81.920</td>\n",
       "      <td>...</td>\n",
       "      <td>83.893958</td>\n",
       "      <td>84.131655</td>\n",
       "      <td>83.241833</td>\n",
       "      <td>83.355714</td>\n",
       "      <td>82.505417</td>\n",
       "      <td>82.612111</td>\n",
       "      <td>81.860500</td>\n",
       "      <td>9</td>\n",
       "      <td>6</td>\n",
       "      <td>1</td>\n",
       "    </tr>\n",
       "    <tr>\n",
       "      <th>5535</th>\n",
       "      <td>0</td>\n",
       "      <td>0</td>\n",
       "      <td>1</td>\n",
       "      <td>109.178</td>\n",
       "      <td>1</td>\n",
       "      <td>2021-09-05 02:00:00</td>\n",
       "      <td>4</td>\n",
       "      <td>11957</td>\n",
       "      <td>0</td>\n",
       "      <td>96.193</td>\n",
       "      <td>...</td>\n",
       "      <td>84.539375</td>\n",
       "      <td>84.841667</td>\n",
       "      <td>83.893958</td>\n",
       "      <td>84.131655</td>\n",
       "      <td>83.241833</td>\n",
       "      <td>83.355714</td>\n",
       "      <td>82.505417</td>\n",
       "      <td>9</td>\n",
       "      <td>6</td>\n",
       "      <td>2</td>\n",
       "    </tr>\n",
       "  </tbody>\n",
       "</table>\n",
       "<p>5 rows × 84 columns</p>\n",
       "</div>"
      ],
      "text/plain": [
       "      county  is_business  product_type   target  is_consumption  \\\n",
       "5286       0            0             1  165.499               1   \n",
       "5348       0            0             1  133.299               1   \n",
       "5387       0            0             1  123.214               1   \n",
       "5478       0            0             1  117.082               1   \n",
       "5535       0            0             1  109.178               1   \n",
       "\n",
       "                datetime  data_block_id  row_id  prediction_unit_id    lag48  \\\n",
       "5286 2021-09-04 22:00:00              3   11469                   0  134.986   \n",
       "5348 2021-09-04 23:00:00              3   11591                   0  120.540   \n",
       "5387 2021-09-05 00:00:00              4   11713                   0  107.129   \n",
       "5478 2021-09-05 01:00:00              4   11835                   0   81.920   \n",
       "5535 2021-09-05 02:00:00              4   11957                   0   96.193   \n",
       "\n",
       "      ...  rolling_mean_lag68_window_size24  expanding_mean_lag69  \\\n",
       "5286  ...                         81.860500             81.756654   \n",
       "5348  ...                         82.505417             82.612111   \n",
       "5387  ...                         83.241833             83.355714   \n",
       "5478  ...                         83.893958             84.131655   \n",
       "5535  ...                         84.539375             84.841667   \n",
       "\n",
       "      rolling_mean_lag69_window_size24  expanding_mean_lag70  \\\n",
       "5286                         81.308000             81.145600   \n",
       "5348                         81.860500             81.756654   \n",
       "5387                         82.505417             82.612111   \n",
       "5478                         83.241833             83.355714   \n",
       "5535                         83.893958             84.131655   \n",
       "\n",
       "      rolling_mean_lag70_window_size24  expanding_mean_lag71  \\\n",
       "5286                         80.502083             79.969750   \n",
       "5348                         81.308000             81.145600   \n",
       "5387                         81.860500             81.756654   \n",
       "5478                         82.505417             82.612111   \n",
       "5535                         83.241833             83.355714   \n",
       "\n",
       "      rolling_mean_lag71_window_size24  month  dayofweek  hour  \n",
       "5286                         79.969750      9          5    22  \n",
       "5348                         80.502083      9          5    23  \n",
       "5387                         81.308000      9          6     0  \n",
       "5478                         81.860500      9          6     1  \n",
       "5535                         82.505417      9          6     2  \n",
       "\n",
       "[5 rows x 84 columns]"
      ]
     },
     "execution_count": 86,
     "metadata": {},
     "output_type": "execute_result"
    }
   ],
   "source": [
    "X = feature_engineering(df)\n",
    "X[X[\"prediction_unit_id\"] == 0].head()"
   ]
  },
  {
   "cell_type": "markdown",
   "metadata": {},
   "source": [
    "# Stack last train rows on top of test\n",
    "\n",
    "When applying feature engineering we remove the first rows of the dataframe.\n",
    "First determine the value of `step` for which `X` and `df` are aligned according to \"datetime\".\n",
    "Once it's done, stack the last `n_step` values of `train` on top of `test` so that we don't lose\n",
    "the first rows of test after preprocessing."
   ]
  },
  {
   "cell_type": "code",
   "execution_count": 87,
   "metadata": {},
   "outputs": [
    {
     "data": {
      "text/plain": [
       "71"
      ]
     },
     "execution_count": 87,
     "metadata": {},
     "output_type": "execute_result"
    }
   ],
   "source": [
    "# TODO: determine the value of `step` for which `X` and `df` are aligned according to \"datetime\".\n",
    "# Once it's done, stack the last `n_step` values of `train` on top of `test` so that we don't lose\n",
    "# the first rows of test after preprocessing.\n",
    "step = forecast_horizon + max(n_lags, n_lag_transforms) - 1\n",
    "step"
   ]
  },
  {
   "cell_type": "code",
   "execution_count": 88,
   "metadata": {},
   "outputs": [
    {
     "name": "stdout",
     "output_type": "stream",
     "text": [
      "False\n",
      "True\n"
     ]
    }
   ],
   "source": [
    "X_ = X.sort_values(by=[\"prediction_unit_id\", \"datetime\"])\n",
    "df_ = df.sort_values(by=[\"prediction_unit_id\", \"datetime\"])\n",
    "print((X_[\"datetime\"].head().values == df_[\"datetime\"].iloc[step:step+5].values).sum() == 5)\n",
    "print((X_[\"datetime\"].tail().values == df_[\"datetime\"].tail().values).sum() == 5)"
   ]
  },
  {
   "cell_type": "code",
   "execution_count": 89,
   "metadata": {},
   "outputs": [
    {
     "data": {
      "text/plain": [
       "[8, 7, 4]"
      ]
     },
     "execution_count": 89,
     "metadata": {},
     "output_type": "execute_result"
    }
   ],
   "source": [
    "import random\n",
    "random.seed(0)\n",
    "\n",
    "forecast_horizon_list = random.choices(range(1, 10), k=3)\n",
    "n_lags_list = random.choices(range(1, 10), k=3)\n",
    "rolling_mean_window_size_list = random.choices(range(1, 10), k=3)\n",
    "n_lag_transforms_list = random.choices(range(1, 10), k=3)\n",
    "forecast_horizon_list"
   ]
  },
  {
   "cell_type": "code",
   "execution_count": 90,
   "metadata": {},
   "outputs": [],
   "source": [
    "import itertools\n",
    "combinations = itertools.product(forecast_horizon_list, n_lags_list, rolling_mean_window_size_list, n_lag_transforms_list)\n",
    "# len(list(combinations))"
   ]
  },
  {
   "cell_type": "code",
   "execution_count": 91,
   "metadata": {},
   "outputs": [],
   "source": [
    "# print(f\"forecast_horizon_list : {forecast_horizon_list}\")\n",
    "# print(f\"n_lags_list : {n_lags_list}\")\n",
    "# print(f\"rolling_mean_window_size_list : {rolling_mean_window_size_list}\")\n",
    "# print(f\"n_lag_transforms_list : {n_lag_transforms_list}\")"
   ]
  },
  {
   "cell_type": "code",
   "execution_count": 92,
   "metadata": {},
   "outputs": [],
   "source": [
    "# for _ in combinations:\n",
    "#     forecast_horizon, n_lags, rolling_mean_window_size, n_lag_transforms = _\n",
    "#     print(_)\n",
    "#     break"
   ]
  },
  {
   "cell_type": "code",
   "execution_count": null,
   "metadata": {},
   "outputs": [],
   "source": []
  },
  {
   "cell_type": "code",
   "execution_count": null,
   "metadata": {},
   "outputs": [],
   "source": []
  },
  {
   "cell_type": "code",
   "execution_count": null,
   "metadata": {},
   "outputs": [],
   "source": []
  },
  {
   "cell_type": "markdown",
   "metadata": {},
   "source": [
    "# Testing the function on test set"
   ]
  },
  {
   "cell_type": "code",
   "execution_count": 93,
   "metadata": {},
   "outputs": [],
   "source": [
    "# df_test = pd.read_csv(\"../data/preprocessed/consumption_test.csv\", parse_dates=[\"datetime\"])\n",
    "# print(df_test.shape)\n",
    "# df_test.head()"
   ]
  },
  {
   "cell_type": "code",
   "execution_count": 94,
   "metadata": {},
   "outputs": [],
   "source": [
    "# X = feature_engineering(df_test, on_test=True)\n",
    "# print(X.shape)\n",
    "# X.head()"
   ]
  },
  {
   "cell_type": "code",
   "execution_count": 95,
   "metadata": {},
   "outputs": [],
   "source": [
    "# X.tail()"
   ]
  },
  {
   "cell_type": "code",
   "execution_count": 96,
   "metadata": {},
   "outputs": [],
   "source": [
    "# X.isna().sum().sum()"
   ]
  },
  {
   "cell_type": "code",
   "execution_count": null,
   "metadata": {},
   "outputs": [],
   "source": []
  },
  {
   "cell_type": "code",
   "execution_count": null,
   "metadata": {},
   "outputs": [],
   "source": []
  },
  {
   "cell_type": "code",
   "execution_count": null,
   "metadata": {},
   "outputs": [],
   "source": []
  }
 ],
 "metadata": {
  "kernelspec": {
   "display_name": ".venv",
   "language": "python",
   "name": "python3"
  },
  "language_info": {
   "codemirror_mode": {
    "name": "ipython",
    "version": 3
   },
   "file_extension": ".py",
   "mimetype": "text/x-python",
   "name": "python",
   "nbconvert_exporter": "python",
   "pygments_lexer": "ipython3",
   "version": "3.10.11"
  }
 },
 "nbformat": 4,
 "nbformat_minor": 2
}
