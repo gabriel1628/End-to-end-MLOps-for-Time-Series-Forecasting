{
 "cells": [
  {
   "cell_type": "code",
   "execution_count": 18,
   "metadata": {},
   "outputs": [],
   "source": [
    "import pandas as pd\n",
    "import mlflow\n",
    "from dotenv import dotenv_values"
   ]
  },
  {
   "cell_type": "code",
   "execution_count": 19,
   "metadata": {},
   "outputs": [],
   "source": [
    "import sys\n",
    "\n",
    "env_vars = dotenv_values(\"../.env\")\n",
    "sys.path.append(f\"{env_vars['WORKING_DIR']}\")\n",
    "from utils import load_config\n",
    "\n",
    "config = load_config(\"../config/development/config.yaml\")"
   ]
  },
  {
   "cell_type": "markdown",
   "metadata": {},
   "source": [
    "# Load the Data"
   ]
  },
  {
   "cell_type": "code",
   "execution_count": 20,
   "metadata": {},
   "outputs": [
    {
     "name": "stdout",
     "output_type": "stream",
     "text": [
      "X shape : (757248, 20)\n",
      "y shape : (757248,)\n",
      "X shape : (186732, 20)\n",
      "y shape : (186732,)\n"
     ]
    }
   ],
   "source": [
    "from lgbm_hpo import load_data\n",
    "\n",
    "X_train, y_train = load_data(\"../data/processed/consumption_train.csv\")\n",
    "X_test, y_test = load_data(\"../data/processed/consumption_test.csv\")"
   ]
  },
  {
   "cell_type": "markdown",
   "metadata": {},
   "source": [
    "# Load and test the model"
   ]
  },
  {
   "cell_type": "markdown",
   "metadata": {},
   "source": [
    "From a terminal, run:\n",
    "```\n",
    "mlflow server --host 127.0.0.1 --port 5000\n",
    "```"
   ]
  },
  {
   "cell_type": "code",
   "execution_count": 21,
   "metadata": {},
   "outputs": [],
   "source": [
    "mlflow.set_tracking_uri(\"http://127.0.0.1:5000\")"
   ]
  },
  {
   "cell_type": "markdown",
   "metadata": {},
   "source": [
    "## Validate the model before deployment\n",
    "\n",
    "Run the following code to validate model inference works on the example input data and logged model dependencies, prior to deploying it to a serving endpoint"
   ]
  },
  {
   "cell_type": "code",
   "execution_count": null,
   "metadata": {},
   "outputs": [
    {
     "data": {
      "text/plain": [
       "'37cff3aa004b4ce39824c97d3f957fb5'"
      ]
     },
     "execution_count": 24,
     "metadata": {},
     "output_type": "execute_result"
    }
   ],
   "source": [
    "EXPERIMENT_ID = config[\"EXPERIMENT_ID\"]\n",
    "RUN_ID = config[\"RUN_ID\"]"
   ]
  },
  {
   "cell_type": "code",
   "execution_count": 30,
   "metadata": {},
   "outputs": [
    {
     "data": {
      "application/vnd.jupyter.widget-view+json": {
       "model_id": "20f29a3a199c49678f62975354abcce9",
       "version_major": 2,
       "version_minor": 0
      },
      "text/plain": [
       "Downloading artifacts:   0%|          | 0/7 [00:00<?, ?it/s]"
      ]
     },
     "metadata": {},
     "output_type": "display_data"
    },
    {
     "name": "stdout",
     "output_type": "stream",
     "text": [
      "[LightGBM] [Warning] feature_fraction is set=0.3962723889353149, colsample_bytree=1.0 will be ignored. Current value: feature_fraction=0.3962723889353149\n"
     ]
    },
    {
     "data": {
      "text/plain": [
       "array([222.22662235])"
      ]
     },
     "execution_count": 30,
     "metadata": {},
     "output_type": "execute_result"
    }
   ],
   "source": [
    "logged_model = f\"runs:/{RUN_ID}/lightgbm\"\n",
    "\n",
    "# Load model as a PyFuncModel.\n",
    "loaded_model = mlflow.pyfunc.load_model(logged_model)\n",
    "loaded_model.predict(X_train[:1])"
   ]
  },
  {
   "cell_type": "markdown",
   "metadata": {},
   "source": [
    "# Deploy the model with MLflow"
   ]
  },
  {
   "cell_type": "code",
   "execution_count": 31,
   "metadata": {},
   "outputs": [
    {
     "name": "stdout",
     "output_type": "stream",
     "text": [
      "Run the below command in a new window. You must be in the same repo as your mlruns directory and have mlflow installed :\n",
      "\n",
      "    mlflow models serve -m ./mlartifacts/255253755991586970/37cff3aa004b4ce39824c97d3f957fb5/artifacts/lightgbm -p 5050\n"
     ]
    }
   ],
   "source": [
    "PORT = 5050\n",
    "print(\n",
    "    f\"\"\"Run the below command in a new window. You must be in the same repo as your mlruns directory and have mlflow installed :\n",
    "\n",
    "    mlflow models serve -m ./mlartifacts/{EXPERIMENT_ID}/{RUN_ID}/artifacts/lightgbm -p {PORT}\"\"\"\n",
    ")"
   ]
  },
  {
   "cell_type": "code",
   "execution_count": 3,
   "metadata": {},
   "outputs": [],
   "source": [
    "import requests\n",
    "import json\n",
    "\n",
    "address = \"127.0.0.1\"\n",
    "PORT = 5001\n",
    "# address = \"3.252.192.81\"\n",
    "# address = \"ec2-54-228-144-127.eu-west-1.compute.amazonaws.com\""
   ]
  },
  {
   "cell_type": "code",
   "execution_count": 4,
   "metadata": {},
   "outputs": [
    {
     "name": "stdout",
     "output_type": "stream",
     "text": [
      "<Response [200]>\n",
      "\n",
      "\n"
     ]
    }
   ],
   "source": [
    "# Check if the model responds\n",
    "url = f\"http://{address}:{PORT}/ping\"\n",
    "r = requests.get(url)\n",
    "print(r)\n",
    "print(r.text)"
   ]
  },
  {
   "cell_type": "code",
   "execution_count": 9,
   "metadata": {},
   "outputs": [
    {
     "name": "stdout",
     "output_type": "stream",
     "text": [
      "{\n",
      "    \"dataframe_split\": {\n",
      "        \"columns\": [\n",
      "            \"county\",\n",
      "            \"is_business\",\n",
      "            \"product_type\",\n",
      "            \"is_consumption\",\n",
      "            \"prediction_unit_id\"\n",
      "        ],\n",
      "        \"data\": [\n",
      "            [\n",
      "                11,\n",
      "                0,\n",
      "                1,\n",
      "                1,\n",
      "                43\n",
      "            ]\n",
      "        ]\n",
      "    }\n",
      "}\n"
     ]
    }
   ],
   "source": [
    "# See https://mlflow.org/docs/latest/deployment/deploy-model-locally.html#json-input\n",
    "json_data = json.loads(X_train.iloc[:1, :5].to_json(orient=\"split\"))\n",
    "json_data.pop(\"index\", None)\n",
    "json_data = {\"dataframe_split\": json_data}\n",
    "json_data = json.dumps(json_data, indent=4)\n",
    "print(json_data)"
   ]
  },
  {
   "cell_type": "code",
   "execution_count": null,
   "metadata": {},
   "outputs": [
    {
     "data": {
      "text/plain": [
       "{'dataframe_split': {'columns': ['county',\n",
       "   'is_business',\n",
       "   'product_type',\n",
       "   'is_consumption',\n",
       "   'prediction_unit_id',\n",
       "   'lag48',\n",
       "   'lag49',\n",
       "   'lag50',\n",
       "   'lag51',\n",
       "   'expanding_mean_lag48',\n",
       "   'rolling_mean_lag48_window_size4',\n",
       "   'expanding_mean_lag49',\n",
       "   'rolling_mean_lag49_window_size4',\n",
       "   'expanding_mean_lag50',\n",
       "   'rolling_mean_lag50_window_size4',\n",
       "   'expanding_mean_lag51',\n",
       "   'rolling_mean_lag51_window_size4',\n",
       "   'month',\n",
       "   'dayofweek',\n",
       "   'hour'],\n",
       "  'data': [[11,\n",
       "    0,\n",
       "    1,\n",
       "    1,\n",
       "    43,\n",
       "    24.152,\n",
       "    23.939,\n",
       "    20.023,\n",
       "    20.48,\n",
       "    21.7837142857,\n",
       "    22.1485,\n",
       "    21.389,\n",
       "    21.77725,\n",
       "    20.879,\n",
       "    20.824,\n",
       "    21.093,\n",
       "    21.093,\n",
       "    9,\n",
       "    4,\n",
       "    6]]}}"
      ]
     },
     "execution_count": 15,
     "metadata": {},
     "output_type": "execute_result"
    }
   ],
   "source": [
    "# See https://mlflow.org/docs/latest/deployment/deploy-model-locally.html#json-input\n",
    "json_data = json.loads(X_train.iloc[:1, :].to_json(orient=\"split\"))\n",
    "json_data.pop(\"index\", None)\n",
    "json_data = {\"dataframe_split\": json_data}\n",
    "# json_data = json.dumps(json_data, indent=4)\n",
    "# print(json_data)\n",
    "json_data"
   ]
  },
  {
   "cell_type": "code",
   "execution_count": 16,
   "metadata": {},
   "outputs": [
    {
     "data": {
      "text/plain": [
       "<Response [200]>"
      ]
     },
     "execution_count": 16,
     "metadata": {},
     "output_type": "execute_result"
    }
   ],
   "source": [
    "# get predictions\n",
    "url = f\"http://{address}:{PORT}/invocations\"\n",
    "r = requests.post(url, headers={\"Content-Type\": \"application/json\"}, json=json_data)\n",
    "r"
   ]
  },
  {
   "cell_type": "code",
   "execution_count": 17,
   "metadata": {},
   "outputs": [
    {
     "data": {
      "text/plain": [
       "dict"
      ]
     },
     "execution_count": 17,
     "metadata": {},
     "output_type": "execute_result"
    }
   ],
   "source": [
    "type(json_data)"
   ]
  },
  {
   "cell_type": "markdown",
   "metadata": {},
   "source": [
    "# Deploy the model with Flask\n",
    "\n",
    "Run the `deployment.py` script in the repo's root directory"
   ]
  },
  {
   "cell_type": "code",
   "execution_count": 32,
   "metadata": {},
   "outputs": [],
   "source": [
    "import requests\n",
    "import json\n",
    "\n",
    "address = \"127.0.0.1\"\n",
    "PORT = 8080\n",
    "# address = \"3.252.192.81\"\n",
    "# address = \"ec2-54-228-144-127.eu-west-1.compute.amazonaws.com\""
   ]
  },
  {
   "cell_type": "code",
   "execution_count": 37,
   "metadata": {},
   "outputs": [
    {
     "name": "stdout",
     "output_type": "stream",
     "text": [
      "<Response [200]>\n",
      "<h1>Welcome to the prediction API!</h1>\n"
     ]
    }
   ],
   "source": [
    "# Check if the model responds\n",
    "url = f\"http://{address}:{PORT}/\"\n",
    "r = requests.get(url)\n",
    "print(r)\n",
    "print(r.text)"
   ]
  },
  {
   "cell_type": "code",
   "execution_count": 38,
   "metadata": {},
   "outputs": [
    {
     "data": {
      "application/vnd.jupyter.widget-view+json": {
       "model_id": "8c2436165dfa428cbdb935d577a537ec",
       "version_major": 2,
       "version_minor": 0
      },
      "text/plain": [
       "Downloading artifacts:   0%|          | 0/7 [00:00<?, ?it/s]"
      ]
     },
     "metadata": {},
     "output_type": "display_data"
    }
   ],
   "source": [
    "model_uri = f\"runs:/{RUN_ID}/lightgbm\"\n",
    "# The model is logged with an input example\n",
    "pyfunc_model = mlflow.pyfunc.load_model(model_uri)\n",
    "input_data = pyfunc_model.input_example"
   ]
  },
  {
   "cell_type": "code",
   "execution_count": 95,
   "metadata": {},
   "outputs": [],
   "source": [
    "json_data = json.loads(input_data.to_json(orient=\"split\"))\n",
    "json_data.pop(\"index\", None)\n",
    "json_data = {\"dataframe_split\": json_data}\n",
    "# json_data = json.dumps(json_data, indent=4)\n",
    "# print(json_data)\n",
    "# json_data"
   ]
  },
  {
   "cell_type": "code",
   "execution_count": 80,
   "metadata": {},
   "outputs": [],
   "source": [
    "import joblib\n",
    "\n",
    "with open(f\"models/{config['model_name']}.joblib\", \"rb\") as f:\n",
    "    model = joblib.load(f)"
   ]
  },
  {
   "cell_type": "code",
   "execution_count": 89,
   "metadata": {},
   "outputs": [
    {
     "data": {
      "text/plain": [
       "dict_keys(['columns', 'data'])"
      ]
     },
     "execution_count": 89,
     "metadata": {},
     "output_type": "execute_result"
    }
   ],
   "source": [
    "json_data[\"dataframe_split\"].keys()"
   ]
  },
  {
   "cell_type": "code",
   "execution_count": null,
   "metadata": {},
   "outputs": [
    {
     "data": {
      "text/html": [
       "<div>\n",
       "<style scoped>\n",
       "    .dataframe tbody tr th:only-of-type {\n",
       "        vertical-align: middle;\n",
       "    }\n",
       "\n",
       "    .dataframe tbody tr th {\n",
       "        vertical-align: top;\n",
       "    }\n",
       "\n",
       "    .dataframe thead th {\n",
       "        text-align: right;\n",
       "    }\n",
       "</style>\n",
       "<table border=\"1\" class=\"dataframe\">\n",
       "  <thead>\n",
       "    <tr style=\"text-align: right;\">\n",
       "      <th></th>\n",
       "      <th>county</th>\n",
       "      <th>is_business</th>\n",
       "      <th>product_type</th>\n",
       "      <th>is_consumption</th>\n",
       "      <th>prediction_unit_id</th>\n",
       "      <th>lag48</th>\n",
       "      <th>lag49</th>\n",
       "      <th>lag50</th>\n",
       "      <th>lag51</th>\n",
       "      <th>expanding_mean_lag48</th>\n",
       "      <th>rolling_mean_lag48_window_size4</th>\n",
       "      <th>expanding_mean_lag49</th>\n",
       "      <th>rolling_mean_lag49_window_size4</th>\n",
       "      <th>expanding_mean_lag50</th>\n",
       "      <th>rolling_mean_lag50_window_size4</th>\n",
       "      <th>expanding_mean_lag51</th>\n",
       "      <th>rolling_mean_lag51_window_size4</th>\n",
       "      <th>month</th>\n",
       "      <th>dayofweek</th>\n",
       "      <th>hour</th>\n",
       "    </tr>\n",
       "  </thead>\n",
       "  <tbody>\n",
       "    <tr>\n",
       "      <th>0</th>\n",
       "      <td>11</td>\n",
       "      <td>0</td>\n",
       "      <td>1</td>\n",
       "      <td>1</td>\n",
       "      <td>43</td>\n",
       "      <td>24.152</td>\n",
       "      <td>23.939</td>\n",
       "      <td>20.023</td>\n",
       "      <td>20.48</td>\n",
       "      <td>21.783714</td>\n",
       "      <td>22.1485</td>\n",
       "      <td>21.389</td>\n",
       "      <td>21.77725</td>\n",
       "      <td>20.879</td>\n",
       "      <td>20.824</td>\n",
       "      <td>21.093</td>\n",
       "      <td>21.093</td>\n",
       "      <td>9</td>\n",
       "      <td>4</td>\n",
       "      <td>6</td>\n",
       "    </tr>\n",
       "  </tbody>\n",
       "</table>\n",
       "</div>"
      ],
      "text/plain": [
       "   county  is_business  product_type  is_consumption  prediction_unit_id  \\\n",
       "0      11            0             1               1                  43   \n",
       "\n",
       "    lag48   lag49   lag50  lag51  expanding_mean_lag48  \\\n",
       "0  24.152  23.939  20.023  20.48             21.783714   \n",
       "\n",
       "   rolling_mean_lag48_window_size4  expanding_mean_lag49  \\\n",
       "0                          22.1485                21.389   \n",
       "\n",
       "   rolling_mean_lag49_window_size4  expanding_mean_lag50  \\\n",
       "0                         21.77725                20.879   \n",
       "\n",
       "   rolling_mean_lag50_window_size4  expanding_mean_lag51  \\\n",
       "0                           20.824                21.093   \n",
       "\n",
       "   rolling_mean_lag51_window_size4  month  dayofweek  hour  \n",
       "0                           21.093      9          4     6  "
      ]
     },
     "execution_count": 91,
     "metadata": {},
     "output_type": "execute_result"
    }
   ],
   "source": [
    "pd.DataFrame(\n",
    "    data=json_data[\"dataframe_split\"][\"data\"],\n",
    "    columns=json_data[\"dataframe_split\"][\"columns\"],\n",
    ")"
   ]
  },
  {
   "cell_type": "code",
   "execution_count": 92,
   "metadata": {},
   "outputs": [
    {
     "data": {
      "text/plain": [
       "<Response [200]>"
      ]
     },
     "execution_count": 92,
     "metadata": {},
     "output_type": "execute_result"
    }
   ],
   "source": [
    "# get predictions\n",
    "url = f\"http://{address}:{PORT}/predict\"\n",
    "r = requests.post(url, headers={\"Content-Type\": \"application/json\"}, json=json_data)\n",
    "r"
   ]
  },
  {
   "cell_type": "code",
   "execution_count": 94,
   "metadata": {},
   "outputs": [
    {
     "name": "stdout",
     "output_type": "stream",
     "text": [
      "{'prediction': '[np.float64(222.22662234600898)]'}\n"
     ]
    }
   ],
   "source": [
    "print(r.json())"
   ]
  },
  {
   "cell_type": "code",
   "execution_count": null,
   "metadata": {},
   "outputs": [],
   "source": []
  }
 ],
 "metadata": {
  "kernelspec": {
   "display_name": ".venv",
   "language": "python",
   "name": "python3"
  },
  "language_info": {
   "codemirror_mode": {
    "name": "ipython",
    "version": 3
   },
   "file_extension": ".py",
   "mimetype": "text/x-python",
   "name": "python",
   "nbconvert_exporter": "python",
   "pygments_lexer": "ipython3",
   "version": "3.10.11"
  }
 },
 "nbformat": 4,
 "nbformat_minor": 2
}
