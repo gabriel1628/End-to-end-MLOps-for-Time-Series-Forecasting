{
 "cells": [
  {
   "cell_type": "code",
   "execution_count": null,
   "id": "287bb5c7",
   "metadata": {},
   "outputs": [],
   "source": [
    "import pandas as pd\n",
    "import numpy as np\n",
    "import matplotlib.pyplot as plt\n",
    "import seaborn as sns\n",
    "import plotly.express as px\n",
    "import plotly.graph_objects as go\n",
    "import plotly.figure_factory as ff\n",
    "import plotly.io as pio\n",
    "\n",
    "pio.templates.default = \"seaborn\"\n",
    "sns.set_theme()"
   ]
  },
  {
   "cell_type": "code",
   "execution_count": null,
   "id": "078b8acd",
   "metadata": {},
   "outputs": [],
   "source": [
    "df = pd.read_csv(\"../data/raw/train.csv\", parse_dates=[\"datetime\"])\n",
    "df.head()"
   ]
  },
  {
   "cell_type": "code",
   "execution_count": null,
   "id": "7526dbb9",
   "metadata": {},
   "outputs": [],
   "source": [
    "df.info()"
   ]
  },
  {
   "cell_type": "code",
   "execution_count": null,
   "id": "9ea9276b",
   "metadata": {},
   "outputs": [],
   "source": [
    "df.dtypes"
   ]
  },
  {
   "cell_type": "code",
   "execution_count": null,
   "id": "3525a0a2",
   "metadata": {},
   "outputs": [],
   "source": [
    "for col in df.dtypes[df.dtypes == \"int\"].index:\n",
    "    df[col] = pd.to_numeric(df[col], downcast=\"unsigned\")"
   ]
  },
  {
   "cell_type": "code",
   "execution_count": null,
   "id": "468de807",
   "metadata": {},
   "outputs": [],
   "source": [
    "df[\"target\"] = pd.to_numeric(df[\"target\"], downcast=\"float\")"
   ]
  },
  {
   "cell_type": "code",
   "execution_count": null,
   "id": "2949b3c2",
   "metadata": {},
   "outputs": [],
   "source": [
    "df.info()"
   ]
  },
  {
   "cell_type": "code",
   "execution_count": null,
   "id": "ad54771b",
   "metadata": {},
   "outputs": [],
   "source": [
    "df.to_parquet(\"./data/data.parquet\", index=False)"
   ]
  },
  {
   "cell_type": "code",
   "execution_count": null,
   "id": "36d4f843",
   "metadata": {},
   "outputs": [],
   "source": [
    "df = pd.read_parquet(\"./data/data.parquet\")\n",
    "df.info()"
   ]
  },
  {
   "cell_type": "code",
   "execution_count": null,
   "id": "7e69d955",
   "metadata": {},
   "outputs": [],
   "source": [
    "df.nunique()"
   ]
  },
  {
   "cell_type": "code",
   "execution_count": null,
   "id": "2fd69de1",
   "metadata": {},
   "outputs": [],
   "source": [
    "production = df[df[\"is_consumption\"] == 0].drop(columns=[\"is_consumption\"])\n",
    "consumption = df[df[\"is_consumption\"] == 1].drop(columns=[\"is_consumption\"])"
   ]
  },
  {
   "cell_type": "markdown",
   "id": "1ce5dd67",
   "metadata": {},
   "source": [
    "# county"
   ]
  },
  {
   "cell_type": "code",
   "execution_count": null,
   "id": "f9dd3887",
   "metadata": {},
   "outputs": [],
   "source": [
    "ax = sns.histplot(consumption, x=\"county\")"
   ]
  },
  {
   "cell_type": "code",
   "execution_count": null,
   "id": "6be517ab",
   "metadata": {},
   "outputs": [],
   "source": [
    "fig = px.histogram(consumption, x=\"county\")\n",
    "fig.show()"
   ]
  },
  {
   "cell_type": "code",
   "execution_count": null,
   "id": "116059a5",
   "metadata": {},
   "outputs": [],
   "source": [
    "consumption[\"county\"] = consumption[\"county\"].astype(\"category\")\n",
    "consumption[\"county\"].cat.categories"
   ]
  },
  {
   "cell_type": "code",
   "execution_count": null,
   "id": "bb167706",
   "metadata": {},
   "outputs": [],
   "source": [
    "ax = sns.histplot(consumption, x=\"county\")"
   ]
  },
  {
   "cell_type": "code",
   "execution_count": null,
   "id": "5bd1eb3f",
   "metadata": {},
   "outputs": [],
   "source": [
    "fig = px.histogram(consumption, x=\"county\")\n",
    "fig.show()"
   ]
  },
  {
   "cell_type": "markdown",
   "id": "492034f1",
   "metadata": {},
   "source": [
    "# is_business"
   ]
  },
  {
   "cell_type": "code",
   "execution_count": null,
   "id": "20ca556e",
   "metadata": {},
   "outputs": [],
   "source": [
    "consumption[\"is_business\"].dtype"
   ]
  },
  {
   "cell_type": "code",
   "execution_count": null,
   "id": "4a332c74",
   "metadata": {},
   "outputs": [],
   "source": [
    "consumption[\"is_business\"].unique()"
   ]
  },
  {
   "cell_type": "code",
   "execution_count": null,
   "id": "e1d96a4c",
   "metadata": {},
   "outputs": [],
   "source": [
    "consumption[\"is_business\"] = consumption[\"is_business\"].astype(\"bool\")"
   ]
  },
  {
   "cell_type": "code",
   "execution_count": null,
   "id": "ed77f0be",
   "metadata": {},
   "outputs": [],
   "source": [
    "consumption[\"is_business\"]  # 0: False, 1: True"
   ]
  },
  {
   "cell_type": "code",
   "execution_count": null,
   "id": "ab76e6b0",
   "metadata": {},
   "outputs": [],
   "source": [
    "ax = sns.histplot(consumption, x=\"is_business\")"
   ]
  },
  {
   "cell_type": "code",
   "execution_count": null,
   "id": "2ed0f8e9",
   "metadata": {},
   "outputs": [],
   "source": [
    "fig = px.histogram(consumption, x=\"is_business\")\n",
    "fig.show()"
   ]
  },
  {
   "cell_type": "markdown",
   "id": "5e9f846e",
   "metadata": {},
   "source": [
    "# product_type"
   ]
  },
  {
   "cell_type": "code",
   "execution_count": null,
   "id": "2b6dd678",
   "metadata": {},
   "outputs": [],
   "source": [
    "consumption[\"product_type\"].dtype"
   ]
  },
  {
   "cell_type": "code",
   "execution_count": null,
   "id": "05bd92c1",
   "metadata": {},
   "outputs": [],
   "source": [
    "consumption[\"product_type\"].unique()"
   ]
  },
  {
   "cell_type": "code",
   "execution_count": null,
   "id": "bd47757d",
   "metadata": {},
   "outputs": [],
   "source": [
    "consumption[\"product_type\"] = consumption[\"product_type\"].astype(\"category\")"
   ]
  },
  {
   "cell_type": "code",
   "execution_count": null,
   "id": "f33f3122",
   "metadata": {},
   "outputs": [],
   "source": [
    "consumption[\"product_type\"]"
   ]
  },
  {
   "cell_type": "code",
   "execution_count": null,
   "id": "3cdd6187",
   "metadata": {},
   "outputs": [],
   "source": [
    "ax = sns.histplot(consumption, x=\"product_type\")"
   ]
  },
  {
   "cell_type": "code",
   "execution_count": null,
   "id": "9d807e08",
   "metadata": {},
   "outputs": [],
   "source": [
    "fig = px.histogram(df, x=\"product_type\")\n",
    "fig.show()"
   ]
  },
  {
   "cell_type": "markdown",
   "id": "a8cb615b",
   "metadata": {},
   "source": [
    "# target"
   ]
  },
  {
   "cell_type": "code",
   "execution_count": null,
   "id": "69d48e65",
   "metadata": {},
   "outputs": [],
   "source": [
    "consumption[\"target\"].dtype"
   ]
  },
  {
   "cell_type": "code",
   "execution_count": null,
   "id": "0da73de4",
   "metadata": {},
   "outputs": [],
   "source": [
    "consumption[\"target\"].describe()"
   ]
  },
  {
   "cell_type": "markdown",
   "id": "16f7ed9b",
   "metadata": {},
   "source": [
    "## Histograms"
   ]
  },
  {
   "cell_type": "markdown",
   "id": "195689c9",
   "metadata": {},
   "source": [
    "### Linear scale"
   ]
  },
  {
   "cell_type": "code",
   "execution_count": null,
   "id": "7a680cf9",
   "metadata": {},
   "outputs": [],
   "source": [
    "ax = sns.histplot(consumption, x=\"target\")"
   ]
  },
  {
   "cell_type": "code",
   "execution_count": null,
   "id": "24987960",
   "metadata": {},
   "outputs": [],
   "source": [
    "fig = px.histogram(consumption, x=\"target\")\n",
    "fig.show()"
   ]
  },
  {
   "cell_type": "markdown",
   "id": "572252c1",
   "metadata": {},
   "source": [
    "### Log scale on y-axis"
   ]
  },
  {
   "cell_type": "code",
   "execution_count": null,
   "id": "5281476b",
   "metadata": {},
   "outputs": [],
   "source": [
    "fig = px.histogram(consumption, x=\"target\", log_y=True)\n",
    "fig.show()"
   ]
  },
  {
   "cell_type": "markdown",
   "id": "4f3044b4",
   "metadata": {},
   "source": [
    "<!-- ### Log scale on x-axis -->"
   ]
  },
  {
   "cell_type": "code",
   "execution_count": null,
   "id": "7fdc96fd",
   "metadata": {},
   "outputs": [],
   "source": [
    "ax = sns.histplot(consumption, x=\"target\", log_scale=True)"
   ]
  },
  {
   "cell_type": "code",
   "execution_count": null,
   "id": "bf9b3840",
   "metadata": {},
   "outputs": [],
   "source": [
    "x = consumption[\"target\"] + 1e-4\n",
    "fig = px.histogram(x=x)\n",
    "fig.show()"
   ]
  },
  {
   "cell_type": "markdown",
   "id": "75cf6ed9",
   "metadata": {},
   "source": [
    "<!-- ## Overlay histograms -->"
   ]
  },
  {
   "cell_type": "code",
   "execution_count": null,
   "id": "db49b194",
   "metadata": {},
   "outputs": [],
   "source": [
    "consumption0 = consumption[consumption[\"prediction_unit_id\"] == 0]\n",
    "consumption1 = consumption[consumption[\"prediction_unit_id\"] == 1]\n",
    "consumption2 = consumption[consumption[\"prediction_unit_id\"] == 2]\n",
    "x0 = consumption0[\"target\"] + 1e-4\n",
    "x1 = consumption1[\"target\"] + 1e-4\n",
    "x2 = consumption2[\"target\"] + 1e-4"
   ]
  },
  {
   "cell_type": "code",
   "execution_count": null,
   "id": "98d1a24a",
   "metadata": {},
   "outputs": [],
   "source": [
    "fig = go.Figure()\n",
    "fig.add_trace(go.Histogram(x=x0))\n",
    "# fig.add_trace(go.Histogram(x=x1))\n",
    "# fig.add_trace(go.Histogram(x=x2))\n",
    "fig.update_xaxes(type=\"log\")\n",
    "# Overlay histograms\n",
    "fig.update_layout(barmode=\"overlay\")\n",
    "# Reduce opacity to see histograms\n",
    "fig.update_traces(opacity=0.5)\n",
    "fig.show()"
   ]
  },
  {
   "cell_type": "code",
   "execution_count": null,
   "id": "cbcbc828",
   "metadata": {},
   "outputs": [],
   "source": [
    "consumption_sample = consumption[consumption[\"prediction_unit_id\"].isin([0, 1, 2])]\n",
    "ax = sns.histplot(\n",
    "    consumption_sample, x=\"target\", hue=\"prediction_unit_id\", log_scale=True\n",
    ")"
   ]
  },
  {
   "cell_type": "markdown",
   "id": "1298e620",
   "metadata": {},
   "source": [
    "## KDE plot"
   ]
  },
  {
   "cell_type": "code",
   "execution_count": null,
   "id": "febe5905",
   "metadata": {},
   "outputs": [],
   "source": [
    "x = consumption[\"target\"] + 0.00001\n",
    "sns.kdeplot(data=x, log_scale=True)"
   ]
  },
  {
   "cell_type": "code",
   "execution_count": null,
   "id": "b342922f",
   "metadata": {},
   "outputs": [],
   "source": [
    "consumption_sample = consumption[consumption[\"prediction_unit_id\"].isin([0, 1, 2])]\n",
    "ax = sns.kdeplot(\n",
    "    consumption_sample,\n",
    "    x=\"target\",\n",
    "    hue=\"prediction_unit_id\",\n",
    "    log_scale=True,\n",
    "    fill=True,\n",
    "    palette=\"tab10\",\n",
    "    linewidth=0,\n",
    "    alpha=0.4,\n",
    ")"
   ]
  },
  {
   "cell_type": "code",
   "execution_count": null,
   "id": "1d8e7599",
   "metadata": {},
   "outputs": [],
   "source": [
    "# fig = ff.create_distplot(\n",
    "#     [consumption[\"target\"].ffill()],\n",
    "#     [\"target\"],\n",
    "#     show_hist=False,\n",
    "#     show_rug=False,\n",
    "# )\n",
    "# fig.update_xaxes(type=\"log\")\n",
    "# fig.show()"
   ]
  },
  {
   "cell_type": "code",
   "execution_count": null,
   "id": "f5f3d967",
   "metadata": {},
   "outputs": [],
   "source": [
    "# fig = ff.create_distplot(\n",
    "#     [consumption[\"target\"].ffill()],\n",
    "#     [\"target\"],\n",
    "#     show_hist=False,\n",
    "#     show_rug=False,\n",
    "# )\n",
    "# fig.update_yaxes(type=\"log\")\n",
    "# fig.show()"
   ]
  },
  {
   "cell_type": "markdown",
   "id": "156ac269",
   "metadata": {},
   "source": [
    "## Day hours distribution"
   ]
  },
  {
   "cell_type": "code",
   "execution_count": null,
   "id": "62b0b279",
   "metadata": {},
   "outputs": [],
   "source": [
    "production[\"target\"].describe()"
   ]
  },
  {
   "cell_type": "code",
   "execution_count": null,
   "id": "72cb7b64",
   "metadata": {},
   "outputs": [],
   "source": [
    "mask = (production[\"datetime\"].dt.hour >= 8) & (production[\"datetime\"].dt.hour < 20)\n",
    "production.loc[mask, \"target\"].describe()"
   ]
  },
  {
   "cell_type": "code",
   "execution_count": null,
   "id": "2181b968",
   "metadata": {},
   "outputs": [],
   "source": [
    "x = production.loc[mask, \"target\"].to_frame()"
   ]
  },
  {
   "cell_type": "code",
   "execution_count": null,
   "id": "feb97bdd",
   "metadata": {},
   "outputs": [],
   "source": [
    "fig = px.histogram(x, x=\"target\", log_y=True)\n",
    "fig.show()"
   ]
  },
  {
   "cell_type": "markdown",
   "id": "dbd8ff7c",
   "metadata": {},
   "source": [
    "## Daily data"
   ]
  },
  {
   "cell_type": "code",
   "execution_count": null,
   "id": "c6e9bcec",
   "metadata": {},
   "outputs": [],
   "source": [
    "consumption_list = [\n",
    "    consumption[consumption[\"prediction_unit_id\"] == i].set_index(\"datetime\")\n",
    "    for i in consumption[\"prediction_unit_id\"].unique()\n",
    "]\n",
    "len(consumption_list)"
   ]
  },
  {
   "cell_type": "code",
   "execution_count": null,
   "id": "58e7299c",
   "metadata": {},
   "outputs": [],
   "source": [
    "consumption0 = consumption_list[0]\n",
    "consumption0[\"prediction_unit_id\"].unique()"
   ]
  },
  {
   "cell_type": "code",
   "execution_count": null,
   "id": "e957d9b5",
   "metadata": {},
   "outputs": [],
   "source": [
    "consumption0_resample = consumption0[\"target\"].resample(\"D\").sum()\n",
    "consumption0_resample.describe()"
   ]
  },
  {
   "cell_type": "code",
   "execution_count": null,
   "id": "be2fb87d",
   "metadata": {},
   "outputs": [],
   "source": [
    "sns.displot(consumption0_resample)"
   ]
  },
  {
   "cell_type": "markdown",
   "id": "26853e0f",
   "metadata": {},
   "source": [
    "## Target vs datetime"
   ]
  },
  {
   "cell_type": "code",
   "execution_count": null,
   "id": "2c8a2a5a",
   "metadata": {},
   "outputs": [],
   "source": [
    "x = consumption[[\"target\", \"datetime\"]].copy()\n",
    "x[\"hour\"] = x[\"datetime\"].dt.hour\n",
    "x[\"day\"] = x[\"datetime\"].dt.day\n",
    "x[\"month\"] = x[\"datetime\"].dt.month\n",
    "x[\"year\"] = x[\"datetime\"].dt.year\n",
    "x[\"dayofweek\"] = x[\"datetime\"].dt.dayofweek\n",
    "x[\"dayofyear\"] = x[\"datetime\"].dt.dayofyear\n",
    "x[\"weekofyear\"] = x[\"datetime\"].dt.isocalendar().week"
   ]
  },
  {
   "cell_type": "code",
   "execution_count": null,
   "id": "3ed7da2c",
   "metadata": {},
   "outputs": [],
   "source": [
    "x.shape"
   ]
  },
  {
   "cell_type": "code",
   "execution_count": null,
   "id": "be5b67c2",
   "metadata": {},
   "outputs": [],
   "source": [
    "y = df[[\"target\", \"datetime\"]].copy().set_index(\"datetime\")\n",
    "y.head()"
   ]
  },
  {
   "cell_type": "code",
   "execution_count": null,
   "id": "845eeeb8",
   "metadata": {},
   "outputs": [],
   "source": [
    "y = y.resample(\"h\").sum()\n",
    "y.shape"
   ]
  },
  {
   "cell_type": "code",
   "execution_count": null,
   "id": "b0de2688",
   "metadata": {},
   "outputs": [],
   "source": [
    "y.head()"
   ]
  },
  {
   "cell_type": "code",
   "execution_count": null,
   "id": "37cdd2a9",
   "metadata": {},
   "outputs": [],
   "source": [
    "sns.displot(y, x=\"target\")"
   ]
  },
  {
   "cell_type": "code",
   "execution_count": null,
   "id": "d6419b20",
   "metadata": {},
   "outputs": [],
   "source": [
    "fig = px.histogram(y, x=\"target\")\n",
    "fig.show()"
   ]
  },
  {
   "cell_type": "markdown",
   "id": "2421f20c",
   "metadata": {},
   "source": [
    "## Aggregated data"
   ]
  },
  {
   "cell_type": "code",
   "execution_count": null,
   "id": "fa9c5309",
   "metadata": {},
   "outputs": [],
   "source": [
    "y = consumption[[\"target\", \"datetime\"]].copy().set_index(\"datetime\")\n",
    "y.head()"
   ]
  },
  {
   "cell_type": "code",
   "execution_count": null,
   "id": "a71a499d",
   "metadata": {},
   "outputs": [],
   "source": [
    "y_sum = y.resample(\"D\").sum()\n",
    "y_sum.shape"
   ]
  },
  {
   "cell_type": "code",
   "execution_count": null,
   "id": "ce580d23",
   "metadata": {},
   "outputs": [],
   "source": [
    "y_sum.plot()"
   ]
  },
  {
   "cell_type": "code",
   "execution_count": null,
   "id": "ce6cdd8f",
   "metadata": {},
   "outputs": [],
   "source": [
    "sns.lineplot(data=y_sum)"
   ]
  },
  {
   "cell_type": "code",
   "execution_count": null,
   "id": "fe883db1",
   "metadata": {},
   "outputs": [],
   "source": []
  },
  {
   "cell_type": "code",
   "execution_count": null,
   "id": "311086d6",
   "metadata": {},
   "outputs": [],
   "source": []
  },
  {
   "cell_type": "markdown",
   "id": "8148a114",
   "metadata": {},
   "source": [
    "# is_consumption"
   ]
  },
  {
   "cell_type": "markdown",
   "id": "0df3e2eb",
   "metadata": {},
   "source": [
    "# datetime"
   ]
  },
  {
   "cell_type": "markdown",
   "id": "fb099a09",
   "metadata": {},
   "source": [
    "# data_block_id"
   ]
  },
  {
   "cell_type": "markdown",
   "id": "956b73ca",
   "metadata": {},
   "source": [
    "# row_id"
   ]
  },
  {
   "cell_type": "markdown",
   "id": "e3861729",
   "metadata": {},
   "source": [
    "# prediction_unit_id"
   ]
  },
  {
   "cell_type": "markdown",
   "id": "68330ad4",
   "metadata": {},
   "source": []
  }
 ],
 "metadata": {
  "kernelspec": {
   "display_name": ".venv",
   "language": "python",
   "name": "python3"
  },
  "language_info": {
   "codemirror_mode": {
    "name": "ipython",
    "version": 3
   },
   "file_extension": ".py",
   "mimetype": "text/x-python",
   "name": "python",
   "nbconvert_exporter": "python",
   "pygments_lexer": "ipython3",
   "version": "3.12.9"
  }
 },
 "nbformat": 4,
 "nbformat_minor": 5
}
