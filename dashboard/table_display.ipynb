{
 "cells": [
  {
   "cell_type": "code",
   "execution_count": null,
   "id": "a451bc58",
   "metadata": {},
   "outputs": [],
   "source": []
  },
  {
   "cell_type": "code",
   "execution_count": null,
   "id": "18fd1b4f",
   "metadata": {},
   "outputs": [],
   "source": [
    "cell_hover = {  # for row hover use <tr> instead of <td>\n",
    "    \"selector\": \"td:hover\",\n",
    "    \"props\": [(\"background-color\", \"#ffffb3\")],\n",
    "}\n",
    "index_names = {\n",
    "    \"selector\": \".index_name\",\n",
    "    \"props\": \"font-style: italic; color: darkgrey; font-weight:normal;\",\n",
    "}\n",
    "headers = {\n",
    "    \"selector\": \"th:not(.index_name)\",\n",
    "    \"props\": \"background-color: #000066; color: white;\",\n",
    "}\n",
    "s = consumption.describe().style.format(\"{:.0f}\")\n",
    "s.set_table_styles([cell_hover, index_names, headers])\n",
    "columns = [\"prediction_unit_id\", \"target\", \"county\", \"datetime\"]\n",
    "s = (\n",
    "    consumption[columns]\n",
    "    .describe()\n",
    "    .T.style.format(precision=3, thousands=\",\", decimal=\".\")\n",
    ")\n",
    "s = s.set_table_styles([cell_hover, index_names, headers])\n",
    "s"
   ]
  },
  {
   "cell_type": "code",
   "execution_count": null,
   "id": "ff410073",
   "metadata": {},
   "outputs": [],
   "source": [
    "colourcode = [\n",
    "    \"#ffcf8b\",\n",
    "    \"#F0F2F6\",\n",
    "    # \"#F6D55C\",\n",
    "]\n",
    "data = consumption.describe().T\n",
    "table = go.Table(\n",
    "    columnorder=[i for i in range(0, data.shape[1])],\n",
    "    columnwidth=[18, 12],\n",
    "    header=dict(\n",
    "        values=list(data.columns),\n",
    "        font=dict(size=11, color=\"white\"),\n",
    "        fill_color=\"#264653\",\n",
    "        line_color=\"rgba(255,255,255,0.2)\",\n",
    "        align=[\"left\", \"center\"],\n",
    "        # text wrapping\n",
    "        height=20,\n",
    "    ),\n",
    "    cells=dict(\n",
    "        values=[data[K].tolist() for K in data.columns],\n",
    "        font=dict(size=10),\n",
    "        align=[\"left\", \"center\"],\n",
    "        fill_color=colourcode,\n",
    "        line_color=\"rgba(255,255,255,0.2)\",\n",
    "        height=20,\n",
    "    ),\n",
    ")\n",
    "fig = go.Figure(data=[table])\n",
    "fig.update_layout(\n",
    "    title_text=\"Current Waiting Handovers\",\n",
    "    # title_font_color=\"#264653\",\n",
    "    title_x=0,\n",
    "    margin=dict(l=0, r=10, b=10, t=30),\n",
    "    height=480,\n",
    ")"
   ]
  }
 ],
 "metadata": {
  "language_info": {
   "name": "python"
  }
 },
 "nbformat": 4,
 "nbformat_minor": 5
}
